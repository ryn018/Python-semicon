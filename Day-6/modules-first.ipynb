{
 "cells": [
  {
   "cell_type": "markdown",
   "metadata": {},
   "source": []
  },
  {
   "cell_type": "markdown",
   "metadata": {},
   "source": [
    "Creating modules\n",
    "------------------\n",
    "create file\n",
    "write all functions you need\n",
    "We can make it installable\n",
    "\n",
    "import fibinocci as fb:"
   ]
  }
 ],
 "metadata": {
  "language_info": {
   "name": "python"
  }
 },
 "nbformat": 4,
 "nbformat_minor": 2
}
