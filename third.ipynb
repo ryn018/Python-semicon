{
 "cells": [
  {
   "cell_type": "markdown",
   "metadata": {},
   "source": [
    "1. Write a program to calculate the height of a building given the \n",
    "   distance of the measuring instrument from the building and angle formed \n",
    "   at the observer when the highest point is seen [15]"
   ]
  },
  {
   "cell_type": "code",
   "execution_count": 37,
   "metadata": {},
   "outputs": [
    {
     "ename": "",
     "evalue": "",
     "output_type": "error",
     "traceback": [
      "\u001b[1;31mThe Kernel crashed while executing code in the current cell or a previous cell. \n",
      "\u001b[1;31mPlease review the code in the cell(s) to identify a possible cause of the failure. \n",
      "\u001b[1;31mClick <a href='https://aka.ms/vscodeJupyterKernelCrash'>here</a> for more info. \n",
      "\u001b[1;31mView Jupyter <a href='command:jupyter.viewOutput'>log</a> for further details."
     ]
    }
   ],
   "source": [
    "# chaining of operators\n",
    "import math\n",
    "distance_in_feet = int(input(\"Enter the distance: \"))\n",
    "angle = float(input(\"Enter the angle formed: \"))\n",
    "angle_rad = math.radians(angle)\n",
    "distance_in_meter = distance_in_feet * 0.3048\n",
    "\n",
    "height = distance_in_meter * math.tan(angle_rad)\n",
    "print(height)"
   ]
  },
  {
   "cell_type": "markdown",
   "metadata": {},
   "source": [
    "Given three points in space A, B and C, determine if the points make a isoceles\n",
    "   triangle, or right angled triangle or both [15]"
   ]
  },
  {
   "cell_type": "code",
   "execution_count": null,
   "metadata": {},
   "outputs": [],
   "source": [
    "x1 = int(input(\"Enter point x1: \"))\n",
    "x2 = int(input(\"Enter point x2: \"))\n",
    "y1 = int(input(\"Enter point y2: \"))\n",
    "y2 = int(input(\"Enter point y2: \"))\n",
    "x3 = int(input(\"Enter point x3: \"))\n",
    "y3 = int(input(\"Enter point y3: \"))\n",
    "\n",
    "side_a = math.sqrt((x2 - x1) ** 2 + (y2 - y1) ** 2)\n",
    "side_b = math.sqrt((x3 - x2) ** 2 + (y3 - y2) ** 2)\n",
    "side_c = math.sqrt((x3 - x1) ** 2 + (y3 - y1) ** 2)\n",
    "\n",
    "if side_a == side_b or side_b == side_c or side_c == side_a:\n",
    "    same_side = True\n",
    "    print(\"The triangle is isocelses\")\n",
    "\n",
    "## Finding hypotneus\n",
    "hyp = max(side_a,side_b,side_c)\n",
    "\n",
    "if hyp == side_a:\n",
    "    side1, side2 = side_b, side_c\n",
    "\n",
    "elif hyp == side_b:\n",
    "    side1, side2 = side_a, side_c\n",
    "    \n",
    "else:\n",
    "    side1, side2 = side_a, side_b\n",
    "\n",
    "if hyp ** 2 == (side1 ** 2) + (side2 ** 2):\n",
    "    hypo = True \n",
    "    if hypo == True and same_side == True:\n",
    "           print(\"Both right angled and isoceles\")\n",
    "    else:\n",
    "         print(\"Triangle is only right angled\")\n",
    "\n",
    "elif same_side == True:\n",
    "     print(\"Triangle is only isocelse\")\n",
    "else:\n",
    "     print(\"None of the above\")\n",
    "     \n",
    "\n",
    "   \n",
    " \n",
    "\n",
    "\n"
   ]
  },
  {
   "cell_type": "markdown",
   "metadata": {},
   "source": [
    "Design a simple calculator which has the following functionality:\n",
    "   add, sub, mul, div, mod, sqrt, log [15]"
   ]
  },
  {
   "cell_type": "code",
   "execution_count": null,
   "metadata": {},
   "outputs": [],
   "source": [
    "import math\n",
    "print(\"Welcome to calculator application\")\n",
    "print(\"Choose the mode of calculation you need to perform , chose between '+', '-', '*', '/', '%', 'sqrt', 'log': \")\n",
    "\n",
    "operator = input(\"Enter the operation you need to perfrorm:\")\n",
    "\n",
    "print(\"Enter the 2 numbers in which you need perform the operation: \")\n",
    "num1 = int(input(\"Enter the first number: \"))\n",
    "if operator == 'sqrt':\n",
    "    answer = math.sqrt(num1)\n",
    "elif operator == 'log':\n",
    "    answer = math.log(num1)\n",
    "num2 = int(input(\"Enter the second number: \"))\n",
    "\n",
    "if operator == '+':\n",
    "    answer = num1 + num2\n",
    "elif  operator == '-':\n",
    "    answer = num1 - num2\n",
    "elif  operator == '*':\n",
    "    answer = num1 * num2\n",
    "elif  operator == '/':\n",
    "    answer = num1 / num2\n",
    "elif  operator == '%':\n",
    "    answer = num1 % num2\n",
    "\n",
    "print(answer)\n"
   ]
  },
  {
   "cell_type": "code",
   "execution_count": 1,
   "metadata": {},
   "outputs": [
    {
     "data": {
      "text/plain": [
       "4"
      ]
     },
     "execution_count": 1,
     "metadata": {},
     "output_type": "execute_result"
    }
   ],
   "source": [
    "\"river\".rfind('r')"
   ]
  },
  {
   "cell_type": "code",
   "execution_count": null,
   "metadata": {},
   "outputs": [],
   "source": [
    "str1 ='boat'\n",
    "str1.rjust(8,'.')"
   ]
  },
  {
   "cell_type": "markdown",
   "metadata": {},
   "source": []
  },
  {
   "cell_type": "code",
   "execution_count": 6,
   "metadata": {},
   "outputs": [
    {
     "name": "stdout",
     "output_type": "stream",
     "text": [
      "192.168.1.1\n"
     ]
    }
   ],
   "source": [
    "# Given an IP address string \"192-168-1-1\" correct it\n",
    "ip = '192-168-1-1'\n",
    "new_ip = ip.replace('-','.')\n",
    "print(new_ip)"
   ]
  },
  {
   "cell_type": "code",
   "execution_count": 7,
   "metadata": {},
   "outputs": [
    {
     "name": "stdout",
     "output_type": "stream",
     "text": [
      "HELLO WORLD\n"
     ]
    }
   ],
   "source": [
    "# Convert \"hello world\" to uppercase\n",
    "print('hello world'.upper())"
   ]
  },
  {
   "cell_type": "code",
   "execution_count": 8,
   "metadata": {},
   "outputs": [
    {
     "data": {
      "text/plain": [
       "'pYtHoN sTrInGs'"
      ]
     },
     "execution_count": 8,
     "metadata": {},
     "output_type": "execute_result"
    }
   ],
   "source": [
    "# Swap the case of \"PyThOn StRiNgS\"\n",
    "str = \"PyThOn StRiNgS\"\n",
    "str.swapcase()"
   ]
  },
  {
   "cell_type": "code",
   "execution_count": 10,
   "metadata": {},
   "outputs": [
    {
     "name": "stdout",
     "output_type": "stream",
     "text": [
      "14\n"
     ]
    }
   ],
   "source": [
    "# Find the length of \"Hello, Python!\"\n",
    "print(len(\"Hello, Python!\"))"
   ]
  },
  {
   "cell_type": "code",
   "execution_count": 11,
   "metadata": {},
   "outputs": [
    {
     "name": "stdout",
     "output_type": "stream",
     "text": [
      "4\n"
     ]
    }
   ],
   "source": [
    "# Count how many times \"e\" appears in \"experience\"\n",
    "print(\"experience\".count(\"e\"))"
   ]
  },
  {
   "cell_type": "code",
   "execution_count": 13,
   "metadata": {},
   "outputs": [
    {
     "name": "stdout",
     "output_type": "stream",
     "text": [
      "True\n"
     ]
    }
   ],
   "source": [
    "#  Check if \"Python programming\" starts with \"Py\"\n",
    "print(\"Python programming\".startswith(\"Py\"))"
   ]
  },
  {
   "cell_type": "code",
   "execution_count": 15,
   "metadata": {},
   "outputs": [
    {
     "name": "stdout",
     "output_type": "stream",
     "text": [
      "True\n"
     ]
    }
   ],
   "source": [
    "# Check if \"hello.txt\" ends with \".txt\"\n",
    "print(\"hello.txt\".endswith(\".txt\"))"
   ]
  },
  {
   "cell_type": "code",
   "execution_count": 33,
   "metadata": {},
   "outputs": [
    {
     "data": {
      "text/plain": [
       "6"
      ]
     },
     "execution_count": 33,
     "metadata": {},
     "output_type": "execute_result"
    }
   ],
   "source": [
    "# Find the index of \"world\" in \"hello world\"\n",
    "word = \"hello world\"\n",
    "word.index(\"world\")\n",
    "\n",
    "\n"
   ]
  },
  {
   "cell_type": "code",
   "execution_count": 18,
   "metadata": {},
   "outputs": [
    {
     "name": "stdout",
     "output_type": "stream",
     "text": [
      "I love Java\n"
     ]
    }
   ],
   "source": [
    "# Replace \"Python\" with \"Java\" in \"I love Python\"\n",
    "\n",
    "str = \"I love Python\"\n",
    "new_str = str.replace(\"Python\",\"Java\")\n",
    "print(new_str)"
   ]
  },
  {
   "cell_type": "code",
   "execution_count": 2,
   "metadata": {},
   "outputs": [
    {
     "name": "stdout",
     "output_type": "stream",
     "text": [
      "Python is     very\n"
     ]
    }
   ],
   "source": [
    "# Remove leading and trailing spaces from \" Python \"\n",
    "\n",
    "print(\" Python is     very\".strip())\n"
   ]
  },
  {
   "cell_type": "code",
   "execution_count": 21,
   "metadata": {},
   "outputs": [
    {
     "name": "stdout",
     "output_type": "stream",
     "text": [
      "['Learn', 'Python', 'Programming']\n"
     ]
    }
   ],
   "source": [
    "#  Split \"Learn Python Programming\" into words\n",
    "split = \"Learn Python Programming\".split()\n",
    "print(split)\n"
   ]
  },
  {
   "cell_type": "code",
   "execution_count": 24,
   "metadata": {},
   "outputs": [
    {
     "name": "stdout",
     "output_type": "stream",
     "text": [
      "apple,banana,cherry\n"
     ]
    }
   ],
   "source": [
    "# Join ['apple', 'banana', 'cherry'] with commas\n",
    "new = ['apple', 'banana', 'cherry'] \n",
    "one = ','.join(new)\n",
    "print(one)"
   ]
  },
  {
   "cell_type": "code",
   "execution_count": 26,
   "metadata": {},
   "outputs": [
    {
     "name": "stdout",
     "output_type": "stream",
     "text": [
      "True\n"
     ]
    }
   ],
   "source": [
    "# Check if \"Python3\" is alphanumeric\n",
    "\n",
    "print(\"Python3\".isalnum())"
   ]
  },
  {
   "cell_type": "code",
   "execution_count": 35,
   "metadata": {},
   "outputs": [
    {
     "name": "stdout",
     "output_type": "stream",
     "text": [
      "005\n"
     ]
    }
   ],
   "source": [
    "# Convert \"5\" to a 3-digit string (\"005\")\n",
    "\n",
    "print(\"5\".zfill(3))"
   ]
  },
  {
   "cell_type": "code",
   "execution_count": 3,
   "metadata": {},
   "outputs": [
    {
     "name": "stdout",
     "output_type": "stream",
     "text": [
      "Alice is    25 years old.\n"
     ]
    }
   ],
   "source": [
    "# Given name = \"Alice\" and age = 25, format \"Alice is 25 years old.\"\n",
    "name = \"Alice\"\n",
    "age = 25\n",
    "formating = \"{0:5} is {1:5} years old.\".format(name, age)\n",
    "print(formating)"
   ]
  },
  {
   "cell_type": "code",
   "execution_count": 31,
   "metadata": {},
   "outputs": [
    {
     "name": "stdout",
     "output_type": "stream",
     "text": [
      "Palliondrome\n"
     ]
    }
   ],
   "source": [
    "# Check if 'malayalam' is a palindrome\n",
    "\n",
    "word = 'malayalam'\n",
    "\n",
    "new = word[::-1]\n",
    "\n",
    "\n",
    "if word == new:\n",
    "    print(\"Palliondrome\")"
   ]
  },
  {
   "cell_type": "code",
   "execution_count": null,
   "metadata": {},
   "outputs": [],
   "source": []
  }
 ],
 "metadata": {
  "kernelspec": {
   "display_name": "Python 3",
   "language": "python",
   "name": "python3"
  },
  "language_info": {
   "codemirror_mode": {
    "name": "ipython",
    "version": 3
   },
   "file_extension": ".py",
   "mimetype": "text/x-python",
   "name": "python",
   "nbconvert_exporter": "python",
   "pygments_lexer": "ipython3",
   "version": "3.13.2"
  }
 },
 "nbformat": 4,
 "nbformat_minor": 2
}
