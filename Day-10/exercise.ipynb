{
 "cells": [
  {
   "cell_type": "code",
   "execution_count": null,
   "metadata": {},
   "outputs": [],
   "source": [
    "\"\"\"\n",
    "Task: Create a class Car with attributes and methods as follows:\n",
    "\n",
    "Attributes: brand, model, year, mileage\n",
    "\n",
    "Methods:\n",
    "\n",
    "drive(distance): Increases mileage by distance.\n",
    "\n",
    "display_info(): Prints all details of the car.\n",
    "\n",
    "✅ Enhance: Add a fuel_level attribute and a method refuel(amount) to increase it.\n",
    "Adjust rest of the attributes accordingly\n",
    "\n",
    "\n",
    "\"\"\""
   ]
  },
  {
   "cell_type": "code",
   "execution_count": 1,
   "metadata": {},
   "outputs": [],
   "source": [
    "class Car:\n",
    "    def __init__(self,brand,model,year,mileage):\n",
    "        self.brand = brand\n",
    "        self.model = model\n",
    "        self.year = year\n",
    "        self.mileage = mileage\n",
    "        self.fuel_level = 0\n",
    "    \n",
    "    def refuel(self,fuel):\n",
    "        self.fuel_level += fuel\n",
    "        \n",
    "\n",
    "\n",
    "\n",
    "\n",
    "    def drive(self,distance):\n",
    "        if distance > 100:\n",
    "            self.mileage += 5\n",
    "\n",
    "    def print_info(self):\n",
    "        print(\"f Brand name is :  {self.brand}\")\n",
    "        print(\"f Model name is :  {self.model}\")\n",
    "        print(\"f year of manufacture is : {self.year}\")\n",
    "        print(\"f Mileage of car is :  {self.mileage}\")\n",
    "    \n",
    "    \n",
    "\n",
    "\n",
    "\n",
    "\n",
    "        "
   ]
  },
  {
   "cell_type": "code",
   "execution_count": 3,
   "metadata": {},
   "outputs": [
    {
     "data": {
      "text/plain": [
       "'Fortuner'"
      ]
     },
     "execution_count": 3,
     "metadata": {},
     "output_type": "execute_result"
    }
   ],
   "source": [
    "c1 = Car(\"Toyota\",\"Fortuner\",2019,8)\n",
    "c1.model"
   ]
  },
  {
   "cell_type": "code",
   "execution_count": 7,
   "metadata": {},
   "outputs": [
    {
     "name": "stdout",
     "output_type": "stream",
     "text": [
      "1000 ₹ withdrawn from your account. The available balance is 99000 \n"
     ]
    }
   ],
   "source": [
    "\"\"\"\n",
    "2️⃣ Class with Encapsulation: BankAccount\n",
    "------------------------------------------------------------------\n",
    "Task: Implement a BankAccount class with:\n",
    "\n",
    "Attributes: balance, account_number\n",
    "\n",
    "Methods:\n",
    "\n",
    "deposit(amount): Adds money to balance.\n",
    "\n",
    "withdraw(amount): Deducts money if enough balance is available.\n",
    "\n",
    "get_balance(): Returns balance.\n",
    "\n",
    "\"\"\"\n",
    "\n",
    "class BankAccount:\n",
    "    def __init__(self,balance,account_number):\n",
    "        self.balance = balance\n",
    "        self.account_number = account_number\n",
    "    \n",
    "    def deposite_amount(self,deposite):\n",
    "        self.balance += deposite\n",
    "    \n",
    "    def withdraw(self,amount):\n",
    "        if amount <= self.balance:\n",
    "            self.balance -= amount\n",
    "            print(f\"{amount} ₹ withdrawn from your account. The available balance is {self.balance} \")\n",
    "        else:\n",
    "            print(f\"Sorry amount cannot be debited because of insufficient balance in your account. \")\n",
    "    \n",
    "    def get_balance(self):\n",
    "        return self.balance\n",
    "\n",
    "acc1 = BankAccount(100000,2289290813657)\n",
    "acc1.withdraw(1000)\n",
    "\n"
   ]
  },
  {
   "cell_type": "code",
   "execution_count": 8,
   "metadata": {},
   "outputs": [
    {
     "data": {
      "text/plain": [
       "False"
      ]
     },
     "execution_count": 8,
     "metadata": {},
     "output_type": "execute_result"
    }
   ],
   "source": [
    "\"\"\"\n",
    "3️⃣ Class with Methods and Properties: Rectangle\n",
    "------------------------------------------------------------------\n",
    "Task: Design a Rectangle class:\n",
    "\n",
    "Attributes: length, width\n",
    "\n",
    "Methods:\n",
    "\n",
    "area(): Returns area.\n",
    "\n",
    "perimeter(): Returns perimeter.\n",
    "\n",
    "is_square(): Returns True if it’s a square, otherwise False.\n",
    "\n",
    "✅ Enhance: Use logic to prevent setting negative values for length and width.\n",
    "\n",
    "\"\"\"\n",
    "\n",
    "class Rectange:\n",
    "    def __init__(self,length,width):\n",
    "            \n",
    "            self.length = length\n",
    "            self.width = width\n",
    "\n",
    "    def area(self):\n",
    "        area = self.length * self.width\n",
    "        return area\n",
    "    \n",
    "    def perimeter(self):\n",
    "        perimeter = 2 * (self.length + self.width)\n",
    "        return perimeter\n",
    "    \n",
    "    def is_square(self):\n",
    "        if self.length == self.width:\n",
    "            return True\n",
    "        return False\n",
    "    \n",
    "\n",
    "\n",
    "    \n",
    "\n",
    "rectangel1 = Rectange(10,5)\n",
    "rectangel1.is_square()\n",
    "\n",
    "        "
   ]
  },
  {
   "cell_type": "code",
   "execution_count": null,
   "metadata": {},
   "outputs": [],
   "source": []
  }
 ],
 "metadata": {
  "kernelspec": {
   "display_name": "Python 3",
   "language": "python",
   "name": "python3"
  },
  "language_info": {
   "codemirror_mode": {
    "name": "ipython",
    "version": 3
   },
   "file_extension": ".py",
   "mimetype": "text/x-python",
   "name": "python",
   "nbconvert_exporter": "python",
   "pygments_lexer": "ipython3",
   "version": "3.13.2"
  }
 },
 "nbformat": 4,
 "nbformat_minor": 2
}
