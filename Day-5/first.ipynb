{
 "cells": [
  {
   "cell_type": "markdown",
   "metadata": {},
   "source": [
    "##### Functions\n",
    "You will have a logic -- wrap the logic into a single entity.\n",
    "call that logic whenever we want through a simple name.......\n",
    "\n",
    "\n",
    "----->Input ---->LOGIC------> Output\n",
    "                myFunc\n",
    "\n",
    "Writing functions gives you a certain level of abstraction. \n",
    "lower level of abs -- core level\n",
    "higher level -- \n",
    "\n",
    "Encapsulation --- conceive the details\n",
    "Abstraction -- working at a higher level\n",
    "\n",
    "def functionname():\n",
    "--- parameters are the inputs\n",
    "    \"function docstrings\"\n",
    "    function body\n",
    "---- return is the output\n",
    "    return [expression]\n",
    "\n",
    "Functions are isolated in nature,standalone and it can work on its on.\n",
    "\n",
    "Benifits\n",
    "--------------\n",
    "\n",
    "- Maximize\n",
    "- minimize redudancy (consumes unecessory memories)\n",
    "  --------- In testing redundent codes are difficult to find\n",
    "  --------- It will get triggered at some point of time where\n",
    "          the scenario is not tested\n",
    "- procedural decomposition \n",
    "  ------------ We will implement a solution not as a single manner\n",
    "  ------------ monolithic solution is not good\n",
    "  ------------- so we split solution into several individual parts and take each of part and test it and integrate it\n",
    "\n",
    "\n",
    "---def is an executable code\n",
    "is used to define a function\n",
    "\n",
    "--return statement will exit the function -- cause the fn to stop at apoint and return back to where it was called\n",
    "\n",
    "--parameters are inputs to functions\n",
    "\n",
    "\n",
    "\n",
    "\n",
    "\n",
    "\n",
    "\n",
    "\n"
   ]
  },
  {
   "cell_type": "code",
   "execution_count": 1,
   "metadata": {},
   "outputs": [
    {
     "data": {
      "text/plain": [
       "False"
      ]
     },
     "execution_count": 1,
     "metadata": {},
     "output_type": "execute_result"
    }
   ],
   "source": [
    "def checkprime(n):\n",
    "    prime  =True\n",
    "    for i in range(2, n):\n",
    "        if(n % i == 0):\n",
    "            return False\n",
    "    return True\n",
    "\n",
    "# Here only one return statement will be executed\n",
    "\n",
    "checkprime(10)"
   ]
  },
  {
   "cell_type": "code",
   "execution_count": 2,
   "metadata": {},
   "outputs": [
    {
     "data": {
      "text/plain": [
       "True"
      ]
     },
     "execution_count": 2,
     "metadata": {},
     "output_type": "execute_result"
    }
   ],
   "source": [
    "checkprime(11)\n"
   ]
  },
  {
   "cell_type": "code",
   "execution_count": 3,
   "metadata": {},
   "outputs": [
    {
     "data": {
      "text/plain": [
       "97"
      ]
     },
     "execution_count": 3,
     "metadata": {},
     "output_type": "execute_result"
    }
   ],
   "source": [
    "# Function to get highest prime number in a given range\n",
    "\n",
    "def highest_prime(p,q):\n",
    "    for n in range(q,p-1,-1):\n",
    "        if(checkprime(n)):\n",
    "            return n\n",
    "    return -1\n",
    "\n",
    "highest_prime(1,100)\n"
   ]
  },
  {
   "cell_type": "code",
   "execution_count": 4,
   "metadata": {},
   "outputs": [
    {
     "data": {
      "text/plain": [
       "53"
      ]
     },
     "execution_count": 4,
     "metadata": {},
     "output_type": "execute_result"
    }
   ],
   "source": [
    "highest_prime(50, 55)"
   ]
  },
  {
   "cell_type": "code",
   "execution_count": 5,
   "metadata": {},
   "outputs": [
    {
     "data": {
      "text/plain": [
       "-1"
      ]
     },
     "execution_count": 5,
     "metadata": {},
     "output_type": "execute_result"
    }
   ],
   "source": [
    "highest_prime(200,204)"
   ]
  },
  {
   "cell_type": "markdown",
   "metadata": {},
   "source": [
    "Scope of the variables\n",
    "----------------------\n",
    "Scope refers to visibility of the varibales. Are variable declared in one function visible to other function\n",
    "\n",
    "If a variable is assigned inside a def, its local to that fn\n",
    "- Each call to a function creates a new local scope\n",
    "- name spaces = allocated memory of the peice of code actually where\n",
    "- When ever an object is created there will be a dedicated memory space\n"
   ]
  },
  {
   "cell_type": "markdown",
   "metadata": {},
   "source": [
    "Global variables"
   ]
  },
  {
   "cell_type": "code",
   "execution_count": 10,
   "metadata": {},
   "outputs": [],
   "source": [
    "N = 10\n",
    "def showValues1():\n",
    "    N = 5\n",
    "    print(N)\n",
    "\n",
    "\n",
    "def showValues2():\n",
    "    N = 6\n",
    "    print(N)\n"
   ]
  },
  {
   "cell_type": "code",
   "execution_count": 11,
   "metadata": {},
   "outputs": [
    {
     "name": "stdout",
     "output_type": "stream",
     "text": [
      "5\n",
      "6\n"
     ]
    },
    {
     "data": {
      "text/plain": [
       "(None, None)"
      ]
     },
     "execution_count": 11,
     "metadata": {},
     "output_type": "execute_result"
    }
   ],
   "source": [
    "showValues1(),showValues2()\n",
    "# local get the highesst priority -- if two variables with same naeme on elocal ad one gloabal\n"
   ]
  },
  {
   "cell_type": "code",
   "execution_count": 20,
   "metadata": {},
   "outputs": [],
   "source": [
    "# N = 10\n",
    "def showValues1():\n",
    "    M = 5\n",
    "    print(M)\n",
    "\n",
    "\n",
    "def showValues2():\n",
    "    print(M)"
   ]
  },
  {
   "cell_type": "code",
   "execution_count": 21,
   "metadata": {},
   "outputs": [
    {
     "ename": "NameError",
     "evalue": "name 'M' is not defined",
     "output_type": "error",
     "traceback": [
      "\u001b[31m---------------------------------------------------------------------------\u001b[39m",
      "\u001b[31mNameError\u001b[39m                                 Traceback (most recent call last)",
      "\u001b[36mCell\u001b[39m\u001b[36m \u001b[39m\u001b[32mIn[21]\u001b[39m\u001b[32m, line 1\u001b[39m\n\u001b[32m----> \u001b[39m\u001b[32m1\u001b[39m \u001b[43mshowValues2\u001b[49m\u001b[43m(\u001b[49m\u001b[43m)\u001b[49m\n",
      "\u001b[36mCell\u001b[39m\u001b[36m \u001b[39m\u001b[32mIn[20]\u001b[39m\u001b[32m, line 8\u001b[39m, in \u001b[36mshowValues2\u001b[39m\u001b[34m()\u001b[39m\n\u001b[32m      7\u001b[39m \u001b[38;5;28;01mdef\u001b[39;00m\u001b[38;5;250m \u001b[39m\u001b[34mshowValues2\u001b[39m():\n\u001b[32m----> \u001b[39m\u001b[32m8\u001b[39m     \u001b[38;5;28mprint\u001b[39m(\u001b[43mM\u001b[49m)\n",
      "\u001b[31mNameError\u001b[39m: name 'M' is not defined"
     ]
    }
   ],
   "source": [
    "showValues2()"
   ]
  },
  {
   "cell_type": "code",
   "execution_count": 22,
   "metadata": {},
   "outputs": [],
   "source": [
    "# What is no global var\n",
    "# M is local to showvalues1() hence cannot access from showvalue2()\n",
    "\n"
   ]
  },
  {
   "cell_type": "code",
   "execution_count": 25,
   "metadata": {},
   "outputs": [],
   "source": [
    "# Understanding non-local variable scope\n",
    "P = 10\n",
    "def getFunction(choice):\n",
    "\n",
    "    def funcAdd(a,b):\n",
    "        P = 5 #\n",
    "        return (a + b) * P\n",
    "    \n",
    "    def funScub(a,b):\n",
    "        P = 5 #\n",
    "        return (a - b) * P\n",
    "    \n",
    "    return funcAdd if choice == 1 else funScub # ternary operator\n",
    "\n",
    "    \n",
    "\n"
   ]
  },
  {
   "cell_type": "code",
   "execution_count": 26,
   "metadata": {},
   "outputs": [
    {
     "data": {
      "text/plain": [
       "150"
      ]
     },
     "execution_count": 26,
     "metadata": {},
     "output_type": "execute_result"
    }
   ],
   "source": [
    "f = getFunction(1)\n",
    "f(10,20)"
   ]
  },
  {
   "cell_type": "code",
   "execution_count": 27,
   "metadata": {},
   "outputs": [],
   "source": [
    "# Understanding non-local variable scope\n",
    "P = 10\n",
    "def getFunction(choice):\n",
    "    P = 2  # non local variable\n",
    "\n",
    "    def funcAdd(a,b):\n",
    "        P = 5 #\n",
    "        return (a + b) * P\n",
    "    \n",
    "    def funScub(a,b):\n",
    "        P = 5 #\n",
    "        return (a - b) * P\n",
    "    \n",
    "    return funcAdd if choice == 1 else funScub # ternary operator\n",
    "\n",
    "    \n"
   ]
  },
  {
   "cell_type": "code",
   "execution_count": 28,
   "metadata": {},
   "outputs": [
    {
     "data": {
      "text/plain": [
       "150"
      ]
     },
     "execution_count": 28,
     "metadata": {},
     "output_type": "execute_result"
    }
   ],
   "source": [
    "f = getFunction(1)\n",
    "f(10,20)"
   ]
  },
  {
   "cell_type": "code",
   "execution_count": 29,
   "metadata": {},
   "outputs": [],
   "source": [
    "# Understanding non-local variable scope\n",
    "P = 10\n",
    "def getFunction(choice):\n",
    "    P = 2  # non local variable\n",
    "\n",
    "    def funcAdd(a,b):\n",
    "        \n",
    "        return (a + b) * P\n",
    "    \n",
    "    def funScub(a,b):\n",
    "     \n",
    "        return (a - b) * P\n",
    "    \n",
    "    return funcAdd if choice == 1 else funScub # ternary operator\n",
    "\n",
    "    \n"
   ]
  },
  {
   "cell_type": "code",
   "execution_count": 30,
   "metadata": {},
   "outputs": [
    {
     "data": {
      "text/plain": [
       "60"
      ]
     },
     "execution_count": 30,
     "metadata": {},
     "output_type": "execute_result"
    }
   ],
   "source": [
    "f = getFunction(1)\n",
    "f(10,20)"
   ]
  },
  {
   "cell_type": "code",
   "execution_count": null,
   "metadata": {},
   "outputs": [],
   "source": [
    "# Understanding non-local variable scope\n",
    "P = 10\n",
    "def getFunction(choice):\n",
    "    P = 2  # non local variable\n",
    "\n",
    "    def funcAdd(a,b):\n",
    "        global P  # it will use P from the global scope\n",
    "        \n",
    "        return (a + b) * P\n",
    "    \n",
    "    def funScub(a,b):\n",
    "     \n",
    "        return (a - b) * P\n",
    "    \n",
    "    return funcAdd if choice == 1 else funScub # ternary operator\n",
    "\n",
    "    \n"
   ]
  },
  {
   "cell_type": "code",
   "execution_count": 31,
   "metadata": {},
   "outputs": [
    {
     "data": {
      "text/plain": [
       "-20"
      ]
     },
     "execution_count": 31,
     "metadata": {},
     "output_type": "execute_result"
    }
   ],
   "source": [
    "f = getFunction(2)\n",
    "f(10,20)"
   ]
  },
  {
   "cell_type": "code",
   "execution_count": 32,
   "metadata": {},
   "outputs": [
    {
     "data": {
      "text/plain": [
       "60"
      ]
     },
     "execution_count": 32,
     "metadata": {},
     "output_type": "execute_result"
    }
   ],
   "source": [
    "f = getFunction(1)\n",
    "f(10,20)"
   ]
  },
  {
   "cell_type": "code",
   "execution_count": 33,
   "metadata": {},
   "outputs": [],
   "source": [
    "# Understanding non-local variable scope\n",
    "P = 10\n",
    "def getFunction(choice):\n",
    "    P = 2  # non local variable\n",
    "\n",
    "    def funcAdd(a,b):\n",
    "        global P  # it will use P from the global scope\n",
    "        K = 10\n",
    "        return (a + b) * P + K\n",
    "    \n",
    "    def funScub(a,b):\n",
    "        K =1\n",
    "     \n",
    "        return (a - b) * P + K\n",
    "    \n",
    "    return funcAdd if choice == 1 else funScub # ternary operator\n",
    "\n",
    "    \n"
   ]
  },
  {
   "cell_type": "code",
   "execution_count": 34,
   "metadata": {},
   "outputs": [
    {
     "data": {
      "text/plain": [
       "310"
      ]
     },
     "execution_count": 34,
     "metadata": {},
     "output_type": "execute_result"
    }
   ],
   "source": [
    "f = getFunction(1)\n",
    "f(10,20)"
   ]
  },
  {
   "cell_type": "markdown",
   "metadata": {},
   "source": [
    "GUIDLINE : Reduce the Global variable and non -local variable\n"
   ]
  },
  {
   "cell_type": "markdown",
   "metadata": {},
   "source": [
    "\n",
    "Required Arguments\n",
    "-----------------\n"
   ]
  },
  {
   "cell_type": "code",
   "execution_count": 35,
   "metadata": {},
   "outputs": [],
   "source": [
    "def avg(n1, n2,n3):\n",
    "    return(n1 + n2 + n3) / 3\n"
   ]
  },
  {
   "cell_type": "code",
   "execution_count": 36,
   "metadata": {},
   "outputs": [
    {
     "data": {
      "text/plain": [
       "2.0"
      ]
     },
     "execution_count": 36,
     "metadata": {},
     "output_type": "execute_result"
    }
   ],
   "source": [
    "avg(1,2,3)"
   ]
  },
  {
   "cell_type": "code",
   "execution_count": 37,
   "metadata": {},
   "outputs": [
    {
     "ename": "TypeError",
     "evalue": "avg() missing 1 required positional argument: 'n3'",
     "output_type": "error",
     "traceback": [
      "\u001b[31m---------------------------------------------------------------------------\u001b[39m",
      "\u001b[31mTypeError\u001b[39m                                 Traceback (most recent call last)",
      "\u001b[36mCell\u001b[39m\u001b[36m \u001b[39m\u001b[32mIn[37]\u001b[39m\u001b[32m, line 1\u001b[39m\n\u001b[32m----> \u001b[39m\u001b[32m1\u001b[39m \u001b[43mavg\u001b[49m\u001b[43m(\u001b[49m\u001b[32;43m1\u001b[39;49m\u001b[43m,\u001b[49m\u001b[32;43m2\u001b[39;49m\u001b[43m)\u001b[49m\n",
      "\u001b[31mTypeError\u001b[39m: avg() missing 1 required positional argument: 'n3'"
     ]
    }
   ],
   "source": [
    "avg(1,2)"
   ]
  },
  {
   "cell_type": "markdown",
   "metadata": {},
   "source": [
    "During function call match the number of arguments to the number of arguments in finction def"
   ]
  },
  {
   "cell_type": "code",
   "execution_count": 38,
   "metadata": {},
   "outputs": [
    {
     "name": "stdout",
     "output_type": "stream",
     "text": [
      "Anil\n",
      "Sunil\n",
      "Raj\n"
     ]
    }
   ],
   "source": [
    "def msg(n1,n2,n3):\n",
    "    print(n1)\n",
    "    print(n2)\n",
    "    print(n3)\n",
    "\n",
    "msg(\"Anil\",\"Sunil\",\"Raj\")"
   ]
  },
  {
   "cell_type": "code",
   "execution_count": 40,
   "metadata": {},
   "outputs": [
    {
     "name": "stdout",
     "output_type": "stream",
     "text": [
      "Anil\n",
      "Raj\n",
      "Sunil\n"
     ]
    }
   ],
   "source": [
    "msg(\"Anil\",\"Raj\",\"Sunil\")\n",
    "# Durning the function call the order should maintained exactly as in the function definition\n"
   ]
  },
  {
   "cell_type": "markdown",
   "metadata": {},
   "source": [
    "10.4 Arbitary Arguments"
   ]
  },
  {
   "cell_type": "markdown",
   "metadata": {},
   "source": [
    "You cannot write avg() for diffrent number of arguments, can a single avg() handle arbitary number of arguments"
   ]
  },
  {
   "cell_type": "code",
   "execution_count": null,
   "metadata": {},
   "outputs": [],
   "source": []
  },
  {
   "cell_type": "code",
   "execution_count": 41,
   "metadata": {},
   "outputs": [],
   "source": [
    "def avg(*n):\n",
    "    print(n)\n",
    "    return sum(n)/len(n)\n"
   ]
  },
  {
   "cell_type": "code",
   "execution_count": 42,
   "metadata": {},
   "outputs": [
    {
     "name": "stdout",
     "output_type": "stream",
     "text": [
      "(1,)\n"
     ]
    },
    {
     "data": {
      "text/plain": [
       "1.0"
      ]
     },
     "execution_count": 42,
     "metadata": {},
     "output_type": "execute_result"
    }
   ],
   "source": [
    "avg(1)"
   ]
  },
  {
   "cell_type": "markdown",
   "metadata": {},
   "source": [
    "*n means sending a collection of vals as a tuple"
   ]
  },
  {
   "cell_type": "code",
   "execution_count": 43,
   "metadata": {},
   "outputs": [
    {
     "name": "stdout",
     "output_type": "stream",
     "text": [
      "(1, 2, 3, 4)\n"
     ]
    },
    {
     "data": {
      "text/plain": [
       "2.5"
      ]
     },
     "execution_count": 43,
     "metadata": {},
     "output_type": "execute_result"
    }
   ],
   "source": [
    "avg(1,2,3,4)"
   ]
  },
  {
   "cell_type": "code",
   "execution_count": 1,
   "metadata": {},
   "outputs": [],
   "source": [
    "# Thus we can send arbitary number of arguments.\n",
    "# "
   ]
  },
  {
   "cell_type": "code",
   "execution_count": 2,
   "metadata": {},
   "outputs": [],
   "source": [
    "## References"
   ]
  },
  {
   "cell_type": "code",
   "execution_count": 11,
   "metadata": {},
   "outputs": [],
   "source": [
    "def change(L):\n",
    "    L = list('python')\n",
    "    return \n"
   ]
  },
  {
   "cell_type": "code",
   "execution_count": 12,
   "metadata": {},
   "outputs": [
    {
     "data": {
      "text/plain": [
       "['p', 'e', 'a', 'r', 'l']"
      ]
     },
     "execution_count": 12,
     "metadata": {},
     "output_type": "execute_result"
    }
   ],
   "source": [
    "S = list('pearl')\n",
    "S"
   ]
  },
  {
   "cell_type": "code",
   "execution_count": 13,
   "metadata": {},
   "outputs": [
    {
     "data": {
      "text/plain": [
       "['p', 'e', 'a', 'r', 'l']"
      ]
     },
     "execution_count": 13,
     "metadata": {},
     "output_type": "execute_result"
    }
   ],
   "source": [
    "change(S)\n",
    "S"
   ]
  },
  {
   "cell_type": "markdown",
   "metadata": {},
   "source": []
  },
  {
   "cell_type": "code",
   "execution_count": 20,
   "metadata": {},
   "outputs": [],
   "source": [
    "def swap(a,b):\n",
    "    temp = a\n",
    "    a = b\n",
    "    b = temp\n",
    "    return (a,b)"
   ]
  },
  {
   "cell_type": "code",
   "execution_count": 18,
   "metadata": {},
   "outputs": [
    {
     "data": {
      "text/plain": [
       "(20, 10)"
      ]
     },
     "execution_count": 18,
     "metadata": {},
     "output_type": "execute_result"
    }
   ],
   "source": [
    "a = 10\n",
    "b = 20\n",
    "swap(10,20)"
   ]
  },
  {
   "cell_type": "code",
   "execution_count": 21,
   "metadata": {},
   "outputs": [
    {
     "data": {
      "text/plain": [
       "(10, 20)"
      ]
     },
     "execution_count": 21,
     "metadata": {},
     "output_type": "execute_result"
    }
   ],
   "source": [
    "a,b"
   ]
  },
  {
   "cell_type": "markdown",
   "metadata": {},
   "source": [
    "Default arguments"
   ]
  },
  {
   "cell_type": "code",
   "execution_count": 22,
   "metadata": {},
   "outputs": [],
   "source": [
    "def printinfo(name,age):\n",
    "    print(f\"The name is {name} and age is {age}\")"
   ]
  },
  {
   "cell_type": "code",
   "execution_count": 23,
   "metadata": {},
   "outputs": [
    {
     "name": "stdout",
     "output_type": "stream",
     "text": [
      "The name is Anil and age is 45\n"
     ]
    }
   ],
   "source": [
    "printinfo('Anil',45)"
   ]
  },
  {
   "cell_type": "code",
   "execution_count": 24,
   "metadata": {},
   "outputs": [
    {
     "ename": "TypeError",
     "evalue": "printinfo() missing 1 required positional argument: 'age'",
     "output_type": "error",
     "traceback": [
      "\u001b[31m---------------------------------------------------------------------------\u001b[39m",
      "\u001b[31mTypeError\u001b[39m                                 Traceback (most recent call last)",
      "\u001b[36mCell\u001b[39m\u001b[36m \u001b[39m\u001b[32mIn[24]\u001b[39m\u001b[32m, line 3\u001b[39m\n\u001b[32m      1\u001b[39m \u001b[38;5;66;03m# what is we miss on arg\u001b[39;00m\n\u001b[32m----> \u001b[39m\u001b[32m3\u001b[39m \u001b[43mprintinfo\u001b[49m\u001b[43m(\u001b[49m\u001b[33;43m\"\u001b[39;49m\u001b[33;43mAnil\u001b[39;49m\u001b[33;43m\"\u001b[39;49m\u001b[43m)\u001b[49m\n",
      "\u001b[31mTypeError\u001b[39m: printinfo() missing 1 required positional argument: 'age'"
     ]
    }
   ],
   "source": [
    "# what is we miss on arg\n",
    "\n",
    "printinfo(\"Anil\")"
   ]
  },
  {
   "cell_type": "code",
   "execution_count": 25,
   "metadata": {},
   "outputs": [],
   "source": [
    "def printinfo(name,age = 0) :\n",
    "    print(f\"The name is {name} and age is {age}\")"
   ]
  },
  {
   "cell_type": "code",
   "execution_count": 26,
   "metadata": {},
   "outputs": [
    {
     "name": "stdout",
     "output_type": "stream",
     "text": [
      "The name is Anil and age is 0\n"
     ]
    }
   ],
   "source": [
    "printinfo(\"Anil\")"
   ]
  },
  {
   "cell_type": "markdown",
   "metadata": {},
   "source": [
    "Key word Arguments"
   ]
  },
  {
   "cell_type": "code",
   "execution_count": 27,
   "metadata": {},
   "outputs": [
    {
     "name": "stdout",
     "output_type": "stream",
     "text": [
      "The name is 43 and age is Sunil\n"
     ]
    }
   ],
   "source": [
    "printinfo(43,'Sunil')"
   ]
  },
  {
   "cell_type": "code",
   "execution_count": 28,
   "metadata": {},
   "outputs": [
    {
     "name": "stdout",
     "output_type": "stream",
     "text": [
      "The name is Sunil and age is 34\n"
     ]
    }
   ],
   "source": [
    "# avoid those mistakes\n",
    "\n",
    "printinfo(age= 34, name=\"Sunil\")"
   ]
  },
  {
   "cell_type": "markdown",
   "metadata": {},
   "source": [
    "Variable length arguments"
   ]
  },
  {
   "cell_type": "code",
   "execution_count": 30,
   "metadata": {},
   "outputs": [],
   "source": [
    "def fun(a, b ,c , *targs, **kargs):\n",
    "    print(a,b,c)\n",
    "    print(targs)\n",
    "    print(kargs)"
   ]
  },
  {
   "cell_type": "markdown",
   "metadata": {},
   "source": [
    "targs  ---- tuples \n",
    "kargs --- keyword args"
   ]
  },
  {
   "cell_type": "code",
   "execution_count": 32,
   "metadata": {},
   "outputs": [
    {
     "name": "stdout",
     "output_type": "stream",
     "text": [
      "10 20 30\n",
      "(40, 50)\n",
      "{'name': 'Anil', 'age': 35}\n"
     ]
    }
   ],
   "source": [
    "fun(10,20,30,40,50, name = \"Anil\",age = 35)"
   ]
  },
  {
   "cell_type": "markdown",
   "metadata": {},
   "source": [
    "The order in which you write the args should be required, targs and then kargs"
   ]
  },
  {
   "cell_type": "code",
   "execution_count": 33,
   "metadata": {},
   "outputs": [],
   "source": [
    "## Nested functions\n"
   ]
  },
  {
   "cell_type": "code",
   "execution_count": null,
   "metadata": {},
   "outputs": [],
   "source": [
    "## Return multiple values from"
   ]
  }
 ],
 "metadata": {
  "kernelspec": {
   "display_name": "Python 3",
   "language": "python",
   "name": "python3"
  },
  "language_info": {
   "codemirror_mode": {
    "name": "ipython",
    "version": 3
   },
   "file_extension": ".py",
   "mimetype": "text/x-python",
   "name": "python",
   "nbconvert_exporter": "python",
   "pygments_lexer": "ipython3",
   "version": "3.13.2"
  }
 },
 "nbformat": 4,
 "nbformat_minor": 2
}
