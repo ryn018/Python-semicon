{
 "cells": [
  {
   "cell_type": "markdown",
   "metadata": {},
   "source": [
    " Write a function to return the time required to double the invested amount and given rate of \n",
    "interest"
   ]
  },
  {
   "cell_type": "code",
   "execution_count": 35,
   "metadata": {},
   "outputs": [
    {
     "data": {
      "text/plain": [
       "8"
      ]
     },
     "execution_count": 35,
     "metadata": {},
     "output_type": "execute_result"
    }
   ],
   "source": [
    "def time_required(amount,intrest):\n",
    "    \n",
    "    years = 0\n",
    "    target = amount * 2\n",
    "    while amount < target:\n",
    "\n",
    "        intrest_amount = amount * (intrest/100)\n",
    "        amount += intrest_amount\n",
    "        years += 1\n",
    "    return years\n",
    "    \n",
    "\n",
    "\n",
    "time_required(1000,10)\n",
    "\n",
    "        \n",
    "\n",
    "\n",
    "        "
   ]
  },
  {
   "cell_type": "markdown",
   "metadata": {},
   "source": [
    "2. Write a function to find the second largest number in the list\n",
    "\n",
    "   Example: Input <- [34, 56, 67, 43]\n",
    "    Outupt -> 56"
   ]
  },
  {
   "cell_type": "code",
   "execution_count": 18,
   "metadata": {},
   "outputs": [
    {
     "data": {
      "text/plain": [
       "56"
      ]
     },
     "execution_count": 18,
     "metadata": {},
     "output_type": "execute_result"
    }
   ],
   "source": [
    "def second_largest(a):\n",
    "    a.sort()\n",
    "    return a[-2]\n",
    "\n",
    "example = [34, 56, 67, 43]\n",
    "\n",
    "second_largest(example)"
   ]
  },
  {
   "cell_type": "markdown",
   "metadata": {},
   "source": [
    "3. Write a function to print charecter pyramid\n",
    "   Example: genPyramic(3, '*')\n",
    "\n",
    "\n",
    "                 *\n",
    "                ***\n",
    "               *****"
   ]
  },
  {
   "cell_type": "code",
   "execution_count": 39,
   "metadata": {},
   "outputs": [
    {
     "name": "stdout",
     "output_type": "stream",
     "text": [
      "      *\n",
      "     **\n",
      "     ***\n",
      "     ****\n"
     ]
    }
   ],
   "source": [
    "def genPyramic(num,symbol):           # 5 , *\n",
    "    print(' '* num, symbol )\n",
    "\n",
    "    counter = 2 # 5 -- 5\n",
    "    while counter < num:\n",
    "        print(' ' * (num) + symbol * counter)\n",
    "        counter += 1\n",
    "\n",
    "\n",
    "\n",
    "\n",
    "\n",
    "\n",
    "genPyramic(5,'*')\n"
   ]
  },
  {
   "cell_type": "markdown",
   "metadata": {},
   "source": [
    "Session 2\n",
    "\n",
    " Write a functions that returns the jumbled version of the words with spaces and capital letters\n",
    "\n",
    " \n",
    "Example: Input <- jumble(\"apples\")\n",
    "Output -> P P L A E S "
   ]
  },
  {
   "cell_type": "code",
   "execution_count": 54,
   "metadata": {},
   "outputs": [
    {
     "data": {
      "text/plain": [
       "'Appesl'"
      ]
     },
     "execution_count": 54,
     "metadata": {},
     "output_type": "execute_result"
    }
   ],
   "source": [
    "from itertools import permutations\n",
    "def jumpled(word):\n",
    "    list1 = permutations(word)\n",
    "    list2 = list(list1)\n",
    "\n",
    "    result = ''.join(list(list2[3]))\n",
    "\n",
    "    return result\n",
    "\n",
    "jumpled(\"Apples\")\n",
    "\n",
    "\n"
   ]
  },
  {
   "cell_type": "markdown",
   "metadata": {},
   "source": [
    "Write a function to determine if a number is a fibonacci number\n",
    "\n",
    "Example: Input <- 8\n",
    "OUtput -> 8 is in the fibonacci range"
   ]
  },
  {
   "cell_type": "code",
   "execution_count": 64,
   "metadata": {},
   "outputs": [
    {
     "name": "stdout",
     "output_type": "stream",
     "text": [
      "8 is in fibonocci range...\n"
     ]
    }
   ],
   "source": [
    "def fibonacci(num):\n",
    "    lis1 = [0,1]\n",
    "    for i in range(2,num):\n",
    "        fib = lis1[-1] + lis1[-2]\n",
    "        lis1.append(fib)\n",
    "    if lis1[-2] + lis1[-3] == lis1[-1]:\n",
    "        print(f\"{num} is in fibonocci range...\")\n",
    "\n",
    "fibonacci(8)\n",
    "\n",
    "\n",
    "    \n",
    "\n",
    "\n"
   ]
  },
  {
   "cell_type": "markdown",
   "metadata": {},
   "source": [
    "3. Write a python function to merge two dictionaries\n",
    "   \n",
    "   Example: d1 = { 'a': 20, 'b': 30 }\n",
    "          \n",
    "            d2 = { 'b': 40, 'c': 50 }\n",
    "          \n",
    "            Output -> { 'a' : 20, 'b':70, 'c' : 50 }\n",
    "    \n",
    "    Merge rules: Numbers -> add\n",
    "                \n",
    "                 Strings -> concatenate\n",
    "                \n",
    "                 List, set -> Merge\n",
    "                \n",
    "                 Tuple -> List of tuples\n",
    "                \n",
    "                 Dictionary -> Merge\n"
   ]
  },
  {
   "cell_type": "code",
   "execution_count": null,
   "metadata": {},
   "outputs": [
    {
     "ename": "TypeError",
     "evalue": "unsupported operand type(s) for +=: 'int' and 'str'",
     "output_type": "error",
     "traceback": [
      "\u001b[31m---------------------------------------------------------------------------\u001b[39m",
      "\u001b[31mTypeError\u001b[39m                                 Traceback (most recent call last)",
      "\u001b[36mCell\u001b[39m\u001b[36m \u001b[39m\u001b[32mIn[5]\u001b[39m\u001b[32m, line 15\u001b[39m\n\u001b[32m     13\u001b[39m                 dic2[item] += dic1[item]\n\u001b[32m     14\u001b[39m     \u001b[38;5;28;01mreturn\u001b[39;00m d2\n\u001b[32m---> \u001b[39m\u001b[32m15\u001b[39m d3 = \u001b[43mmerge\u001b[49m\u001b[43m(\u001b[49m\u001b[43md1\u001b[49m\u001b[43m,\u001b[49m\u001b[43md2\u001b[49m\u001b[43m)\u001b[49m\n\u001b[32m     16\u001b[39m d3\n",
      "\u001b[36mCell\u001b[39m\u001b[36m \u001b[39m\u001b[32mIn[5]\u001b[39m\u001b[32m, line 13\u001b[39m, in \u001b[36mmerge\u001b[39m\u001b[34m(dic1, dic2)\u001b[39m\n\u001b[32m     11\u001b[39m             \u001b[38;5;28mstr\u001b[39m(dic2[item]) + \u001b[38;5;28mstr\u001b[39m(dic1[item])\n\u001b[32m     12\u001b[39m         \u001b[38;5;28;01melse\u001b[39;00m:\n\u001b[32m---> \u001b[39m\u001b[32m13\u001b[39m             \u001b[43mdic2\u001b[49m\u001b[43m[\u001b[49m\u001b[43mitem\u001b[49m\u001b[43m]\u001b[49m\u001b[43m \u001b[49m\u001b[43m+\u001b[49m\u001b[43m=\u001b[49m\u001b[43m \u001b[49m\u001b[43mdic1\u001b[49m\u001b[43m[\u001b[49m\u001b[43mitem\u001b[49m\u001b[43m]\u001b[49m\n\u001b[32m     14\u001b[39m \u001b[38;5;28;01mreturn\u001b[39;00m d2\n",
      "\u001b[31mTypeError\u001b[39m: unsupported operand type(s) for +=: 'int' and 'str'"
     ]
    }
   ],
   "source": [
    "d1 = { 'a': '20', 'b': 'aleena' }\n",
    "d2 = { 'b': 40, 'c': 50 }\n",
    "\n",
    "def merge(dic1,dic2):\n",
    "    \n",
    "    for item in dic1:\n",
    "        if item not in dic2:\n",
    "            dic2[item] = dic1[item]\n",
    "        else: \n",
    "            if isinstance(dic2[item],str) or isinstance(dic2[item],str):\n",
    "                str(dic2[item]) += str(dic1[item])\n",
    "            else:\n",
    "                dic2[item] += dic1[item]\n",
    "    return d2\n",
    "d3 = merge(d1,d2)\n",
    "d3"
   ]
  },
  {
   "cell_type": "code",
   "execution_count": null,
   "metadata": {},
   "outputs": [],
   "source": [
    "def mergeDict(d1, d2):\n",
    "    merge_dict = {}\n",
    "    keys_full = set(d1.keys()).union(set(d2.keys()))\n",
    " \n",
    "    for key in keys_full:\n",
    "        if key in d1 and key in d2:\n",
    "            if isinstance(d1[key], (int, float)) and isinstance(d2[key], (int, float)):\n",
    "                merge_dict[key] = d1[key] + d2[key]\n",
    "            elif isinstance(d1[key], str) and isinstance(d2[key], str):\n",
    "                merge_dict[key] = d1[key] + d2[key]\n",
    "            else:\n",
    "                merge_dict[key] = (d1[key], d2[key])\n",
    "        elif key in d1:\n",
    "            merge_dict[key] = d1[key]\n",
    "        elif key in d2: merge_dict[key] = d2[key]\n",
    "        \n",
    "    return merge_dict\n",
    "d1 = {'a': 20, 'b': 30}\n",
    "d2 = {'b': 40, 'c': 50}\n",
    "result = mergeDict(d1, d2)\n",
    "print(\"Merged Dictionary:\", result)"
   ]
  },
  {
   "cell_type": "markdown",
   "metadata": {},
   "source": [
    "Create a function authenticator(username, password) that returns another function, \n",
    "\n",
    "which can be called to access a secure message only if the username and password match"
   ]
  },
  {
   "cell_type": "code",
   "execution_count": 10,
   "metadata": {},
   "outputs": [],
   "source": [
    "def authenticator(username,password):\n",
    "    correct_username = \"admin\"\n",
    "    correct_password = \"secure123\"\n",
    "\n",
    "    def secure_access_message():\n",
    "        if(username == correct_username and password == correct_password):\n",
    "            return \"Access Granted\"\n",
    "        else:\n",
    "            return \"Access denied\"\n",
    "        \n",
    "    return secure_access_message\n",
    "        "
   ]
  },
  {
   "cell_type": "code",
   "execution_count": 11,
   "metadata": {},
   "outputs": [
    {
     "data": {
      "text/plain": [
       "'Access denied'"
      ]
     },
     "execution_count": 11,
     "metadata": {},
     "output_type": "execute_result"
    }
   ],
   "source": [
    "m = authenticator(\"anil\",\"1234\")\n",
    "m()"
   ]
  },
  {
   "cell_type": "code",
   "execution_count": 14,
   "metadata": {},
   "outputs": [
    {
     "data": {
      "text/plain": [
       "'Access Granted'"
      ]
     },
     "execution_count": 14,
     "metadata": {},
     "output_type": "execute_result"
    }
   ],
   "source": [
    "m = authenticator(\"admin\",\"secure123\")\n",
    "m()"
   ]
  },
  {
   "cell_type": "code",
   "execution_count": null,
   "metadata": {},
   "outputs": [],
   "source": []
  },
  {
   "cell_type": "code",
   "execution_count": 6,
   "metadata": {},
   "outputs": [
    {
     "name": "stdout",
     "output_type": "stream",
     "text": [
      "🙌🙌\n"
     ]
    }
   ],
   "source": [
    "print(\"🙌🙌\")"
   ]
  },
  {
   "cell_type": "markdown",
   "metadata": {},
   "source": [
    "Recursion"
   ]
  },
  {
   "cell_type": "code",
   "execution_count": 16,
   "metadata": {},
   "outputs": [],
   "source": [
    "def rec(n):\n",
    "    if(n <= 0):\n",
    "        return\n",
    "    else:\n",
    "        print(n)\n",
    "        rec(n-1)\n"
   ]
  },
  {
   "cell_type": "code",
   "execution_count": 18,
   "metadata": {},
   "outputs": [
    {
     "name": "stdout",
     "output_type": "stream",
     "text": [
      "10\n",
      "9\n",
      "8\n",
      "7\n",
      "6\n",
      "5\n",
      "4\n",
      "3\n",
      "2\n",
      "1\n"
     ]
    }
   ],
   "source": [
    "\n",
    "rec(10)\n",
    "\n",
    "\n",
    "\n"
   ]
  },
  {
   "cell_type": "code",
   "execution_count": 22,
   "metadata": {},
   "outputs": [
    {
     "name": "stdout",
     "output_type": "stream",
     "text": [
      "blue\n",
      "green\n",
      "red\n"
     ]
    }
   ],
   "source": [
    "\n",
    "def rec2(L):\n",
    "    if (L== []):\n",
    "        return\n",
    "    else:\n",
    "        t = L.pop()\n",
    "        print(t)\n",
    "        rec2(L)\n",
    "\n",
    "rec2([\"red\",\"green\",\"blue\"])\n",
    "\n"
   ]
  },
  {
   "cell_type": "code",
   "execution_count": 24,
   "metadata": {},
   "outputs": [
    {
     "name": "stdout",
     "output_type": "stream",
     "text": [
      "s, apple\n",
      "e, appl\n",
      "l, app\n",
      "p, ap\n",
      "p, a\n",
      "a, \n"
     ]
    },
    {
     "data": {
      "text/plain": [
       "'selppa'"
      ]
     },
     "execution_count": 24,
     "metadata": {},
     "output_type": "execute_result"
    }
   ],
   "source": [
    "def revString(s):\n",
    "    if (len(s) == 0):\n",
    "        return s\n",
    "    print(f\"{s[-1]}, {s[:-1]}\")\n",
    "    return s[-1] + revString(s[:-1])\n",
    "\n",
    "revString(\"apples\")"
   ]
  },
  {
   "cell_type": "code",
   "execution_count": 28,
   "metadata": {},
   "outputs": [
    {
     "data": {
      "text/plain": [
       "'mary had a little lamb'"
      ]
     },
     "execution_count": 28,
     "metadata": {},
     "output_type": "execute_result"
    }
   ],
   "source": [
    "## Join all strings in a list using recursion\n",
    "L = [\"mary\",\"had\",\"a\",\"little\",\"lamb\"]\n",
    "\n",
    "def recJoin(L):\n",
    "    if len(L) == 1:\n",
    "        return L[0]\n",
    "    else:\n",
    "        return str(L[0]) + \" \" + recJoin(L[1:])\n",
    "\n",
    "recJoin(L)\n",
    "    "
   ]
  },
  {
   "cell_type": "code",
   "execution_count": null,
   "metadata": {},
   "outputs": [],
   "source": []
  },
  {
   "cell_type": "code",
   "execution_count": 32,
   "metadata": {},
   "outputs": [],
   "source": [
    "## Flattening a nested list\n",
    "\n",
    "def flattenList(nestedList):\n",
    "    flatList = []\n",
    "    for item in nestedList:\n",
    "        if isinstance(item,list):\n",
    "            flatList.extend(flatList(item))\n",
    "        else:\n",
    "            flatList.append(item)\n",
    "    return flatList "
   ]
  },
  {
   "cell_type": "code",
   "execution_count": 39,
   "metadata": {},
   "outputs": [],
   "source": [
    "nested = [1,[2,[3,4],5],[6,7],8,9,[10,[11,12,[13]],14],[15,16],[12,18]]"
   ]
  },
  {
   "cell_type": "code",
   "execution_count": 40,
   "metadata": {},
   "outputs": [
    {
     "ename": "TypeError",
     "evalue": "'list' object is not callable",
     "output_type": "error",
     "traceback": [
      "\u001b[31m---------------------------------------------------------------------------\u001b[39m",
      "\u001b[31mTypeError\u001b[39m                                 Traceback (most recent call last)",
      "\u001b[36mCell\u001b[39m\u001b[36m \u001b[39m\u001b[32mIn[40]\u001b[39m\u001b[32m, line 1\u001b[39m\n\u001b[32m----> \u001b[39m\u001b[32m1\u001b[39m \u001b[43mflattenList\u001b[49m\u001b[43m(\u001b[49m\u001b[43mnested\u001b[49m\u001b[43m)\u001b[49m\n",
      "\u001b[36mCell\u001b[39m\u001b[36m \u001b[39m\u001b[32mIn[32]\u001b[39m\u001b[32m, line 7\u001b[39m, in \u001b[36mflattenList\u001b[39m\u001b[34m(nestedList)\u001b[39m\n\u001b[32m      5\u001b[39m \u001b[38;5;28;01mfor\u001b[39;00m item \u001b[38;5;129;01min\u001b[39;00m nestedList:\n\u001b[32m      6\u001b[39m     \u001b[38;5;28;01mif\u001b[39;00m \u001b[38;5;28misinstance\u001b[39m(item,\u001b[38;5;28mlist\u001b[39m):\n\u001b[32m----> \u001b[39m\u001b[32m7\u001b[39m         flatList.extend(\u001b[43mflatList\u001b[49m\u001b[43m(\u001b[49m\u001b[43mitem\u001b[49m\u001b[43m)\u001b[49m)\n\u001b[32m      8\u001b[39m     \u001b[38;5;28;01melse\u001b[39;00m:\n\u001b[32m      9\u001b[39m         flatList.append(item)\n",
      "\u001b[31mTypeError\u001b[39m: 'list' object is not callable"
     ]
    }
   ],
   "source": [
    "flattenList(nested)"
   ]
  },
  {
   "cell_type": "code",
   "execution_count": null,
   "metadata": {},
   "outputs": [],
   "source": [
    "n = int(input(\"enter the no.of lists wanted: \"))\n",
    "for i in range(n):\n",
    "    lists  = list(map(int, input(f\"enter list{i+1}:\").split()))\n",
    "    globals()[f'list{i+1}'] = lists\n",
    " \n",
    "def common(*lists):\n",
    "    if not lists:\n",
    "        return []\n",
    "    return list(set(lists[0]).intersection(*map(set, lists[1:])))\n",
    " \n",
    "all_lists = [globals()[f'list{i+1}'] for i in range(n)]\n",
    "print(common(*all_lists))"
   ]
  },
  {
   "cell_type": "code",
   "execution_count": null,
   "metadata": {},
   "outputs": [],
   "source": [
    "3rd:\n",
    "\n",
    "from itertools import combinations\n",
    "def generate_subsets(n, s):\n",
    "    if (s>=0):\n",
    "        print(list(combinations(n,s)))\n",
    "        generate_subsets(n,s-1)\n",
    " \n",
    "    else:\n",
    "        return '[]'\n",
    "   \n",
    "generate_subsets([1,2,3], len([1,2,3]))\n"
   ]
  },
  {
   "cell_type": "code",
   "execution_count": null,
   "metadata": {},
   "outputs": [],
   "source": []
  },
  {
   "cell_type": "code",
   "execution_count": null,
   "metadata": {},
   "outputs": [],
   "source": []
  }
 ],
 "metadata": {
  "kernelspec": {
   "display_name": "Python 3",
   "language": "python",
   "name": "python3"
  },
  "language_info": {
   "codemirror_mode": {
    "name": "ipython",
    "version": 3
   },
   "file_extension": ".py",
   "mimetype": "text/x-python",
   "name": "python",
   "nbconvert_exporter": "python",
   "pygments_lexer": "ipython3",
   "version": "3.13.2"
  }
 },
 "nbformat": 4,
 "nbformat_minor": 2
}
