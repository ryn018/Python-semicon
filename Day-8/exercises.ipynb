{
 "cells": [
  {
   "cell_type": "code",
   "execution_count": null,
   "metadata": {},
   "outputs": [],
   "source": []
  },
  {
   "cell_type": "code",
   "execution_count": 8,
   "metadata": {},
   "outputs": [
    {
     "name": "stdout",
     "output_type": "stream",
     "text": [
      "['+1.234', '-67.87', '1.234']\n"
     ]
    }
   ],
   "source": [
    "import re\n",
    "\"\"\"\n",
    "Extract Floating Point Numbers\n",
    "Text: \"This statement contains +1.234 floating -67.87 point 1.234 number\"\n",
    "Task: Write a regex to extract the floating-point number from the text including sign\n",
    "\n",
    "\"\"\"\n",
    "text = \"This statement contains +1.234 floating -67.87 point 1.234 number\"\n",
    "\n",
    "pattern = r'[-+]?\\d*\\.\\d+'  # Regex pattern to match signed floating-point numbers\n",
    "\n",
    "matches = re.findall(pattern, text)\n",
    "print(matches)"
   ]
  },
  {
   "cell_type": "code",
   "execution_count": 17,
   "metadata": {},
   "outputs": [
    {
     "name": "stdout",
     "output_type": "stream",
     "text": [
      "['support@example.com']\n"
     ]
    }
   ],
   "source": [
    "\"\"\"\n",
    "Find Email Addresses\n",
    "Text: \"Contact us at support@example.com for more details\"\n",
    "Task: Write a regex to extract the email address from the text.\n",
    "\n",
    "\"\"\"\n",
    "\n",
    "text =  \"Contact us at support@example.com for more details\"\n",
    "pattern = r'\\b[\\w\\d]+@[\\w\\d.]+\\.\\w{3,}\\b'\n",
    "matches = re.findall(pattern, text)\n",
    "print(matches)"
   ]
  },
  {
   "cell_type": "code",
   "execution_count": 20,
   "metadata": {},
   "outputs": [
    {
     "name": "stdout",
     "output_type": "stream",
     "text": [
      "['2025-03-27']\n"
     ]
    }
   ],
   "source": [
    "\"\"\"\n",
    "Extract Dates\n",
    "Text: \"Today's date is 2025-03-27\"\n",
    "Task: Write a regex to extract the date in YYYY-MM-DD format.\n",
    "\n",
    "\"\"\"\n",
    "text = \"Today's date is 2025-03-27\"\n",
    "\n",
    "pattern = r'\\b\\d{4}-\\d{2}-\\d{2}\\b'\n",
    "\n",
    "matches = re.findall(pattern, text)\n",
    "print(matches)"
   ]
  },
  {
   "cell_type": "code",
   "execution_count": 25,
   "metadata": {},
   "outputs": [
    {
     "name": "stdout",
     "output_type": "stream",
     "text": [
      "['(123) 456-7890', '987-654-3210']\n"
     ]
    }
   ],
   "source": [
    "\"\"\"\n",
    "Extract Phone Numbers\n",
    "Text: \"My phone numbers are (123) 456-7890 and 987-654-3210\"\n",
    "Task: Write a regex to extract both phone numbers.\n",
    "\n",
    "\"\"\"\n",
    "\n",
    "text = \"My phone numbers are (123) 456-7890 and 987-654-3210\"\n",
    "pattern = r'\\(?\\d{3}\\)?[-.\\s]?\\d{3}[-.\\s]?\\d{4}'\n",
    "\n",
    "matches = re.findall(pattern, text)\n",
    "print(matches)"
   ]
  },
  {
   "cell_type": "code",
   "execution_count": 29,
   "metadata": {},
   "outputs": [
    {
     "name": "stdout",
     "output_type": "stream",
     "text": [
      "['t', 't', 'n', 's', 'e']\n"
     ]
    }
   ],
   "source": [
    "\"\"\"\n",
    "Find Words with Double Letters\n",
    "Text: \"I saw a little kitten running across the street\"\n",
    "Task: Write a regex to extract words containing consecutive duplicate letters (e.g., little, kitten).\n",
    "\n",
    "\"\"\"\n",
    "text = \"I saw a little kitten running across the street\"\n",
    "pattern = r'\\b\\w*(\\w)\\1\\w*\\b'\n",
    "\n",
    "matches = re.findall(pattern, text)\n",
    "print(matches)"
   ]
  },
  {
   "cell_type": "code",
   "execution_count": 32,
   "metadata": {},
   "outputs": [
    {
     "name": "stdout",
     "output_type": "stream",
     "text": [
      "['#Python', '#AI']\n"
     ]
    }
   ],
   "source": [
    "\"\"\"\n",
    "Find Hashtags in a Tweet\n",
    "Text = \"Loving the #Python and #AI vibes today!\"\n",
    "Task: Write a regex to extract all hashtags from the text.\n",
    "\n",
    "\"\"\"\n",
    "\n",
    "text = \"Loving the #Python and #AI vibes today!\"\n",
    "pattern = r'#\\w+'\n",
    "\n",
    "matches = re.findall(pattern, text)\n",
    "print(matches)\n",
    "\n"
   ]
  },
  {
   "cell_type": "code",
   "execution_count": 34,
   "metadata": {},
   "outputs": [
    {
     "name": "stdout",
     "output_type": "stream",
     "text": [
      "['98765', '54321']\n"
     ]
    }
   ],
   "source": [
    "\"\"\"\n",
    "Extract Digits from a String\n",
    "Text: \"Order number: 98765, Confirmation code: 54321\"\n",
    "Task: Write a regex to extract all numerical values.\n",
    "\n",
    "\"\"\"\n",
    "text =  \"Order number: 98765, Confirmation code: 54321\"\n",
    "\n",
    "pattern = r'\\d+'\n",
    "\n",
    "matches = re.findall(pattern, text)\n",
    "print(matches)"
   ]
  },
  {
   "cell_type": "code",
   "execution_count": 35,
   "metadata": {},
   "outputs": [
    {
     "name": "stdout",
     "output_type": "stream",
     "text": [
      "['Alice', 'Bob', 'New', 'York', 'Conference']\n"
     ]
    }
   ],
   "source": [
    "\"\"\"\n",
    "Find Words Starting with a Capital Letter\n",
    "Text: \"Alice and Bob went to New York for a Conference\"\n",
    "Task: Write a regex to extract words that start with a capital letter.\n",
    "\n",
    "\"\"\"\n",
    "\n",
    "text = \"Alice and Bob went to New York for a Conference\"\n",
    "pattern = r'\\b[A-Z][a-z]*\\b'\n",
    "\n",
    "matches = re.findall(pattern, text)\n",
    "print(matches)\n",
    "\n"
   ]
  },
  {
   "cell_type": "code",
   "execution_count": 36,
   "metadata": {},
   "outputs": [
    {
     "name": "stdout",
     "output_type": "stream",
     "text": [
      "['example.com', 'test.org']\n"
     ]
    }
   ],
   "source": [
    "\"\"\"\n",
    "Extract Domain from URLs\n",
    "Text: \"Visit https://www.example.com or http://test.org for info\"\n",
    "Task: Write a regex to extract domain names from the URLs.\n",
    "\n",
    "\"\"\"\n",
    "\n",
    "text = \"https://www.example.com or http://test.org for info\"\n",
    "pattern = r'https?://(?:www\\.)?([\\w-]+\\.\\w+)'\n",
    "\n",
    "matches = re.findall(pattern, text)\n",
    "print(matches)"
   ]
  },
  {
   "cell_type": "code",
   "execution_count": 42,
   "metadata": {},
   "outputs": [
    {
     "name": "stdout",
     "output_type": "stream",
     "text": [
      "['is', 'test', 'repeated']\n"
     ]
    }
   ],
   "source": [
    "\"\"\"\n",
    "Find Repeated Words\n",
    "Text: \"This is is a test test to find repeated repeated words\"\n",
    "Task: Write a regex to find repeated words appearing consecutively.\n",
    "\"\"\"\n",
    "text = \"This is is a test test to find repeated repeated words\"\n",
    "pattern = r'\\b(\\w+)\\s+\\1\\b'\n",
    "\n",
    "matches = re.findall(pattern, text)\n",
    "print(matches)\n"
   ]
  },
  {
   "cell_type": "code",
   "execution_count": 46,
   "metadata": {},
   "outputs": [
    {
     "name": "stdout",
     "output_type": "stream",
     "text": [
      "['$59.99', '€10.50']\n"
     ]
    }
   ],
   "source": [
    "\"\"\"\n",
    "Extract Currency Values\n",
    "Text: \"The product costs $59.99 and the discount is €10.50\"\n",
    "Task: Write a regex to extract all currency values.\n",
    "\n",
    "\"\"\"\n",
    "\n",
    "text = \"The product costs $59.99 and the discount is €10.50\"\n",
    "\n",
    "pattern = r'[\\$\\€]\\d+\\.\\d{2}'\n",
    "\n",
    "matches = re.findall(pattern, text)\n",
    "print(matches)"
   ]
  },
  {
   "cell_type": "code",
   "execution_count": 56,
   "metadata": {},
   "outputs": [
    {
     "name": "stdout",
     "output_type": "stream",
     "text": [
      "['<div>', '</div>', '<p>', '</p>']\n"
     ]
    }
   ],
   "source": [
    "\n",
    "text = \"<div>Welcome</div> <p>This is a paragraph.</p>\"\n",
    "\n",
    "\n",
    "pattern = r'</?\\w+>'\n",
    "\n",
    "matches = re.findall(pattern, text)\n",
    "\n",
    "print(matches)\n"
   ]
  },
  {
   "cell_type": "code",
   "execution_count": 60,
   "metadata": {},
   "outputs": [
    {
     "name": "stdout",
     "output_type": "stream",
     "text": [
      "['192.168.1.1']\n"
     ]
    }
   ],
   "source": [
    "\"\"\"\n",
    "Validate IPv4 Addresses\n",
    "Text: \"Valid IP: 192.168.1.1, Invalid IP: 999.999.999.999\"\n",
    "Task: Write a regex to validate IPv4 addresses.\"\n",
    "\"\"\"\n",
    "text = \"Valid IP: 192.168.1.1, Invalid IP: 999.999.999.999\"\n",
    "pattern = \n",
    "\n",
    "matches = re.findall(pattern,text)\n",
    "print(matches)\n"
   ]
  },
  {
   "cell_type": "code",
   "execution_count": 62,
   "metadata": {},
   "outputs": [
    {
     "name": "stdout",
     "output_type": "stream",
     "text": [
      "['Running', 'swimming', 'playing']\n"
     ]
    }
   ],
   "source": [
    "\"\"\"\n",
    "Extract Words Ending with ‘ing’\n",
    "Text: \"Running, swimming, and playing are fun activities\"\n",
    "Task: Write a regex to extract words ending with ‘ing’.\n",
    "\n",
    "\"\"\"\n",
    "\n",
    "text = \"Running, swimming, and playing are fun activities\"\n",
    "pattern = r'\\b\\w+ing\\b'\n",
    "matches = re.findall(pattern,text)\n",
    "print(matches)\n",
    "\n"
   ]
  },
  {
   "cell_type": "code",
   "execution_count": null,
   "metadata": {},
   "outputs": [],
   "source": [
    "\"\"\"\n",
    "Find Sentences Ending with a Question Mark\n",
    "Text: \"Do you know the answer? Let's find out. Are you sure?\"\n",
    "Task: Write a regex to extract all sentences ending with ?.\n",
    "\n",
    "\"\"\"\n",
    "\n",
    "text =  \"Do you know the answer? Let's find out. Are you sure?\"\n"
   ]
  },
  {
   "cell_type": "code",
   "execution_count": 66,
   "metadata": {},
   "outputs": [
    {
     "name": "stdout",
     "output_type": "stream",
     "text": [
      "['#FF5733', '#00FF00']\n"
     ]
    }
   ],
   "source": [
    "\"\"\"\n",
    "Extract Hex Color Codes\n",
    "Text: \"Background color is #FF5733 and text color is #00FF00\"\n",
    "Task: Write a regex to extract hex color codes.\n",
    "\n",
    "\"\"\"\n",
    "text = \"Background color is #FF5733 and text color is #00FF00\"\n",
    "\n",
    "pattern = r\"#\\b[0-9A-Fa-f]{6}\\b\"\n",
    "\n",
    "matches = re.findall(pattern, text)\n",
    "print(matches)\n",
    "\n"
   ]
  },
  {
   "cell_type": "code",
   "execution_count": 67,
   "metadata": {},
   "outputs": [
    {
     "name": "stdout",
     "output_type": "stream",
     "text": [
      "['ChatGPT', 'OpenAI']\n"
     ]
    }
   ],
   "source": [
    "\"\"\"\n",
    "\n",
    "Extract Usernames from Twitter Handles\n",
    "Text = \"Follow us @ChatGPT and @OpenAI\"\n",
    "Task: Write a regex to extract usernames after @.\n",
    "\n",
    "\"\"\"\n",
    "text = \"Follow us @ChatGPT and @OpenAI\"\n",
    "\n",
    "pattern = r\"@(\\w+)\"\n",
    "\n",
    "matches = re.findall(pattern, text)\n",
    "print(matches)\n"
   ]
  },
  {
   "cell_type": "code",
   "execution_count": 69,
   "metadata": {},
   "outputs": [
    {
     "data": {
      "text/plain": [
       "'\\ntext = \"My password is Str0ngP@ss!\"\\nTask: Write a regex to check if the password has at least 8 characters, including uppercase, lowercase, numbers, and special characters.\"\\n\\n'"
      ]
     },
     "execution_count": 69,
     "metadata": {},
     "output_type": "execute_result"
    }
   ],
   "source": [
    "# Validate Strong Passwords\n",
    "\"\"\"\n",
    "text = \"My password is Str0ngP@ss!\"\n",
    "Task: Write a regex to check if the password has at least 8 characters, including uppercase, lowercase, numbers, and special characters.\"\n",
    "\n",
    "\"\"\"\n"
   ]
  },
  {
   "cell_type": "code",
   "execution_count": 73,
   "metadata": {},
   "outputs": [
    {
     "name": "stdout",
     "output_type": "stream",
     "text": [
      "['file']\n"
     ]
    }
   ],
   "source": [
    "\"\"\"\n",
    "Extract File Names from a Path\n",
    "Text: \"/home/user/documents/report.pdf and C:\\\\Users\\\\Admin\\\\file.txt\"\n",
    "Task: Write a regex to extract file names from paths.\n",
    "\n",
    "\"\"\"\n",
    "text = \"/home/user/documents/report.pdf and C:\\\\Users\\\\Admin\\\\file.txt\"\n",
    "\n",
    "pattern = r\"([^\\\\/]+)\\.\\w+$\"\n",
    "\n",
    "matches = re.findall(pattern, text)\n",
    "\n",
    "print(matches)\n"
   ]
  },
  {
   "cell_type": "code",
   "execution_count": 76,
   "metadata": {},
   "outputs": [
    {
     "name": "stdout",
     "output_type": "stream",
     "text": [
      "['Beautiful']\n"
     ]
    }
   ],
   "source": [
    "\"\"\"\n",
    "Find Three Consecutive Vowels\n",
    "Text: \"Beautiful ocean scenery is amazing\"\n",
    "Task: Write a regex to find words containing three consecutive vowels.\n",
    "\n",
    "\n",
    "\"\"\"\n",
    "\n",
    "text = \"Beautiful ocean scenery is amazing\"\n",
    "\n",
    "\n",
    "pattern = r\"\\b\\w*[aeiouAEIOU]{3}\\w*\\b\"\n",
    "\n",
    "matches = re.findall(pattern, text)\n",
    "\n",
    "print(matches)\n",
    "\n"
   ]
  },
  {
   "cell_type": "code",
   "execution_count": null,
   "metadata": {},
   "outputs": [],
   "source": []
  }
 ],
 "metadata": {
  "kernelspec": {
   "display_name": "Python 3",
   "language": "python",
   "name": "python3"
  },
  "language_info": {
   "codemirror_mode": {
    "name": "ipython",
    "version": 3
   },
   "file_extension": ".py",
   "mimetype": "text/x-python",
   "name": "python",
   "nbconvert_exporter": "python",
   "pygments_lexer": "ipython3",
   "version": "3.13.2"
  }
 },
 "nbformat": 4,
 "nbformat_minor": 2
}
