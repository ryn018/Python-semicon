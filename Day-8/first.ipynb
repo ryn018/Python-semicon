{
 "cells": [
  {
   "cell_type": "code",
   "execution_count": null,
   "metadata": {},
   "outputs": [],
   "source": [
    "#Meta charectors\n",
    "'''\n",
    ". --------dot stands for any character(letter,digit,or special char except\\n)\n",
    "[...] --- matches one of the charecter you mentioned (either a,b,c)[abc]\n",
    "\n",
    "[^..] --- matches all other chars expect [abc]\n",
    "\n",
    "\\   ------ any special meaning attached that char will be nullified\n",
    "\n",
    "|  -------- match this or that\n",
    "\n",
    "\n",
    "\n",
    "\n",
    "'''"
   ]
  },
  {
   "cell_type": "code",
   "execution_count": 1,
   "metadata": {},
   "outputs": [],
   "source": [
    "import re\n",
    "data = ['ab', 'abc', 'a5e', 'a6f', '123 a6c', 'a5b', 'a55b', 'a555b', 'a5555b',\n",
    "        'a55555b', 'a555555b', 'a5xb', '1/4', '3+2=5', 'def ghi', 'abc ab']"
   ]
  },
  {
   "cell_type": "code",
   "execution_count": 5,
   "metadata": {},
   "outputs": [
    {
     "name": "stdout",
     "output_type": "stream",
     "text": [
      "abc matched in 'abc'\n",
      "abc matched in 'abc ab'\n",
      "_____________________________\n",
      "abc matched in 'abc'\n",
      "a6c matched in '123 a6c'\n",
      "abc matched in 'abc ab'\n"
     ]
    }
   ],
   "source": [
    "# regex_experiments.py\n",
    "# find pattern form beginning\n",
    "import re\n",
    "data = ['ab', 'abc', 'a5e', 'a6f', '123 a6c', 'a5b', 'a55b', 'a555b', 'a5555b',\n",
    "        'a55555b', 'a555555b', 'a5xb', '1/4', '3+2=5', 'def ghi', 'abc ab']\n",
    "for item in data:\n",
    "  m = re.match(r'a.c', item)\n",
    "  if m:\n",
    "        print(m.group() + ' matched in ' + '\\'' + item + '\\'')\n",
    "\n",
    "print('_____________________________')\n",
    "\n",
    "for item in data:\n",
    "  m = re.search(r'a.c', item)\n",
    "  if m:\n",
    "        print(m.group() + ' matched in ' + '\\'' + item + '\\'')\n",
    "\n",
    "# Because search will find pattern anywhere."
   ]
  },
  {
   "cell_type": "code",
   "execution_count": 6,
   "metadata": {},
   "outputs": [
    {
     "name": "stdout",
     "output_type": "stream",
     "text": [
      "abc matched in 'abc'\n",
      "a5e matched in 'a5e'\n",
      "a6f matched in 'a6f'\n",
      "a6c matched in '123 a6c'\n",
      "a5b matched in 'a5b'\n",
      "a55 matched in 'a55b'\n",
      "a55 matched in 'a555b'\n",
      "a55 matched in 'a5555b'\n",
      "a55 matched in 'a55555b'\n",
      "a55 matched in 'a555555b'\n",
      "a5x matched in 'a5xb'\n",
      "abc matched in 'abc ab'\n"
     ]
    }
   ],
   "source": [
    "# any 3 charecter pattern starting with a\n",
    "pattern = \"a..\"\n",
    "\n",
    "for item in data:\n",
    "  m = re.search(r'a..', item)\n",
    "  if m:\n",
    "        print(m.group() + ' matched in ' + '\\'' + item + '\\'')"
   ]
  },
  {
   "cell_type": "code",
   "execution_count": 7,
   "metadata": {},
   "outputs": [
    {
     "name": "stdout",
     "output_type": "stream",
     "text": [
      "abc matched in 'abc'\n",
      "a6f matched in 'a6f'\n",
      "a6c matched in '123 a6c'\n",
      "a5b matched in 'a5b'\n",
      "abc matched in 'abc ab'\n"
     ]
    }
   ],
   "source": [
    "# any three charecters starting with a, followed by any char, followed be one of b,c,f\n",
    "for item in data:\n",
    "  m = re.search(r'a.[bcf]', item)\n",
    "  if m:\n",
    "        print(m.group() + ' matched in ' + '\\'' + item + '\\'')"
   ]
  },
  {
   "cell_type": "code",
   "execution_count": 10,
   "metadata": {},
   "outputs": [
    {
     "name": "stdout",
     "output_type": "stream",
     "text": [
      "a5e matched in 'a5e'\n",
      "a6f matched in 'a6f'\n",
      "a5b matched in 'a5b'\n",
      "a5x matched in 'a5xb'\n"
     ]
    }
   ],
   "source": [
    "# [abd-z] except c match aa small alnahabets : d-z ==> d to z, 0-9\n",
    "for item in data:\n",
    "  m = re.search(r'a.[abd-z]', item)\n",
    "  if m:\n",
    "        print(m.group() + ' matched in ' + '\\'' + item + '\\'')"
   ]
  },
  {
   "cell_type": "code",
   "execution_count": 8,
   "metadata": {},
   "outputs": [
    {
     "name": "stdout",
     "output_type": "stream",
     "text": [
      "a5e matched in 'a5e'\n",
      "a5b matched in 'a5b'\n",
      "a55 matched in 'a55b'\n",
      "a55 matched in 'a555b'\n",
      "a55 matched in 'a5555b'\n",
      "a55 matched in 'a55555b'\n",
      "a55 matched in 'a555555b'\n",
      "a5x matched in 'a5xb'\n"
     ]
    }
   ],
   "source": [
    "# [^cf]\n",
    "for item in data:\n",
    "  m = re.search(r'a[0-9][^cf]', item)\n",
    "  if m:\n",
    "        print(m.group() + ' matched in ' + '\\'' + item + '\\'')"
   ]
  },
  {
   "cell_type": "code",
   "execution_count": 9,
   "metadata": {},
   "outputs": [
    {
     "name": "stdout",
     "output_type": "stream",
     "text": [
      "a6f matched in 'a6f'\n",
      "a6c matched in '123 a6c'\n"
     ]
    }
   ],
   "source": [
    "for item in data:\n",
    "  m = re.search(r'a[0-9][cf]', item)\n",
    "  if m:\n",
    "        print(m.group() + ' matched in ' + '\\'' + item + '\\'')"
   ]
  },
  {
   "cell_type": "code",
   "execution_count": null,
   "metadata": {},
   "outputs": [],
   "source": [
    "for item in data:\n",
    "  m = re.search(r'a.c', item)\n",
    "  if m:\n",
    "        print(m.group() + ' matched in ' + '\\'' + item + '\\'')"
   ]
  },
  {
   "cell_type": "code",
   "execution_count": 11,
   "metadata": {},
   "outputs": [],
   "source": [
    "for item in data:\n",
    "  m = re.search(r'3+2', item)\n",
    "  if m:\n",
    "        print(m.group() + ' matched in ' + '\\'' + item + '\\'')"
   ]
  },
  {
   "cell_type": "code",
   "execution_count": 12,
   "metadata": {},
   "outputs": [
    {
     "name": "stdout",
     "output_type": "stream",
     "text": [
      "3+2 matched in '3+2=5'\n"
     ]
    }
   ],
   "source": [
    "for item in data:\n",
    "  m = re.search(r'3\\+2', item)\n",
    "  if m:\n",
    "        print(m.group() + ' matched in ' + '\\'' + item + '\\'')"
   ]
  },
  {
   "cell_type": "code",
   "execution_count": 14,
   "metadata": {},
   "outputs": [
    {
     "name": "stdout",
     "output_type": "stream",
     "text": [
      "3+2 matched in '3+2=5'\n"
     ]
    }
   ],
   "source": [
    "for item in data:\n",
    "  m = re.search(r'[0-9]\\+[0-9]', item)\n",
    "  if m:\n",
    "        print(m.group() + ' matched in ' + '\\'' + item + '\\'')"
   ]
  },
  {
   "cell_type": "code",
   "execution_count": 16,
   "metadata": {},
   "outputs": [
    {
     "name": "stdout",
     "output_type": "stream",
     "text": [
      "abc matched in 'abc'\n",
      "a6c matched in '123 a6c'\n",
      "3+2 matched in '3+2=5'\n",
      "abc matched in 'abc ab'\n"
     ]
    }
   ],
   "source": [
    "for item in data:\n",
    "  m = re.search(r'[0-9]\\+[0-9]|a.c', item)\n",
    "  if m:\n",
    "        print(m.group() + ' matched in ' + '\\'' + item + '\\'')"
   ]
  },
  {
   "cell_type": "code",
   "execution_count": null,
   "metadata": {},
   "outputs": [],
   "source": [
    "# Default charecter class\n",
    "\"\"\"\n",
    "\\d\n",
    "\\w\n",
    "\\s\n",
    "\n",
    "\"\"\""
   ]
  },
  {
   "cell_type": "code",
   "execution_count": 18,
   "metadata": {},
   "outputs": [
    {
     "name": "stdout",
     "output_type": "stream",
     "text": [
      "3+2 matched in '3+2=5'\n"
     ]
    }
   ],
   "source": [
    "for item in data:\n",
    "  m = re.search(r'\\d\\+\\d', item)\n",
    "  if m:\n",
    "        print(m.group() + ' matched in ' + '\\'' + item + '\\'')"
   ]
  },
  {
   "cell_type": "code",
   "execution_count": null,
   "metadata": {},
   "outputs": [],
   "source": [
    "for item in data:\n",
    "  m = re.search(r'3+2', item)\n",
    "  if m:\n",
    "        print(m.group() + ' matched in ' + '\\'' + item + '\\'')"
   ]
  },
  {
   "cell_type": "code",
   "execution_count": 19,
   "metadata": {},
   "outputs": [
    {
     "name": "stdout",
     "output_type": "stream",
     "text": [
      "3 a matched in '123 a6c'\n",
      "f g matched in 'def ghi'\n",
      "c a matched in 'abc ab'\n"
     ]
    }
   ],
   "source": [
    "for item in data:\n",
    "  m = re.search(r'\\w\\s\\w', item)\n",
    "  if m:\n",
    "        print(m.group() + ' matched in ' + '\\'' + item + '\\'')"
   ]
  },
  {
   "cell_type": "code",
   "execution_count": null,
   "metadata": {},
   "outputs": [],
   "source": [
    "# Achors\n",
    "\"\"\"\n",
    "^ The beiginning of the line\n",
    "\n",
    "$ The end of the line\n",
    "\n",
    "\\b word boundary\n",
    "\n",
    "\n",
    "\\B not a word boundary\n",
    "\n",
    "\n",
    "\n",
    "\n",
    "\"\"\""
   ]
  },
  {
   "cell_type": "markdown",
   "metadata": {},
   "source": []
  },
  {
   "cell_type": "code",
   "execution_count": 20,
   "metadata": {},
   "outputs": [
    {
     "name": "stdout",
     "output_type": "stream",
     "text": [
      "a6 matched in 'a6f'\n",
      "a6 matched in '123 a6c'\n"
     ]
    }
   ],
   "source": [
    "for item in data:\n",
    "  m = re.search(r'a6', item)\n",
    "  if m:\n",
    "        print(m.group() + ' matched in ' + '\\'' + item + '\\'')"
   ]
  },
  {
   "cell_type": "code",
   "execution_count": 21,
   "metadata": {},
   "outputs": [
    {
     "name": "stdout",
     "output_type": "stream",
     "text": [
      "a6 matched in 'a6f'\n"
     ]
    }
   ],
   "source": [
    "for item in data:\n",
    "  m = re.search(r'^a6', item)\n",
    "  if m:\n",
    "        print(m.group() + ' matched in ' + '\\'' + item + '\\'')"
   ]
  },
  {
   "cell_type": "code",
   "execution_count": 22,
   "metadata": {},
   "outputs": [
    {
     "name": "stdout",
     "output_type": "stream",
     "text": [
      "abc matched in 'abc'\n",
      "a6c matched in '123 a6c'\n",
      "abc matched in 'abc ab'\n"
     ]
    }
   ],
   "source": [
    "for item in data:\n",
    "  m = re.search(r'..c', item)\n",
    "  if m:\n",
    "        print(m.group() + ' matched in ' + '\\'' + item + '\\'')"
   ]
  },
  {
   "cell_type": "code",
   "execution_count": 23,
   "metadata": {},
   "outputs": [
    {
     "name": "stdout",
     "output_type": "stream",
     "text": [
      "abc matched in 'abc'\n",
      "a6c matched in '123 a6c'\n"
     ]
    }
   ],
   "source": [
    "for item in data:\n",
    "  m = re.search(r'..c$', item)\n",
    "  if m:\n",
    "        print(m.group() + ' matched in ' + '\\'' + item + '\\'')"
   ]
  },
  {
   "cell_type": "code",
   "execution_count": 25,
   "metadata": {},
   "outputs": [
    {
     "name": "stdout",
     "output_type": "stream",
     "text": [
      "ab matched in 'ab'\n",
      "ab matched in 'abc ab'\n"
     ]
    }
   ],
   "source": [
    "for item in data:\n",
    "  m = re.search(r'ab\\b', item)\n",
    "  if m:\n",
    "        print(m.group() + ' matched in ' + '\\'' + item + '\\'')"
   ]
  },
  {
   "cell_type": "code",
   "execution_count": 27,
   "metadata": {},
   "outputs": [
    {
     "data": {
      "text/plain": [
       "'\\n* The previous char is repeated zero or more times\\n+ the previous char is repeated one ore more\\n? exactly one time or not at all\\n{n} prev char appears exactly n times\\nm,n} m to n gtimes\\n{m,} {,n}\\n\\n\\n'"
      ]
     },
     "execution_count": 27,
     "metadata": {},
     "output_type": "execute_result"
    }
   ],
   "source": [
    "# The quantifiers\n",
    "# ================\n",
    "# How much to match\n",
    "'''\n",
    "* The previous char is repeated zero or more times\n",
    "+ the previous char is repeated one ore more\n",
    "? exactly one time or not at all\n",
    "{n} prev char appears exactly n times\n",
    "{m,n} m to n gtimes\n",
    "{m,} {,n} \n",
    "\n",
    "\n",
    "'''"
   ]
  },
  {
   "cell_type": "code",
   "execution_count": 29,
   "metadata": {},
   "outputs": [
    {
     "name": "stdout",
     "output_type": "stream",
     "text": [
      "a5b matched in 'a5b'\n",
      "a55b matched in 'a55b'\n",
      "a555b matched in 'a555b'\n",
      "a5555b matched in 'a5555b'\n",
      "a55555b matched in 'a55555b'\n",
      "a555555b matched in 'a555555b'\n"
     ]
    }
   ],
   "source": [
    "for item in data:\n",
    "  m = re.search(r'a55*b', item)\n",
    "  if m:\n",
    "        print(m.group() + ' matched in ' + '\\'' + item + '\\'')"
   ]
  },
  {
   "cell_type": "code",
   "execution_count": 32,
   "metadata": {},
   "outputs": [
    {
     "name": "stdout",
     "output_type": "stream",
     "text": [
      "a55b matched in 'a55b'\n",
      "a555b matched in 'a555b'\n",
      "a5555b matched in 'a5555b'\n",
      "a55555b matched in 'a55555b'\n",
      "a555555b matched in 'a555555b'\n"
     ]
    }
   ],
   "source": [
    "for item in data:\n",
    "  m = re.search(r'a55+b', item)\n",
    "  if m:\n",
    "        print(m.group() + ' matched in ' + '\\'' + item + '\\'')"
   ]
  },
  {
   "cell_type": "code",
   "execution_count": 34,
   "metadata": {},
   "outputs": [
    {
     "name": "stdout",
     "output_type": "stream",
     "text": [
      "a5b matched in 'a5b'\n",
      "a55b matched in 'a55b'\n"
     ]
    }
   ],
   "source": [
    "for item in data:\n",
    "  m = re.search(r'a55?b', item)\n",
    "  if m:\n",
    "        print(m.group() + ' matched in ' + '\\'' + item + '\\'')"
   ]
  },
  {
   "cell_type": "code",
   "execution_count": 35,
   "metadata": {},
   "outputs": [
    {
     "name": "stdout",
     "output_type": "stream",
     "text": [
      "a555b matched in 'a555b'\n",
      "a5555b matched in 'a5555b'\n",
      "a55555b matched in 'a55555b'\n"
     ]
    }
   ],
   "source": [
    "for item in data:\n",
    "  m = re.search(r'a55{2,4}b', item)\n",
    "  if m:\n",
    "        print(m.group() + ' matched in ' + '\\'' + item + '\\'')"
   ]
  },
  {
   "cell_type": "code",
   "execution_count": null,
   "metadata": {},
   "outputs": [],
   "source": [
    "for item in data:\n",
    "  m = re.search(r'ab\\b', item)\n",
    "  if m:\n",
    "        print(m.group() + ' matched in ' + '\\'' + item + '\\'')"
   ]
  },
  {
   "cell_type": "code",
   "execution_count": 36,
   "metadata": {},
   "outputs": [
    {
     "name": "stdout",
     "output_type": "stream",
     "text": [
      "a555b matched in 'a555b'\n",
      "a5555b matched in 'a5555b'\n",
      "a55555b matched in 'a55555b'\n",
      "a555555b matched in 'a555555b'\n"
     ]
    }
   ],
   "source": [
    "for item in data:\n",
    "  m = re.search(r'a55{2,}b', item)\n",
    "  if m:\n",
    "        print(m.group() + ' matched in ' + '\\'' + item + '\\'')"
   ]
  },
  {
   "cell_type": "code",
   "execution_count": 37,
   "metadata": {},
   "outputs": [
    {
     "name": "stdout",
     "output_type": "stream",
     "text": [
      "a5b matched in 'a5b'\n",
      "a55b matched in 'a55b'\n",
      "a555b matched in 'a555b'\n",
      "a5555b matched in 'a5555b'\n",
      "a55555b matched in 'a55555b'\n"
     ]
    }
   ],
   "source": [
    "for item in data:\n",
    "  m = re.search(r'a55{,4}b', item)\n",
    "  if m:\n",
    "        print(m.group() + ' matched in ' + '\\'' + item + '\\'')"
   ]
  },
  {
   "cell_type": "code",
   "execution_count": 38,
   "metadata": {},
   "outputs": [
    {
     "name": "stdout",
     "output_type": "stream",
     "text": [
      "a55 matched in 'a55b'\n",
      "a55 matched in 'a555b'\n",
      "a55 matched in 'a5555b'\n",
      "a55 matched in 'a55555b'\n",
      "a55 matched in 'a555555b'\n"
     ]
    }
   ],
   "source": [
    "for item in data:\n",
    "  m = re.search(r'a(55)', item)\n",
    "  if m:\n",
    "        print(m.group() + ' matched in ' + '\\'' + item + '\\'')"
   ]
  },
  {
   "cell_type": "code",
   "execution_count": null,
   "metadata": {},
   "outputs": [],
   "source": []
  }
 ],
 "metadata": {
  "kernelspec": {
   "display_name": "Python 3",
   "language": "python",
   "name": "python3"
  },
  "language_info": {
   "codemirror_mode": {
    "name": "ipython",
    "version": 3
   },
   "file_extension": ".py",
   "mimetype": "text/x-python",
   "name": "python",
   "nbconvert_exporter": "python",
   "pygments_lexer": "ipython3",
   "version": "3.13.2"
  }
 },
 "nbformat": 4,
 "nbformat_minor": 2
}
