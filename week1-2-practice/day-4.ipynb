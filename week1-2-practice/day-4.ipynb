{
 "cells": [
  {
   "cell_type": "code",
   "execution_count": 5,
   "metadata": {},
   "outputs": [
    {
     "name": "stdout",
     "output_type": "stream",
     "text": [
      "[2, 3, 4, 5, 7, 11, 13, 17, 19, 23, 29, 31, 37, 41, 43, 47]\n"
     ]
    }
   ],
   "source": [
    "# Extract all the prime numbers between 2 and 50\n",
    "\n",
    "def primeCheck(num):\n",
    "    if num < 2:\n",
    "        return False\n",
    "    elif num == 2:\n",
    "        return True\n",
    "\n",
    "    for i in range(3,num):\n",
    "        if num % i == 0:\n",
    "            return False\n",
    "    return True\n",
    "prime = []\n",
    "for i in range(2,50):\n",
    "    \n",
    "    if primeCheck(i):\n",
    "        prime.append(i)\n",
    "print(prime)\n",
    "\n",
    "\n"
   ]
  },
  {
   "cell_type": "code",
   "execution_count": 6,
   "metadata": {},
   "outputs": [
    {
     "data": {
      "text/plain": [
       "8"
      ]
     },
     "execution_count": 6,
     "metadata": {},
     "output_type": "execute_result"
    }
   ],
   "source": [
    "add = lambda x,y: x + y\n",
    "add(5,3)"
   ]
  },
  {
   "cell_type": "code",
   "execution_count": 8,
   "metadata": {},
   "outputs": [
    {
     "ename": "NameError",
     "evalue": "name 'T' is not defined",
     "output_type": "error",
     "traceback": [
      "\u001b[31m---------------------------------------------------------------------------\u001b[39m",
      "\u001b[31mNameError\u001b[39m                                 Traceback (most recent call last)",
      "\u001b[36mCell\u001b[39m\u001b[36m \u001b[39m\u001b[32mIn[8]\u001b[39m\u001b[32m, line 1\u001b[39m\n\u001b[32m----> \u001b[39m\u001b[32m1\u001b[39m temp = \u001b[38;5;28mlist\u001b[39m(\u001b[38;5;28mmap\u001b[39m(\u001b[38;5;28;01mlambda\u001b[39;00m t: t * \u001b[32m3.8\u001b[39m + \u001b[32m32\u001b[39m, \u001b[43mT\u001b[49m))\n",
      "\u001b[31mNameError\u001b[39m: name 'T' is not defined"
     ]
    }
   ],
   "source": [
    "temp = list(map(lambda t: t * 3.8 + 32, T))\n"
   ]
  },
  {
   "cell_type": "markdown",
   "metadata": {},
   "source": [
    "Session 1: [30]\n",
    "-----------------------------------------------------------------------------------------\n",
    "\n",
    "Write a function to return the sum of individual digits \n",
    "Example: sum_individual(123) -> 6\n",
    "\n",
    "Create a list of squares of numbers between 1 and 10\n",
    "Use map()\n",
    "\n",
    "List all three digit numbers between 100 and 1000 whose sum of individual digits \n",
    "equate to 11. Use filter()\n",
    "\n",
    "Given L = [\"red\", \"green\", \"blue\", \"yellow\"]\n",
    "Sort the list in descending order with respect to the last charecter of the element\n",
    "output -> ['yellow', 'green', 'blue', 'red']\n",
    "\n",
    "Session 2: [30]\n",
    "-----------------------------------------------------------------------------------------\n",
    "\n",
    "1. Given a list of numbers, create a new list containing the squares of only the even numbers.\n",
    "2. Given a list of words, create a dictionary where the keys are words and the values are their lengths.\n",
    "   words = [\"apple\", \"banana\", \"cherry\", \"date\", \"elderberry\"]\n",
    "3. Given a list of tuples with names and ages, create a dictionary of names with ages only if age is greater than 18.\n",
    "   [(\"Alice\", 25), (\"Bob\", 17), (\"Charlie\", 19), (\"David\", 16)]\n",
    "4. Flatten a 2D list into a 1D list using a list comprehension.\n",
    "    matrix = [[1, 2, 3], [4, 5, 6], [7, 8, 9]]\n",
    "5. Given a string, create a dictionary where the keys are characters and values are their frequencies.\n",
    "    text = \"comprehension\"\n",
    "\n",
    "6. What is the time required to find all the prime numbers between a given range\n",
    "   Example: a -> 3\n",
    "            b -> 10\n",
    "            Output: 3, 5, 7\n",
    "            Time: 0.0002 seconds\n",
    "\n",
    "7. Come up with an algorithm to flatten a list and implement it in python:\n",
    "   Example: [1, 2, 3, [4, 5, [6, 7]], 8]\n",
    "            Output: [1, 2, 3, 4, 5, 6, 7, 8]"
   ]
  },
  {
   "cell_type": "code",
   "execution_count": 20,
   "metadata": {},
   "outputs": [
    {
     "data": {
      "text/plain": [
       "6"
      ]
     },
     "execution_count": 20,
     "metadata": {},
     "output_type": "execute_result"
    }
   ],
   "source": [
    "\"\"\"\n",
    "Write a function to return the sum of individual digits \n",
    "Example: sum_individual(123) -> 6\n",
    "\n",
    "\"\"\"\n",
    "\n",
    "def sum_individual(num):\n",
    "    sum = 0\n",
    "    for item in str(num):\n",
    "        sum += int(item)\n",
    "    return sum\n",
    "\n",
    "\n",
    "sum_individual(123)"
   ]
  },
  {
   "cell_type": "code",
   "execution_count": null,
   "metadata": {},
   "outputs": [],
   "source": []
  }
 ],
 "metadata": {
  "kernelspec": {
   "display_name": "Python 3",
   "language": "python",
   "name": "python3"
  },
  "language_info": {
   "codemirror_mode": {
    "name": "ipython",
    "version": 3
   },
   "file_extension": ".py",
   "mimetype": "text/x-python",
   "name": "python",
   "nbconvert_exporter": "python",
   "pygments_lexer": "ipython3",
   "version": "3.13.2"
  }
 },
 "nbformat": 4,
 "nbformat_minor": 2
}
