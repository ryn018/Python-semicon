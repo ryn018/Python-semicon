{
 "cells": [
  {
   "cell_type": "code",
   "execution_count": 4,
   "metadata": {},
   "outputs": [
    {
     "name": "stdout",
     "output_type": "stream",
     "text": [
      "[(0, 'One'), (1, 'Two'), (2, 'Three'), (3, 'Four'), (4, 'Five'), (5, 'Six'), (6, 'Seven')]\n"
     ]
    }
   ],
   "source": [
    "list1 = [\"One\",\"Two\",\"Three\",\"Four\",\"Five\",\"Six\",\"Seven\"]\n",
    "print(list(enumerate(list1)))\n"
   ]
  },
  {
   "cell_type": "code",
   "execution_count": 5,
   "metadata": {},
   "outputs": [
    {
     "name": "stdout",
     "output_type": "stream",
     "text": [
      "(0, 'One')\n",
      "(1, 'Two')\n",
      "(2, 'Three')\n",
      "(3, 'Four')\n",
      "(4, 'Five')\n",
      "(5, 'Six')\n",
      "(6, 'Seven')\n"
     ]
    }
   ],
   "source": [
    "for i in enumerate(list1):\n",
    "    print(i)"
   ]
  },
  {
   "cell_type": "code",
   "execution_count": 7,
   "metadata": {},
   "outputs": [
    {
     "name": "stdout",
     "output_type": "stream",
     "text": [
      "0: One\n",
      "1: Two\n",
      "2: Three\n",
      "3: Four\n",
      "4: Five\n",
      "5: Six\n",
      "6: Seven\n"
     ]
    }
   ],
   "source": [
    "for index,num in enumerate(list1):\n",
    "    print(f\"{index}: {num}\")"
   ]
  },
  {
   "cell_type": "code",
   "execution_count": 10,
   "metadata": {},
   "outputs": [
    {
     "name": "stdout",
     "output_type": "stream",
     "text": [
      "BLUE GREEN ORANGE RED YELLOW "
     ]
    }
   ],
   "source": [
    "colors = [\"Blue\",\"Green\",\"Orange\",\"Red\",\"Yellow\"]\n",
    "\n",
    "for item in colors:\n",
    "    print(item.upper() ,end = \" \")"
   ]
  },
  {
   "cell_type": "code",
   "execution_count": 11,
   "metadata": {},
   "outputs": [
    {
     "name": "stdout",
     "output_type": "stream",
     "text": [
      "1 * 5 = 5\n",
      "2 * 5 = 10\n",
      "3 * 5 = 15\n",
      "4 * 5 = 20\n",
      "5 * 5 = 25\n",
      "6 * 5 = 30\n",
      "7 * 5 = 35\n",
      "8 * 5 = 40\n",
      "9 * 5 = 45\n",
      "10 * 5 = 50\n"
     ]
    }
   ],
   "source": [
    "for i in range(1,11):\n",
    "    print(f\"{i} * {5} = {i * 5}\")"
   ]
  },
  {
   "cell_type": "code",
   "execution_count": 13,
   "metadata": {},
   "outputs": [
    {
     "data": {
      "text/plain": [
       "True"
      ]
     },
     "execution_count": 13,
     "metadata": {},
     "output_type": "execute_result"
    }
   ],
   "source": [
    "def check_prime(num):\n",
    "    if num < 2:\n",
    "        return False\n",
    "    else:\n",
    "        for i in range(2,num):\n",
    "            if num % i == 0:\n",
    "                return False\n",
    "        return True\n",
    "    \n",
    "check_prime(17)"
   ]
  },
  {
   "cell_type": "code",
   "execution_count": 19,
   "metadata": {},
   "outputs": [
    {
     "data": {
      "text/plain": [
       "True"
      ]
     },
     "execution_count": 19,
     "metadata": {},
     "output_type": "execute_result"
    }
   ],
   "source": [
    "import math\n",
    "def check_prime(num):\n",
    "    if num < 2:\n",
    "        return False\n",
    "    elif num == 2:\n",
    "        return True\n",
    "    elif num % 2 == 0:\n",
    "        return False\n",
    "    else:\n",
    "        for i in range(3,int(math.sqrt(num)) + 1, 2):\n",
    "            if num % i == 0:\n",
    "                return False\n",
    "    return True\n",
    "\n",
    "check_prime(29)\n",
    "\n"
   ]
  },
  {
   "cell_type": "code",
   "execution_count": 20,
   "metadata": {},
   "outputs": [
    {
     "name": "stdout",
     "output_type": "stream",
     "text": [
      "4\n",
      "5\n",
      "6\n"
     ]
    }
   ],
   "source": [
    "list_a = [1, 2, 3, 4, 5, 6]  \n",
    "list_b = [4, 5, 6, 7, 8, 9]  \n",
    "# Task: Find common elements between list_a and list_b.\n",
    "\n",
    "for i in list_a:\n",
    "    if i in list_b:\n",
    "        print(i)"
   ]
  },
  {
   "cell_type": "code",
   "execution_count": 21,
   "metadata": {},
   "outputs": [
    {
     "name": "stdout",
     "output_type": "stream",
     "text": [
      "[1, 2, 3, 4, 5, 6]\n"
     ]
    }
   ],
   "source": [
    "numbers = [1, 2, 2, 3, 4, 4, 5, 6, 6]  \n",
    "# Task: Remove duplicates while keeping the order. \n",
    "unique = []\n",
    "\n",
    "for i in numbers:\n",
    "    if i not in unique:\n",
    "        unique.append(i)\n",
    "print(unique)"
   ]
  },
  {
   "cell_type": "code",
   "execution_count": 25,
   "metadata": {},
   "outputs": [
    {
     "name": "stdout",
     "output_type": "stream",
     "text": [
      "{'Mahesh': 25, 'Lakith': 26}\n"
     ]
    }
   ],
   "source": [
    "a = ['Mahesh', 'Lakith', 25, 26] \n",
    "# how to convert this to below dict format\n",
    "# a = {'Mahesh:25','lakith:26']  \n",
    "\n",
    "name = []\n",
    "age = []\n",
    "\n",
    "for i in a:\n",
    "    if isinstance(i,str):\n",
    "        name.append(i)\n",
    "    else:\n",
    "        age.append(i)\n",
    "\n",
    "new = zip(name,age)\n",
    "print(dict(new))\n"
   ]
  },
  {
   "cell_type": "code",
   "execution_count": 26,
   "metadata": {},
   "outputs": [
    {
     "data": {
      "text/plain": [
       "{'Anil': 'name',\n",
       " 35: 'age',\n",
       " 'UST Global': 'company',\n",
       " 'Bangalore': 'location',\n",
       " '1000000': 'salary'}"
      ]
     },
     "execution_count": 26,
     "metadata": {},
     "output_type": "execute_result"
    }
   ],
   "source": [
    "# reverse the keys and values\n",
    "D = {'name':'Anil', 'age':35, 'company':'UST Global', 'location':'Bangalore', 'salary':'1000000'}\n",
    "\n",
    "rd = {}\n",
    "for key,value in D.items():\n",
    "    rd[value] = key\n",
    "rd"
   ]
  },
  {
   "cell_type": "code",
   "execution_count": 30,
   "metadata": {},
   "outputs": [
    {
     "name": "stdout",
     "output_type": "stream",
     "text": [
      "{'b': 50, 'c': 40, 'a': 10}\n"
     ]
    }
   ],
   "source": [
    "# Task: Merge two dictionaries and sum the values of common keys.  \n",
    "# Example:  \n",
    "d1 = {'a': 10, 'b': 20}  \n",
    "d2 = {'b': 30, 'c': 40}  \n",
    "# Output: {'a': 10, 'b': 50, 'c': 40}  \n",
    "\n",
    "d3 = {}\n",
    "\n",
    "for key in d1:\n",
    "    if key not in d2:\n",
    "        d2[key] = d1[key]\n",
    "    else:\n",
    "        d2[key] += d1[key]\n",
    "print(d2)"
   ]
  },
  {
   "cell_type": "code",
   "execution_count": null,
   "metadata": {},
   "outputs": [],
   "source": [
    "word1 = \"listen\"  \n",
    "word2 = \"silent\"\n",
    "\n",
    "if sorted(word1) == sorted(word2):\n",
    "    print(\"Anagram\")"
   ]
  },
  {
   "cell_type": "markdown",
   "metadata": {},
   "source": []
  },
  {
   "cell_type": "markdown",
   "metadata": {},
   "source": [
    "Session #1: [45]\n",
    "-------------------------------------------------------------------------------------------------------------------\n",
    "basket = [\"Apple\", \"Banana\", \"Cherry\", \"Mango\"]  \n",
    "Task: Insert \"Grapes\" between \"Banana\" and \"Cherry\".  \n",
    "\n",
    "data = [10, 20, [30, 40, 50], 60, 70]  \n",
    "Task: Change 40 to 45 inside the nested list.  \n",
    "\n",
    "nums = [3, 6, 9, 12, 15, 18, 21]  \n",
    "Task: Extract [9, 12, 15] and reverse it.  \n",
    "\n",
    "numbers = [5, 3, 8, 5, 10, 5, 12, 5]  \n",
    "Task: Remove all occurrences of 5 from numbers.  \n",
    "\n",
    "list1 = [8, 3, 1, 7]  \n",
    "list2 = [4, 9, 2, 6]  \n",
    "Task: Merge list1 and list2, then sort the combined list.  \n",
    "\n",
    "colors = (\"Red\", \"Green\", \"Blue\", \"Yellow\")  \n",
    "Task: Convert colors to a list, change \"Green\" to \"Cyan\", and convert it back to a tuple.  \n",
    "\n",
    "names = [\"Alice\", \"Bob\", \"Charlie\", \"David\", \"Eve\"]  \n",
    "Task: Find the index of \"Charlie\".  \n",
    "\n",
    "nums_tuple = (4, 2, 4, 6, 4, 8, 4, 10)  \n",
    "Task: Count how many times 4 appears in nums_tuple.  \n",
    "\n",
    "values = [10, 20, 30, 40, 50]  \n",
    "Task: Swap the first and last elements.  \n",
    "\n",
    "values = []\n",
    "Task: Generate a list of squares for numbers from 1 to 10.  \n",
    "\n",
    "my_tuple = (1, 2, 3, 4, 5)  \n",
    "Task: Reverse my_tuple without converting it to a list.  \n",
    "\n",
    "data = [23, 45, 67, 12, 89, 34]  \n",
    "Task: Find the maximum and minimum values in data.  \n",
    "\n",
    "nums = [10, 20, 30, 40, 50, 60, 70]  \n",
    "Task: Extract every second element from nums.  \n",
    "\n",
    "\n",
    "**************************************************************\n",
    "nested_list = [[1, 2, 3], [4, 5, 6], [7, 8, 9]]  \n",
    "Task: Convert nested_list into a single flat list.  \n",
    "**************************************************************\n",
    "\n",
    "\n",
    "**************************************************************\n",
    "list_a = [1, 2, 3, 4, 5, 6]  \n",
    "list_b = [4, 5, 6, 7, 8, 9]  \n",
    "Task: Find common elements between list_a and list_b.  \n",
    "**************************************************************\n",
    "\n",
    "scores = [78, 55, 92, 30, 88, 62]  \n",
    "Task: Sort scores in descending order.  \n",
    "\n",
    "my_tuple = (1, 2, 3)  \n",
    "Task: Repeat my_tuple three times and store the result.  \n",
    "\n",
    "**************************************************************\n",
    "numbers = [1, 2, 2, 3, 4, 4, 5, 6, 6]  \n",
    "Task: Remove duplicates while keeping the order.  \n",
    "**************************************************************\n",
    "\n",
    "words = [\"Hello\", \"World\", \"Python\", \"Programming\"]  \n",
    "Task: Insert \"Amazing\" at index 2.  \n",
    "\n",
    "\n",
    "**************************************************************\n",
    "pairs = [(\"a\", 1), (\"b\", 2), (\"c\", 3)]  \n",
    "Task: Convert pairs into a dictionary.  \n",
    "**************************************************************\n",
    "\n",
    "\n",
    "Session #2 [30 - 40]\n",
    "-------------------------------------------------------------------------------------------------------------------\n",
    "\n",
    "\n",
    "nums = [1, 2, 3, 4, 5]  \n",
    "Task: Use a for loop to calculate the sum of all elements in nums.  \n",
    "\n",
    "count = 5  \n",
    "Task: Use a while loop to print numbers from count down to 1.  \n",
    "\n",
    "fruits = [\"Apple\", \"Banana\", \"Cherry\", \"Mango\"]  \n",
    "Task: Use a for loop to print each fruit in uppercase.  \n",
    "\n",
    "num = 1  \n",
    "Task: Use a while loop to print squares of numbers from 1 to 10.  \n",
    "\n",
    "values = [2, 4, 6, 8, 10]  \n",
    "Task: Use a for loop to create a new list containing cubes of values.  \n",
    "\n",
    "sentence = \"Python is fun\"  \n",
    "Task: Use a for loop to count how many times 'o' appears in sentence.  \n",
    "\n",
    "num = 10  \n",
    "Task: Use a while loop to print even numbers from 10 to 2 in reverse order.  \n",
    "\n",
    "matrix = [[1, 2], [3, 4], [5, 6]]  \n",
    "Task: Use nested for loops to print all elements in matrix.  \n",
    "\n",
    "num = 7  \n",
    "Task: Use a while loop to find the factorial of num.  \n",
    "\n",
    "numbers = [3, 9, 12, 18, 21, 25]  \n",
    "Task: Use a for loop to print only the numbers divisible by 3.  \n",
    "\n",
    "\n",
    "\n",
    "Session #3 [40]\n",
    "-------------------------------------------------------------------------------------------------------------------\n",
    "\n",
    "1. Count Word Frequency in a Sentence  \n",
    "Task: Given a sentence, count the occurrences of each word using a dictionary.  \n",
    "Example:  \n",
    "sentence = \"apple banana apple orange banana apple\"  \n",
    "Output: {'apple': 3, 'banana': 2, 'orange': 1}  \n",
    "\n",
    "2. Find Unique Elements in Two Lists Using Sets  \n",
    "Task: Given two lists, find the elements that are unique to each list using sets.  \n",
    "Example:  \n",
    "list1 = {1, 2, 3, 4}  \n",
    "list2 = {3, 4, 5, 6}  \n",
    "Output: Unique in list1: {1, 2}, Unique in list2: {5, 6}  \n",
    "\n",
    "3. Merge Two Dictionaries  \n",
    "Task: Merge two dictionaries and sum the values of common keys.  \n",
    "Example:  \n",
    "dict1 = {'a': 10, 'b': 20}  \n",
    "dict2 = {'b': 30, 'c': 40}  \n",
    "Output: {'a': 10, 'b': 50, 'c': 40}  \n",
    "\n",
    "4. Find the Intersection of Two Sets  \n",
    "Task: Given two sets, find the common elements.  \n",
    "Example:  \n",
    "set1 = {1, 2, 3, 4}  \n",
    "set2 = {3, 4, 5, 6}  \n",
    "Output: {3, 4}  \n",
    "\n",
    "5. Find the Most Frequent Element in a List  \n",
    "Task: Given a list, find the element that appears the most times.  \n",
    "Example:  \n",
    "numbers = [1, 3, 2, 3, 4, 3, 5, 2, 1, 3]  \n",
    "Output: Most frequent: 3 (appears 4 times)  \n",
    "\n",
    "6. Remove Duplicates from a List Using Sets  \n",
    "Task: Remove duplicates from a list while maintaining order.  \n",
    "Example:  \n",
    "lst = [1, 2, 2, 3, 4, 4, 5, 6, 6, 6]  \n",
    "Output: [1, 2, 3, 4, 5, 6]  \n",
    "\n",
    "7. Find Students Who Enrolled in Both Courses  \n",
    "Task: Given two sets of students, find those who are enrolled in both courses.  \n",
    "Example:  \n",
    "course_A = {\"Alice\", \"Bob\", \"Charlie\"}  \n",
    "course_B = {\"Bob\", \"David\", \"Charlie\"}  \n",
    "Output: {\"Bob\", \"Charlie\"}  \n",
    "\n",
    "8. Find the Union of Multiple Sets  \n",
    "Task: Find the union of three sets.  \n",
    "Example:  \n",
    "set1 = {1, 2, 3}  \n",
    "set2 = {3, 4, 5}  \n",
    "set3 = {5, 6, 7}  \n",
    "Output: {1, 2, 3, 4, 5, 6, 7}  \n",
    "\n",
    "9. Reverse a Dictionary (Keys Become Values, Values Become Keys)  \n",
    "Task: Swap keys and values in a dictionary.  \n",
    "Example:  \n",
    "original_dict = {'a': 1, 'b': 2, 'c': 3}  \n",
    "Output: {1: 'a', 2: 'b', 3: 'c'}  \n",
    "\n",
    "10. Check If Two Words Are Anagrams Using Dictionaries  \n",
    "Task: Given two words, check if they are anagrams (i.e., contain the same letters with the same frequency).  \n",
    "Example:  \n",
    "word1 = \"listen\"  \n",
    "word2 = \"silent\"  \n",
    "Output: True (They are anagrams)  \n"
   ]
  },
  {
   "cell_type": "code",
   "execution_count": 32,
   "metadata": {},
   "outputs": [
    {
     "name": "stdout",
     "output_type": "stream",
     "text": [
      "[3, 8, 10, 12]\n"
     ]
    }
   ],
   "source": [
    "\"\"\"\n",
    "numbers = [5, 3, 8, 5, 10, 5, 12, 5]  \n",
    "Task: Remove all occurrences of 5 from numbers. \n",
    "\n",
    "\"\"\"\n",
    "numbers = [5, 3, 8, 5, 10, 5, 12, 5]  \n",
    "\n",
    "for i in numbers:\n",
    "    if i == 5:\n",
    "        numbers.remove(i)\n",
    "print(numbers)"
   ]
  },
  {
   "cell_type": "code",
   "execution_count": 35,
   "metadata": {},
   "outputs": [
    {
     "data": {
      "text/plain": [
       "2"
      ]
     },
     "execution_count": 35,
     "metadata": {},
     "output_type": "execute_result"
    }
   ],
   "source": [
    "\"\"\"\n",
    "names = [\"Alice\", \"Bob\", \"Charlie\", \"David\", \"Eve\"]  \n",
    "Task: Find the index of \"Charlie\".\n",
    "\n",
    "\"\"\"\n",
    "\n",
    "names = [\"Alice\", \"Bob\", \"Charlie\", \"David\", \"Eve\"]\n",
    "names.index(\"Charlie\")\n",
    "\n"
   ]
  },
  {
   "cell_type": "code",
   "execution_count": 36,
   "metadata": {},
   "outputs": [
    {
     "data": {
      "text/plain": [
       "(5, 4, 3, 2, 1)"
      ]
     },
     "execution_count": 36,
     "metadata": {},
     "output_type": "execute_result"
    }
   ],
   "source": [
    "\"\"\"\n",
    "my_tuple = (1, 2, 3, 4, 5)  \n",
    "Task: Reverse my_tuple without converting it to a list. \n",
    "\n",
    "\"\"\"\n",
    "\n",
    "my_tuple = (1, 2, 3, 4, 5)\n",
    "my_tuple[::-1]"
   ]
  },
  {
   "cell_type": "code",
   "execution_count": 38,
   "metadata": {},
   "outputs": [
    {
     "name": "stdout",
     "output_type": "stream",
     "text": [
      "[1, 2, 3, 4, 5, 6, 7, 8, 9]\n"
     ]
    }
   ],
   "source": [
    "\"\"\"\n",
    "\n",
    "nested_list = [[1, 2, 3], [4, 5, 6], [7, 8, 9]]  \n",
    "Task: Convert nested_list into a single flat list.  \n",
    "\n",
    "\"\"\"\n",
    "\n",
    "nested_list = [[1, 2, 3], [4, 5, 6], [7, 8, 9]]\n",
    "new = []\n",
    "\n",
    "for i in nested_list:\n",
    "    for j in i:\n",
    "        new.append(j)\n",
    "print(new)\n",
    "        \n"
   ]
  },
  {
   "cell_type": "code",
   "execution_count": 40,
   "metadata": {},
   "outputs": [
    {
     "name": "stdout",
     "output_type": "stream",
     "text": [
      "{'a': 1, 'b': 2, 'c': 3}\n"
     ]
    }
   ],
   "source": [
    "\"\"\"\n",
    "pairs = [(\"a\", 1), (\"b\", 2), (\"c\", 3)]  \n",
    "Task: Convert pairs into a dictionary.  \n",
    "\n",
    "\"\"\"\n",
    "pairs = [(\"a\", 1), (\"b\", 2), (\"c\", 3)]  \n",
    "\n",
    "new_dict = {}\n",
    "\n",
    "for i in pairs:\n",
    "    new_dict[i[0]] = i[1]\n",
    "print(new_dict)\n",
    " "
   ]
  },
  {
   "cell_type": "code",
   "execution_count": 43,
   "metadata": {},
   "outputs": [
    {
     "name": "stdout",
     "output_type": "stream",
     "text": [
      "2\n",
      "4\n",
      "2\n",
      "4\n",
      "1\n",
      "4\n",
      "1\n",
      "2\n",
      "2\n",
      "4\n"
     ]
    }
   ],
   "source": [
    "\"\"\"\n",
    "\n",
    "5. Find the Most Frequent Element in a List  \n",
    "Task: Given a list, find the element that appears the most times.  \n",
    "Example:  \n",
    "numbers = [1, 3, 2, 3, 4, 3, 5, 2, 1, 3]  \n",
    "Output: Most frequent: 3 (appears 4 times)  \n",
    "\n",
    "\"\"\"\n",
    "numbers = [1, 3, 2, 3, 4, 3, 5, 2, 1, 3]\n",
    "\n",
    "# for i in numbers:\n",
    "#     print(numbers.count(i))\n",
    "\n",
    "\n"
   ]
  },
  {
   "cell_type": "code",
   "execution_count": 44,
   "metadata": {},
   "outputs": [
    {
     "name": "stdout",
     "output_type": "stream",
     "text": [
      "{'Bob', 'Charlie'}\n"
     ]
    }
   ],
   "source": [
    "\"\"\"\n",
    "7. Find Students Who Enrolled in Both Courses  \n",
    "Task: Given two sets of students, find those who are enrolled in both courses.  \n",
    "Example:  \n",
    "course_A = {\"Alice\", \"Bob\", \"Charlie\"}  \n",
    "course_B = {\"Bob\", \"David\", \"Charlie\"}  \n",
    "Output: {\"Bob\", \"Charlie\"}  \n",
    "\n",
    "\"\"\"\n",
    "\n",
    "course_A = {\"Alice\", \"Bob\", \"Charlie\"}  \n",
    "course_B = {\"Bob\", \"David\", \"Charlie\"}  \n",
    "\n",
    "set1 = set()\n",
    "\n",
    "for i in course_A:\n",
    "    if i in course_B:\n",
    "        set1.add(i)\n",
    "print(set1)"
   ]
  },
  {
   "cell_type": "code",
   "execution_count": null,
   "metadata": {},
   "outputs": [],
   "source": []
  }
 ],
 "metadata": {
  "kernelspec": {
   "display_name": "Python 3",
   "language": "python",
   "name": "python3"
  },
  "language_info": {
   "codemirror_mode": {
    "name": "ipython",
    "version": 3
   },
   "file_extension": ".py",
   "mimetype": "text/x-python",
   "name": "python",
   "nbconvert_exporter": "python",
   "pygments_lexer": "ipython3",
   "version": "3.13.2"
  }
 },
 "nbformat": 4,
 "nbformat_minor": 2
}
