{
 "cells": [
  {
   "cell_type": "code",
   "execution_count": null,
   "id": "6d3a8161",
   "metadata": {},
   "outputs": [],
   "source": [
    "# install with pip \n",
    "import requests"
   ]
  },
  {
   "cell_type": "code",
   "execution_count": 5,
   "id": "7f6dce10",
   "metadata": {},
   "outputs": [],
   "source": [
    "### End-point"
   ]
  },
  {
   "cell_type": "code",
   "execution_count": 20,
   "id": "0697b6af",
   "metadata": {},
   "outputs": [],
   "source": [
    "BASE_URL = r\"http://127.0.0.1:8000/api/consumables/\"  "
   ]
  },
  {
   "cell_type": "code",
   "execution_count": 21,
   "id": "1ee73b0b",
   "metadata": {},
   "outputs": [],
   "source": [
    "data = {\n",
    "    \"name\": \"Desktop Computer\",\n",
    "    \"category\": \"electronics\",\n",
    "    \"quantity\": 10\n",
    "}"
   ]
  },
  {
   "cell_type": "code",
   "execution_count": 22,
   "id": "3fce32c8",
   "metadata": {},
   "outputs": [],
   "source": [
    "response = requests.post(BASE_URL, json=data)"
   ]
  },
  {
   "cell_type": "code",
   "execution_count": 25,
   "id": "aae3e9ef",
   "metadata": {},
   "outputs": [
    {
     "data": {
      "text/plain": [
       "(201,\n",
       " {'id': 1,\n",
       "  'name': 'Desktop Computer',\n",
       "  'category': 'electronics',\n",
       "  'quantity': 10,\n",
       "  'last_updated': '2025-04-22T06:42:12.712427Z'})"
      ]
     },
     "execution_count": 25,
     "metadata": {},
     "output_type": "execute_result"
    }
   ],
   "source": [
    "response.status_code, response.json()"
   ]
  },
  {
   "cell_type": "code",
   "execution_count": 28,
   "id": "8ece3735",
   "metadata": {},
   "outputs": [],
   "source": [
    "r = requests.get(BASE_URL)"
   ]
  },
  {
   "cell_type": "code",
   "execution_count": 29,
   "id": "e5cdbbbe",
   "metadata": {},
   "outputs": [
    {
     "data": {
      "text/plain": [
       "(200,\n",
       " [{'id': 1,\n",
       "   'name': 'Desktop Computer',\n",
       "   'category': 'electronics',\n",
       "   'quantity': 10,\n",
       "   'last_updated': '2025-04-22T06:42:12.712427Z'}])"
      ]
     },
     "execution_count": 29,
     "metadata": {},
     "output_type": "execute_result"
    }
   ],
   "source": [
    "r.status_code, r.json()"
   ]
  },
  {
   "cell_type": "code",
   "execution_count": 30,
   "id": "30e685dc",
   "metadata": {},
   "outputs": [],
   "source": [
    "data = {\n",
    "    \"name\": \"Whiteboard\",\n",
    "    \"category\": \"stationary\",\n",
    "    \"quantity\": 15\n",
    "}"
   ]
  },
  {
   "cell_type": "code",
   "execution_count": 31,
   "id": "47a520ef",
   "metadata": {},
   "outputs": [],
   "source": [
    "response = requests.post(BASE_URL, json=data)"
   ]
  },
  {
   "cell_type": "code",
   "execution_count": 32,
   "id": "82502787",
   "metadata": {},
   "outputs": [],
   "source": [
    "r = requests.get(BASE_URL)"
   ]
  },
  {
   "cell_type": "code",
   "execution_count": 33,
   "id": "11bdee74",
   "metadata": {},
   "outputs": [
    {
     "data": {
      "text/plain": [
       "[{'id': 1,\n",
       "  'name': 'Desktop Computer',\n",
       "  'category': 'electronics',\n",
       "  'quantity': 10,\n",
       "  'last_updated': '2025-04-22T06:42:12.712427Z'},\n",
       " {'id': 2,\n",
       "  'name': 'Whiteboard',\n",
       "  'category': 'stationary',\n",
       "  'quantity': 15,\n",
       "  'last_updated': '2025-04-22T06:45:03.021484Z'}]"
      ]
     },
     "execution_count": 33,
     "metadata": {},
     "output_type": "execute_result"
    }
   ],
   "source": [
    "r.json()"
   ]
  },
  {
   "cell_type": "code",
   "execution_count": 34,
   "id": "8f3332cf",
   "metadata": {},
   "outputs": [],
   "source": [
    "updated_data = {\n",
    "    \"name\": \"Whiteboard\",\n",
    "    \"category\": \"stationary\",\n",
    "    \"quantity\": 20\n",
    "}"
   ]
  },
  {
   "cell_type": "code",
   "execution_count": 36,
   "id": "89e89c48",
   "metadata": {},
   "outputs": [],
   "source": [
    "response = requests.put(BASE_URL+\"1/\", json=updated_data)"
   ]
  },
  {
   "cell_type": "code",
   "execution_count": 37,
   "id": "56682b45",
   "metadata": {},
   "outputs": [
    {
     "data": {
      "text/plain": [
       "[{'id': 1,\n",
       "  'name': 'Whiteboard',\n",
       "  'category': 'stationary',\n",
       "  'quantity': 20,\n",
       "  'last_updated': '2025-04-22T06:47:49.287533Z'},\n",
       " {'id': 2,\n",
       "  'name': 'Whiteboard',\n",
       "  'category': 'stationary',\n",
       "  'quantity': 15,\n",
       "  'last_updated': '2025-04-22T06:45:03.021484Z'}]"
      ]
     },
     "execution_count": 37,
     "metadata": {},
     "output_type": "execute_result"
    }
   ],
   "source": [
    "r = requests.get(BASE_URL)\n",
    "r.json()"
   ]
  },
  {
   "cell_type": "code",
   "execution_count": 38,
   "id": "b7c7ac5b",
   "metadata": {},
   "outputs": [],
   "source": [
    "response = requests.delete(BASE_URL+\"1/\")"
   ]
  },
  {
   "cell_type": "code",
   "execution_count": 39,
   "id": "98899fa9",
   "metadata": {},
   "outputs": [
    {
     "data": {
      "text/plain": [
       "[{'id': 2,\n",
       "  'name': 'Whiteboard',\n",
       "  'category': 'stationary',\n",
       "  'quantity': 15,\n",
       "  'last_updated': '2025-04-22T06:45:03.021484Z'}]"
      ]
     },
     "execution_count": 39,
     "metadata": {},
     "output_type": "execute_result"
    }
   ],
   "source": [
    "r = requests.get(BASE_URL)\n",
    "r.json()"
   ]
  },
  {
   "cell_type": "code",
   "execution_count": null,
   "id": "d3ba98f2",
   "metadata": {},
   "outputs": [],
   "source": []
  }
 ],
 "metadata": {
  "kernelspec": {
   "display_name": "base",
   "language": "python",
   "name": "python3"
  },
  "language_info": {
   "codemirror_mode": {
    "name": "ipython",
    "version": 3
   },
   "file_extension": ".py",
   "mimetype": "text/x-python",
   "name": "python",
   "nbconvert_exporter": "python",
   "pygments_lexer": "ipython3",
   "version": "3.11.7"
  }
 },
 "nbformat": 4,
 "nbformat_minor": 5
}
