{
 "cells": [
  {
   "cell_type": "code",
   "execution_count": null,
   "metadata": {},
   "outputs": [],
   "source": [
    "#Object persistence--How to save our data\n",
    "# sqlite3 \n",
    "# use sql to save and retrive data in python environment\n",
    "#pickle\n"
   ]
  },
  {
   "cell_type": "markdown",
   "metadata": {},
   "source": [
    "Create database and table\n",
    "insert multiple employee records\n",
    "fetch all employees\n",
    "fetch by condition"
   ]
  },
  {
   "cell_type": "code",
   "execution_count": 2,
   "metadata": {},
   "outputs": [],
   "source": [
    "import sqlite3"
   ]
  },
  {
   "cell_type": "code",
   "execution_count": 11,
   "metadata": {},
   "outputs": [],
   "source": [
    "# step1 connect with db\n",
    "# keeps all db in a file\n",
    "\n",
    "conn = sqlite3.connect('employee.db')\n",
    "\n",
    "# cursor is pointer where we execute sql ops\n",
    "cursor = conn.cursor()\n",
    "\n"
   ]
  },
  {
   "cell_type": "code",
   "execution_count": 13,
   "metadata": {},
   "outputs": [
    {
     "data": {
      "text/plain": [
       "<sqlite3.Cursor at 0x203fdeae6c0>"
      ]
     },
     "execution_count": 13,
     "metadata": {},
     "output_type": "execute_result"
    }
   ],
   "source": [
    "# create a employee table\n",
    "cursor.execute('''\n",
    "CREATE TABLE IF NOT EXISTS employees (\n",
    "               id INTEGER PRIMARY KEY AUTOINCREMENT,\n",
    "               name TEXT NOT NULL,\n",
    "               department TEXT NOT NULL,\n",
    "               salary REAL NOT NULL,\n",
    "               join_date TEXT\n",
    "               )\n",
    "        ''')"
   ]
  },
  {
   "cell_type": "code",
   "execution_count": 17,
   "metadata": {},
   "outputs": [
    {
     "data": {
      "text/plain": [
       "[]"
      ]
     },
     "execution_count": 17,
     "metadata": {},
     "output_type": "execute_result"
    }
   ],
   "source": [
    "\n",
    "cursor.execute('''\n",
    "               INSERT INTO employees(name,department,Salary,join_date) VALUES (\"Alice\",\"HR\",60000,\"2023-01-15\")\n",
    "               ''')\n",
    "cursor.fetchall()\n"
   ]
  },
  {
   "cell_type": "code",
   "execution_count": 18,
   "metadata": {},
   "outputs": [
    {
     "data": {
      "text/plain": [
       "[(1, 'Alice', 'HR', 60000.0, '2023-01-15'),\n",
       " (2, 'Alice', 'HR', 60000.0, '2023-01-15')]"
      ]
     },
     "execution_count": 18,
     "metadata": {},
     "output_type": "execute_result"
    }
   ],
   "source": [
    "# Selecting the data from the table\n",
    "cursor.execute('''\n",
    "SELECT * FROM employees\n",
    "               ''')\n",
    "cursor.fetchall()"
   ]
  },
  {
   "cell_type": "code",
   "execution_count": 20,
   "metadata": {},
   "outputs": [
    {
     "ename": "ProgrammingError",
     "evalue": "parameters are of unsupported type",
     "output_type": "error",
     "traceback": [
      "\u001b[31m---------------------------------------------------------------------------\u001b[39m",
      "\u001b[31mProgrammingError\u001b[39m                          Traceback (most recent call last)",
      "\u001b[36mCell\u001b[39m\u001b[36m \u001b[39m\u001b[32mIn[20]\u001b[39m\u001b[32m, line 1\u001b[39m\n\u001b[32m----> \u001b[39m\u001b[32m1\u001b[39m \u001b[43mcursor\u001b[49m\u001b[43m.\u001b[49m\u001b[43mexecute\u001b[49m\u001b[43m(\u001b[49m\u001b[33;43m\"\u001b[39;49m\u001b[33;43mSELECT name,salary FROM employees WHERE salary > ?\u001b[39;49m\u001b[33;43m\"\u001b[39;49m\u001b[43m,\u001b[49m\u001b[43m(\u001b[49m\u001b[32;43m60000\u001b[39;49m\u001b[43m)\u001b[49m\u001b[43m)\u001b[49m\n\u001b[32m      3\u001b[39m \u001b[38;5;28;01mfor\u001b[39;00m row \u001b[38;5;129;01min\u001b[39;00m cursor.fetchall():\n\u001b[32m      4\u001b[39m     \u001b[38;5;28mprint\u001b[39m(row)\n",
      "\u001b[31mProgrammingError\u001b[39m: parameters are of unsupported type"
     ]
    }
   ],
   "source": [
    "\n",
    "cursor.execute(\"SELECT name,salary FROM employees WHERE salary > ?\",(60000))\n",
    "\n",
    "for row in cursor.fetchall():\n",
    "    print(row)\n",
    "print()\n"
   ]
  },
  {
   "cell_type": "markdown",
   "metadata": {},
   "source": [
    "Pickle Mode\n",
    "\n",
    "serializing and deserializing a python object structure\n",
    "\n",
    "Basic sys \n",
    "\n",
    "\n",
    "\n"
   ]
  },
  {
   "cell_type": "code",
   "execution_count": 21,
   "metadata": {},
   "outputs": [],
   "source": [
    "import pickle\n",
    "from datetime import datetime\n",
    "\n"
   ]
  },
  {
   "cell_type": "code",
   "execution_count": 22,
   "metadata": {},
   "outputs": [],
   "source": [
    "# Define the user session class\n",
    "\n",
    "class UserSession:\n",
    "    def __init__(self,username,last_login_time,preferences):\n",
    "        self.username = username\n",
    "        self.last_login_time = last_login_time\n",
    "        self.preferences = preferences\n",
    "    \n",
    "    def __repr__(self):\n",
    "        return(f\"UserSession(username = '{self.username}'), {self.last_login_time}, self.preferences = {self.preferences})\")\n",
    "    "
   ]
  },
  {
   "cell_type": "code",
   "execution_count": null,
   "metadata": {},
   "outputs": [],
   "source": [
    "s1 = UserSession(\"Anil\", datetime.now(), {'theme' : 'dark', \"language\" : \"ENglish\"})"
   ]
  },
  {
   "cell_type": "markdown",
   "metadata": {},
   "source": [
    "#### Assignment session  2"
   ]
  },
  {
   "cell_type": "code",
   "execution_count": 2,
   "metadata": {},
   "outputs": [
    {
     "name": "stdout",
     "output_type": "stream",
     "text": [
      "All Students:\n",
      "(1, 'Alice', 14, '8th')\n",
      "(2, 'Bob', 15, '9th')\n",
      "(3, 'Charlie', 13, '7th')\n",
      "Remaining Students:\n",
      "(2, 'Bob', 15, '10th')\n",
      "(3, 'Charlie', 13, '7th')\n",
      "Total Students: 2\n"
     ]
    }
   ],
   "source": [
    "import sqlite3\n",
    "conn = sqlite3.connect('school.db')\n",
    "cursor = conn.cursor()\n",
    "\n",
    "\n",
    "cursor.execute('''\n",
    "CREATE TABLE IF NOT EXISTS students (\n",
    "    id INTEGER PRIMARY KEY AUTOINCREMENT,\n",
    "    name TEXT NOT NULL,\n",
    "    age INTEGER NOT NULL,\n",
    "    grade TEXT NOT NULL\n",
    ")\n",
    "''')\n",
    "conn.commit()\n",
    "\n",
    "\n",
    "students_to_insert = [\n",
    "    ('Alice', 14, '8th'),\n",
    "    ('Bob', 15, '9th'),\n",
    "    ('Charlie', 13, '7th')\n",
    "]\n",
    "cursor.executemany('''\n",
    "    INSERT INTO students (name, age, grade) VALUES (?, ?, ?)\n",
    "        ''', students_to_insert)\n",
    "conn.commit()\n",
    "\n",
    "\n",
    "print(\"All Students:\")\n",
    "cursor.execute('SELECT * FROM students')\n",
    "rows = cursor.fetchall()\n",
    "for row in rows:\n",
    "    print(row)\n",
    "\n",
    "cursor.execute('''\n",
    "    UPDATE students SET grade = ? WHERE name = ?\n",
    "    ''', ('10th', 'Bob'))\n",
    "conn.commit()\n",
    "\n",
    "cursor.execute('''\n",
    "    DELETE FROM students\n",
    "    WHERE id = ?\n",
    "''', (1,))\n",
    "conn.commit()\n",
    "\n",
    "\n",
    "print(\"Remaining Students:\")\n",
    "cursor.execute('SELECT * FROM students')\n",
    "rows = cursor.fetchall()\n",
    "for row in rows:\n",
    "    print(row)\n",
    "\n",
    "cursor.execute('SELECT COUNT(*) FROM students')\n",
    "total = cursor.fetchone()[0]\n",
    "print(f\"Total Students: {total}\")\n",
    "\n",
    "conn.close()\n",
    "\n"
   ]
  },
  {
   "cell_type": "code",
   "execution_count": 31,
   "metadata": {},
   "outputs": [],
   "source": [
    "\n",
    "class Student:\n",
    " \n",
    "    def __init__(self, name, roll_number, marks):\n",
    "        self.name = name\n",
    "        self.roll_number = roll_number\n",
    "        self.marks = marks\n",
    " \n",
    "    def __repr__(self):\n",
    "        return( f\"Student(name='{self.name}', roll_number={self.roll_number}, self.marks={self.marks})\")"
   ]
  },
  {
   "cell_type": "code",
   "execution_count": 33,
   "metadata": {},
   "outputs": [
    {
     "data": {
      "text/plain": [
       "Student(name='Sunil', roll_number=112223, self.marks={'maths': 100, 'science': 95})"
      ]
     },
     "execution_count": 33,
     "metadata": {},
     "output_type": "execute_result"
    }
   ],
   "source": [
    "s1 = Student('Anil', 112222, {'maths': 85, \"science\":90})\n",
    "s2 = Student('Sunil', 112223, {'maths': 100, \"science\":95})\n",
    "\n",
    "\n",
    "s2"
   ]
  },
  {
   "cell_type": "code",
   "execution_count": 34,
   "metadata": {},
   "outputs": [],
   "source": [
    "sessions = [s1,s2]"
   ]
  },
  {
   "cell_type": "code",
   "execution_count": 36,
   "metadata": {},
   "outputs": [],
   "source": [
    "with open(\"students.pkl\", \"wb\") as f:\n",
    "    pickle.dump(sessions, f)\n",
    "    "
   ]
  },
  {
   "cell_type": "code",
   "execution_count": 37,
   "metadata": {},
   "outputs": [
    {
     "name": "stdout",
     "output_type": "stream",
     "text": [
      "Student(name='Anil', roll_number=112222, self.marks={'maths': 85, 'science': 90})\n",
      "Student(name='Sunil', roll_number=112223, self.marks={'maths': 100, 'science': 95})\n"
     ]
    }
   ],
   "source": [
    "try:\n",
    "    with open(\"students.pkl\", \"rb\") as f:\n",
    "        loaded_sessions = pickle.load(f)\n",
    "    for session in loaded_sessions:\n",
    "        print(session)\n",
    "except Exception as e:\n",
    "    print(f\"Exception {e}\")"
   ]
  },
  {
   "cell_type": "code",
   "execution_count": 38,
   "metadata": {},
   "outputs": [],
   "source": [
    "x = 80\n",
    "y = 95\n",
    "loaded_sessions[0].marks[\"maths\"] = x\n",
    "loaded_sessions[0].marks[\"science\"] = y"
   ]
  },
  {
   "cell_type": "code",
   "execution_count": 39,
   "metadata": {},
   "outputs": [
    {
     "name": "stdout",
     "output_type": "stream",
     "text": [
      "Student(name='Anil', roll_number=112222, self.marks={'maths': 80, 'science': 95})\n",
      "Student(name='Sunil', roll_number=112223, self.marks={'maths': 100, 'science': 95})\n"
     ]
    }
   ],
   "source": [
    "for session in loaded_sessions:\n",
    "    print(session)"
   ]
  },
  {
   "cell_type": "code",
   "execution_count": null,
   "metadata": {},
   "outputs": [],
   "source": [
    "## Shelve\n",
    "import\n",
    "\n"
   ]
  },
  {
   "cell_type": "code",
   "execution_count": null,
   "metadata": {},
   "outputs": [],
   "source": []
  }
 ],
 "metadata": {
  "kernelspec": {
   "display_name": "Python 3",
   "language": "python",
   "name": "python3"
  },
  "language_info": {
   "codemirror_mode": {
    "name": "ipython",
    "version": 3
   },
   "file_extension": ".py",
   "mimetype": "text/x-python",
   "name": "python",
   "nbconvert_exporter": "python",
   "pygments_lexer": "ipython3",
   "version": "3.13.2"
  }
 },
 "nbformat": 4,
 "nbformat_minor": 2
}
