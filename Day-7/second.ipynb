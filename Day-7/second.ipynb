{
 "cells": [
  {
   "cell_type": "markdown",
   "metadata": {},
   "source": [
    "Exceptions-part-1"
   ]
  },
  {
   "cell_type": "code",
   "execution_count": 1,
   "metadata": {},
   "outputs": [
    {
     "ename": "ZeroDivisionError",
     "evalue": "division by zero",
     "output_type": "error",
     "traceback": [
      "\u001b[31m---------------------------------------------------------------------------\u001b[39m",
      "\u001b[31mZeroDivisionError\u001b[39m                         Traceback (most recent call last)",
      "\u001b[36mCell\u001b[39m\u001b[36m \u001b[39m\u001b[32mIn[1]\u001b[39m\u001b[32m, line 1\u001b[39m\n\u001b[32m----> \u001b[39m\u001b[32m1\u001b[39m \u001b[32;43m12\u001b[39;49m\u001b[43m/\u001b[49m\u001b[32;43m0\u001b[39;49m\n",
      "\u001b[31mZeroDivisionError\u001b[39m: division by zero"
     ]
    }
   ],
   "source": [
    "12/0"
   ]
  },
  {
   "cell_type": "code",
   "execution_count": 2,
   "metadata": {},
   "outputs": [
    {
     "ename": "KeyError",
     "evalue": "'name'",
     "output_type": "error",
     "traceback": [
      "\u001b[31m---------------------------------------------------------------------------\u001b[39m",
      "\u001b[31mKeyError\u001b[39m                                  Traceback (most recent call last)",
      "\u001b[36mCell\u001b[39m\u001b[36m \u001b[39m\u001b[32mIn[2]\u001b[39m\u001b[32m, line 2\u001b[39m\n\u001b[32m      1\u001b[39m D = {}\n\u001b[32m----> \u001b[39m\u001b[32m2\u001b[39m \u001b[43mD\u001b[49m\u001b[43m[\u001b[49m\u001b[33;43m\"\u001b[39;49m\u001b[33;43mname\u001b[39;49m\u001b[33;43m\"\u001b[39;49m\u001b[43m]\u001b[49m\n",
      "\u001b[31mKeyError\u001b[39m: 'name'"
     ]
    }
   ],
   "source": [
    "D = {}\n",
    "D[\"name\"]"
   ]
  },
  {
   "cell_type": "code",
   "execution_count": 4,
   "metadata": {},
   "outputs": [
    {
     "name": "stdout",
     "output_type": "stream",
     "text": [
      "Exception occured\n"
     ]
    }
   ],
   "source": [
    "## Handling exceptions\n",
    "\n",
    "\n",
    "try:\n",
    "    a = 10\n",
    "    b = 20\n",
    "    print(a/0)\n",
    "except:\n",
    "    print(\"Exception occured\")"
   ]
  },
  {
   "cell_type": "code",
   "execution_count": 8,
   "metadata": {},
   "outputs": [
    {
     "name": "stdout",
     "output_type": "stream",
     "text": [
      "Exception occured! division by zero\n",
      "The block completed execution\n"
     ]
    }
   ],
   "source": [
    "## Handling exceptions\n",
    "\n",
    "\n",
    "try:\n",
    "    a = 10\n",
    "    b = 20\n",
    "    print(a/0)\n",
    "except Exception as e:\n",
    "    print(F\"Exception occured! {e}\")\n",
    "\n",
    "print(\"The block completed execution\")"
   ]
  },
  {
   "cell_type": "code",
   "execution_count": null,
   "metadata": {},
   "outputs": [],
   "source": [
    "## Handling exceptions\n",
    "\n",
    "\n",
    "try:\n",
    "    a = 10\n",
    "    b = 20\n",
    "    print(a/0)\n",
    "except Exception as e:\n",
    "    print(F\"Exception occured! {e}\")\n",
    "else: # if there is no exception in try block\n",
    "    print(\"completed execicution\")\n",
    "finally:# This will happen whatever be the case\n",
    "    print(\"Thank you\")"
   ]
  },
  {
   "cell_type": "code",
   "execution_count": null,
   "metadata": {},
   "outputs": [],
   "source": [
    "## Handling exceptions\n",
    "\n",
    "\n",
    "try:\n",
    "    a = 10\n",
    "    b = 20\n",
    "    print(a/0)\n",
    "except ZeroDivisionError as e:\n",
    "    print(F\"Exception occured! {e}\")\n",
    "except FileNotFoundError:\n",
    "    print(\"File does not esists for reading\")\n",
    "else: # if there is no exception in try block\n",
    "    print(\"completed execicution\")\n",
    "finally:# This will happen whatever be the case\n",
    "    print(\"Thank you\")"
   ]
  },
  {
   "cell_type": "code",
   "execution_count": 10,
   "metadata": {},
   "outputs": [
    {
     "name": "stdout",
     "output_type": "stream",
     "text": [
      "Exception occured! Sum of a and b cannot be less than 10\n",
      "Thank you\n"
     ]
    }
   ],
   "source": [
    "##  ASSERTION\n",
    "\n",
    "\n",
    "try:\n",
    "    a = 10\n",
    "    b = 20\n",
    "    assert(a + b > 40), 'Sum of a and b cannot be less than 10'\n",
    "except Exception as e:\n",
    "    print(F\"Exception occured! {e}\")\n",
    "    \n",
    "finally:# This will happen whatever be the case\n",
    "    print(\"Thank you\")"
   ]
  },
  {
   "cell_type": "code",
   "execution_count": 15,
   "metadata": {},
   "outputs": [],
   "source": [
    "# Practical usage example\n",
    "\n",
    "def div(a, b):\n",
    "    if b == 0:\n",
    "        raise ZeroDivisionError(\"Do not divide by zero\")\n",
    "    else:\n",
    "        return a/b"
   ]
  },
  {
   "cell_type": "code",
   "execution_count": 17,
   "metadata": {},
   "outputs": [
    {
     "name": "stdout",
     "output_type": "stream",
     "text": [
      "0.6\n"
     ]
    }
   ],
   "source": [
    "try:\n",
    "    print(div(3,5))\n",
    "except:\n",
    "    print(\"Error\")\n"
   ]
  }
 ],
 "metadata": {
  "kernelspec": {
   "display_name": "Python 3",
   "language": "python",
   "name": "python3"
  },
  "language_info": {
   "codemirror_mode": {
    "name": "ipython",
    "version": 3
   },
   "file_extension": ".py",
   "mimetype": "text/x-python",
   "name": "python",
   "nbconvert_exporter": "python",
   "pygments_lexer": "ipython3",
   "version": "3.13.2"
  }
 },
 "nbformat": 4,
 "nbformat_minor": 2
}
