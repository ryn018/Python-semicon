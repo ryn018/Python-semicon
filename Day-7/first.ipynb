{
 "cells": [
  {
   "cell_type": "markdown",
   "metadata": {},
   "source": [
    "-file_object = ((file_name[,access_mode][,buffering]))\n",
    "\n",
    "-write -- overwrite\n",
    "-append -- append towards end\n",
    "-b mode -- when we try to send the file through a    communication channel\n",
    "\n",
    "closing a file\n",
    "-------------\n",
    "close() method of a file object flushes any unwritten information\n",
    "\n",
    "readline() -- reads one line of the open line\n",
    "\n",
    "readlines() -- read all lines and returns them as strings\n",
    "\n",
    "Output\n",
    "-------\n",
    "\n",
    "write() -- takes a string \n",
    "\n",
    "file.next() -- returns the next line\n",
    "file.seek() -- reset pointer to a specific location\n",
    "file.tell() -- current position of the pointer\n",
    "\n",
    "\n"
   ]
  },
  {
   "cell_type": "markdown",
   "metadata": {},
   "source": [
    "File\n",
    "Opening and closing -- > open(),close()\n",
    "Modes --> r,w,(b,.....)\n",
    "rrading --> read(),readline(),readlines()\n",
    "writing ---> write(),writelines()\n",
    "other functions --> seek(),tell()\n",
    "attributes 00> fmode,f.name,f.closed"
   ]
  },
  {
   "cell_type": "code",
   "execution_count": 72,
   "metadata": {},
   "outputs": [],
   "source": [
    "# Reading\n",
    "path = r\"C:\\Users\\292905\\Desktop\\Python semicon\\Day-7\\sample.txt\""
   ]
  },
  {
   "cell_type": "code",
   "execution_count": 73,
   "metadata": {},
   "outputs": [
    {
     "data": {
      "text/plain": [
       "'r'"
      ]
     },
     "execution_count": 73,
     "metadata": {},
     "output_type": "execute_result"
    }
   ],
   "source": [
    "f = open(path,'r')\n",
    "f.mode\n"
   ]
  },
  {
   "cell_type": "code",
   "execution_count": 74,
   "metadata": {},
   "outputs": [
    {
     "data": {
      "text/plain": [
       "'cp1252'"
      ]
     },
     "execution_count": 74,
     "metadata": {},
     "output_type": "execute_result"
    }
   ],
   "source": [
    "f.encoding"
   ]
  },
  {
   "cell_type": "code",
   "execution_count": 75,
   "metadata": {},
   "outputs": [
    {
     "data": {
      "text/plain": [
       "'C:\\\\Users\\\\292905\\\\Desktop\\\\Python semicon\\\\Day-7\\\\sample.txt'"
      ]
     },
     "execution_count": 75,
     "metadata": {},
     "output_type": "execute_result"
    }
   ],
   "source": [
    "f.name"
   ]
  },
  {
   "cell_type": "code",
   "execution_count": 76,
   "metadata": {},
   "outputs": [
    {
     "name": "stdout",
     "output_type": "stream",
     "text": [
      "r\n",
      "First things first\n",
      "I'ma say all the words inside my head\n",
      "I'm fired up and tired of the way that things have been, oh-ooh\n",
      "The way that things have been, oh-ooh\n",
      "Second thing second\n",
      "Don't you tell me what you think that I could be\n",
      "I'm the one at the sail, I'm the master of my sea, oh-ooh\n",
      "The master of my sea, oh-ooh\n",
      "I was broken from a young age\n",
      "Taking my sulking to the masses\n",
      "Writing my poems for the few\n",
      "That look at me, took to me, shook to me, feeling me\n",
      "Singing from heartache from the pain\n",
      "Taking my message from the veins\n",
      "Speaking my lesson from the brain\n",
      "Seeing the beauty through the...\n",
      "Pain!\n",
      "You made me a, you made me a believer, believer\n",
      "Pain!\n",
      "You break me down and build me up, believer, believer\n",
      "Pain!\n",
      "Oh, let the bullets fly, oh, let them rain\n",
      "My life, my love, my drive, it came from...\n",
      "Pain!\n",
      "You made me a, you made me a believer, believer\n",
      "First things first\n",
      "Can you imagine what's about to happen?\n",
      "It's Weezy the Dragon, I link with the Dragons\n",
      "And we gon' get ratchet, no need for imaginin'\n",
      "This is what's happenin'\n",
      "Second thing second, I reckon immaculate\n",
      "Sound about accurate\n",
      "I know that strength, it don't come, don't come without strategy\n",
      "I know the sweet, it don't come without cavities\n",
      "I know the passages come with some traffic\n",
      "I start with from the basement, end up in the attic\n",
      "And third thing third\n",
      "Whoever call me out, they simply can't count\n",
      "Let's get mathematic, I'm up in this, huh\n",
      "Is you a believer?\n",
      "I get a unicorn out of a zebra\n",
      "I wear my uniform like a tuxedo\n",
      "This dragon don't hold his breath, don't need no breather\n",
      "Love you Ms. Cita, the son of a leader\n",
      "I know the bloomin' don't come without rain\n",
      "I know the losin' don't come without shame\n",
      "I know the beauty don't come without hurt\n",
      "Hol' up, hol' up, last thing last\n",
      "I know that Tunechi don't come without Wayne\n",
      "I know that losin' don't come without game\n",
      "I know that glory don't come without...\n",
      "Don't come without...\n",
      "Pain!\n",
      "You made me a, you made me a believer, believer\n",
      "Pain!\n",
      "You break me down and build me up, believer, believer\n",
      "Pain\n",
      "Oh, let the bullets fly, oh, let them rain\n",
      "My life, my love, my drive, it came from...\n",
      "Pain!\n",
      "You made me a, you made me a believer, believer\n",
      "Last things last\n",
      "By the grace of fire and flames\n",
      "You're the face of the future, the blood in my veins, oh-ooh\n",
      "The blood in my veins, oh-ooh\n",
      "But they never did, ever lived, ebbing and flowing\n",
      "Inhibited, limited 'til it broke open and rained down\n",
      "It rained down, like...\n",
      "Pain!\n",
      "You made me a, you made me a believer, believer\n",
      "Pain!\n",
      "You break me down and build me up, believer, believer\n",
      "Pain\n",
      "Oh, let the bullets fly, oh, let them rain\n",
      "My life, my love, my drive, it came from...\n",
      "Pain!\n",
      "You made me a, you made me a believer, believer\n"
     ]
    }
   ],
   "source": [
    "f = open(path, 'r')  \n",
    "\n",
    "print(f.mode)  \n",
    "\n",
    "data = f.read()  \n",
    "print(data)  \n",
    "\n"
   ]
  },
  {
   "cell_type": "code",
   "execution_count": 77,
   "metadata": {},
   "outputs": [
    {
     "data": {
      "text/plain": [
       "[]"
      ]
     },
     "execution_count": 77,
     "metadata": {},
     "output_type": "execute_result"
    }
   ],
   "source": [
    "# Currently pointer is at the end of the line\n",
    "\n",
    "d = f.readlines()\n",
    "d"
   ]
  },
  {
   "cell_type": "code",
   "execution_count": 78,
   "metadata": {},
   "outputs": [
    {
     "data": {
      "text/plain": [
       "2771"
      ]
     },
     "execution_count": 78,
     "metadata": {},
     "output_type": "execute_result"
    }
   ],
   "source": [
    "f.tell()"
   ]
  },
  {
   "cell_type": "code",
   "execution_count": 79,
   "metadata": {},
   "outputs": [
    {
     "data": {
      "text/plain": [
       "2695"
      ]
     },
     "execution_count": 79,
     "metadata": {},
     "output_type": "execute_result"
    }
   ],
   "source": [
    "len(data)"
   ]
  },
  {
   "cell_type": "code",
   "execution_count": 80,
   "metadata": {},
   "outputs": [
    {
     "data": {
      "text/plain": [
       "0"
      ]
     },
     "execution_count": 80,
     "metadata": {},
     "output_type": "execute_result"
    }
   ],
   "source": [
    "f.seek(0)"
   ]
  },
  {
   "cell_type": "code",
   "execution_count": 81,
   "metadata": {},
   "outputs": [
    {
     "data": {
      "text/plain": [
       "'First things first\\n'"
      ]
     },
     "execution_count": 81,
     "metadata": {},
     "output_type": "execute_result"
    }
   ],
   "source": [
    "f.readline()"
   ]
  },
  {
   "cell_type": "code",
   "execution_count": 82,
   "metadata": {},
   "outputs": [
    {
     "data": {
      "text/plain": [
       "\"I'ma say all the words inside my head\\n\""
      ]
     },
     "execution_count": 82,
     "metadata": {},
     "output_type": "execute_result"
    }
   ],
   "source": [
    "f.readline()"
   ]
  },
  {
   "cell_type": "code",
   "execution_count": 83,
   "metadata": {},
   "outputs": [
    {
     "data": {
      "text/plain": [
       "\"I'm fired up and tired of the way that things have been, oh-ooh\\n\""
      ]
     },
     "execution_count": 83,
     "metadata": {},
     "output_type": "execute_result"
    }
   ],
   "source": [
    "f.readline()"
   ]
  },
  {
   "cell_type": "code",
   "execution_count": 84,
   "metadata": {},
   "outputs": [
    {
     "data": {
      "text/plain": [
       "\"The way that things have been, oh-ooh\\nSecond thing second\\nDon't you tell me what you think that I co\""
      ]
     },
     "execution_count": 84,
     "metadata": {},
     "output_type": "execute_result"
    }
   ],
   "source": [
    "f.read(100) # number of bytes to read"
   ]
  },
  {
   "cell_type": "code",
   "execution_count": 85,
   "metadata": {},
   "outputs": [
    {
     "data": {
      "text/plain": [
       "['uld be\\n',\n",
       " \"I'm the one at the sail, I'm the master of my sea, oh-ooh\\n\",\n",
       " 'The master of my sea, oh-ooh\\n',\n",
       " 'I was broken from a young age\\n',\n",
       " 'Taking my sulking to the masses\\n',\n",
       " 'Writing my poems for the few\\n',\n",
       " 'That look at me, took to me, shook to me, feeling me\\n',\n",
       " 'Singing from heartache from the pain\\n',\n",
       " 'Taking my message from the veins\\n',\n",
       " 'Speaking my lesson from the brain\\n',\n",
       " 'Seeing the beauty through the...\\n',\n",
       " 'Pain!\\n',\n",
       " 'You made me a, you made me a believer, believer\\n',\n",
       " 'Pain!\\n',\n",
       " 'You break me down and build me up, believer, believer\\n',\n",
       " 'Pain!\\n',\n",
       " 'Oh, let the bullets fly, oh, let them rain\\n',\n",
       " 'My life, my love, my drive, it came from...\\n',\n",
       " 'Pain!\\n',\n",
       " 'You made me a, you made me a believer, believer\\n',\n",
       " 'First things first\\n',\n",
       " \"Can you imagine what's about to happen?\\n\",\n",
       " \"It's Weezy the Dragon, I link with the Dragons\\n\",\n",
       " \"And we gon' get ratchet, no need for imaginin'\\n\",\n",
       " \"This is what's happenin'\\n\",\n",
       " 'Second thing second, I reckon immaculate\\n',\n",
       " 'Sound about accurate\\n',\n",
       " \"I know that strength, it don't come, don't come without strategy\\n\",\n",
       " \"I know the sweet, it don't come without cavities\\n\",\n",
       " 'I know the passages come with some traffic\\n',\n",
       " 'I start with from the basement, end up in the attic\\n',\n",
       " 'And third thing third\\n',\n",
       " \"Whoever call me out, they simply can't count\\n\",\n",
       " \"Let's get mathematic, I'm up in this, huh\\n\",\n",
       " 'Is you a believer?\\n',\n",
       " 'I get a unicorn out of a zebra\\n',\n",
       " 'I wear my uniform like a tuxedo\\n',\n",
       " \"This dragon don't hold his breath, don't need no breather\\n\",\n",
       " 'Love you Ms. Cita, the son of a leader\\n',\n",
       " \"I know the bloomin' don't come without rain\\n\",\n",
       " \"I know the losin' don't come without shame\\n\",\n",
       " \"I know the beauty don't come without hurt\\n\",\n",
       " \"Hol' up, hol' up, last thing last\\n\",\n",
       " \"I know that Tunechi don't come without Wayne\\n\",\n",
       " \"I know that losin' don't come without game\\n\",\n",
       " \"I know that glory don't come without...\\n\",\n",
       " \"Don't come without...\\n\",\n",
       " 'Pain!\\n',\n",
       " 'You made me a, you made me a believer, believer\\n',\n",
       " 'Pain!\\n',\n",
       " 'You break me down and build me up, believer, believer\\n',\n",
       " 'Pain\\n',\n",
       " 'Oh, let the bullets fly, oh, let them rain\\n',\n",
       " 'My life, my love, my drive, it came from...\\n',\n",
       " 'Pain!\\n',\n",
       " 'You made me a, you made me a believer, believer\\n',\n",
       " 'Last things last\\n',\n",
       " 'By the grace of fire and flames\\n',\n",
       " \"You're the face of the future, the blood in my veins, oh-ooh\\n\",\n",
       " 'The blood in my veins, oh-ooh\\n',\n",
       " 'But they never did, ever lived, ebbing and flowing\\n',\n",
       " \"Inhibited, limited 'til it broke open and rained down\\n\",\n",
       " 'It rained down, like...\\n',\n",
       " 'Pain!\\n',\n",
       " 'You made me a, you made me a believer, believer\\n',\n",
       " 'Pain!\\n',\n",
       " 'You break me down and build me up, believer, believer\\n',\n",
       " 'Pain\\n',\n",
       " 'Oh, let the bullets fly, oh, let them rain\\n',\n",
       " 'My life, my love, my drive, it came from...\\n',\n",
       " 'Pain!\\n',\n",
       " 'You made me a, you made me a believer, believer']"
      ]
     },
     "execution_count": 85,
     "metadata": {},
     "output_type": "execute_result"
    }
   ],
   "source": [
    "content =  f.readlines()\n",
    "content"
   ]
  },
  {
   "cell_type": "code",
   "execution_count": 86,
   "metadata": {},
   "outputs": [],
   "source": [
    "# Write\n",
    "path = r\"C:\\Users\\292905\\Desktop\\Python semicon\\Day-7\\sample2.txt\""
   ]
  },
  {
   "cell_type": "code",
   "execution_count": 87,
   "metadata": {},
   "outputs": [
    {
     "data": {
      "text/plain": [
       "13"
      ]
     },
     "execution_count": 87,
     "metadata": {},
     "output_type": "execute_result"
    }
   ],
   "source": [
    "f = open(path, 'w')\n",
    "f.write(\"Artist: Imagine Dragons\")\n",
    "f.write(\"Song: Beliver\")"
   ]
  },
  {
   "cell_type": "code",
   "execution_count": 88,
   "metadata": {},
   "outputs": [],
   "source": [
    "f.writelines(content) # --> List of lines\n"
   ]
  },
  {
   "cell_type": "code",
   "execution_count": 89,
   "metadata": {},
   "outputs": [
    {
     "data": {
      "text/plain": [
       "19"
      ]
     },
     "execution_count": 89,
     "metadata": {},
     "output_type": "execute_result"
    }
   ],
   "source": [
    "data.count('believer')"
   ]
  },
  {
   "cell_type": "code",
   "execution_count": 90,
   "metadata": {},
   "outputs": [],
   "source": [
    "path = r\"C:\\Users\\292905\\Desktop\\Python semicon\\Day-7\\sample.txt\"\n",
    "f = open(path)\n"
   ]
  },
  {
   "cell_type": "code",
   "execution_count": 91,
   "metadata": {},
   "outputs": [
    {
     "data": {
      "text/plain": [
       "19"
      ]
     },
     "execution_count": 91,
     "metadata": {},
     "output_type": "execute_result"
    }
   ],
   "source": [
    "count = 0\n",
    "while True:\n",
    "    d = f.readline()\n",
    "    if d == \"\":\n",
    "        break\n",
    "    else:\n",
    "        count += d.count(\"believer\")\n",
    "count\n",
    "\n"
   ]
  },
  {
   "cell_type": "code",
   "execution_count": 92,
   "metadata": {},
   "outputs": [],
   "source": [
    "path = r\"C:\\Users\\292905\\Desktop\\Python semicon\\Day-7\\sample2.txt\"\n",
    "\n",
    "f = open(path, 'a')\n",
    "\n",
    "f.write(\"\\n\\n\" + \"-\" * 80 + '\\n')\n",
    "f.write(f\"Beliver : {count}\\n\")\n",
    "f.close()\n"
   ]
  },
  {
   "cell_type": "code",
   "execution_count": null,
   "metadata": {},
   "outputs": [],
   "source": []
  }
 ],
 "metadata": {
  "kernelspec": {
   "display_name": "Python 3",
   "language": "python",
   "name": "python3"
  },
  "language_info": {
   "codemirror_mode": {
    "name": "ipython",
    "version": 3
   },
   "file_extension": ".py",
   "mimetype": "text/x-python",
   "name": "python",
   "nbconvert_exporter": "python",
   "pygments_lexer": "ipython3",
   "version": "3.13.2"
  }
 },
 "nbformat": 4,
 "nbformat_minor": 2
}
