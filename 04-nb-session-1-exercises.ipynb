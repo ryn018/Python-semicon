{
 "cells": [
  {
   "cell_type": "markdown",
   "metadata": {},
   "source": [
    "Session #1: [45]\n",
    "-------------------------------------------------------------------------------------------------------------------\n",
    "basket = [\"Apple\", \"Banana\", \"Cherry\", \"Mango\"]  \n",
    "Task: Insert \"Grapes\" between \"Banana\" and \"Cherry\".  \n",
    "\n",
    "data = [10, 20, [30, 40, 50], 60, 70]  \n",
    "Task: Change 40 to 45 inside the nested list.  \n",
    "\n",
    "nums = [3, 6, 9, 12, 15, 18, 21]  \n",
    "Task: Extract [9, 12, 15] and reverse it.  \n",
    "\n",
    "numbers = [5, 3, 8, 5, 10, 5, 12, 5]  \n",
    "Task: Remove all occurrences of 5 from numbers.  \n",
    "\n",
    "list1 = [8, 3, 1, 7]  \n",
    "list2 = [4, 9, 2, 6]  \n",
    "Task: Merge list1 and list2, then sort the combined list.  \n",
    "\n",
    "colors = (\"Red\", \"Green\", \"Blue\", \"Yellow\")  \n",
    "Task: Convert colors to a list, change \"Green\" to \"Cyan\", and convert it back to a tuple.  \n",
    "\n",
    "names = [\"Alice\", \"Bob\", \"Charlie\", \"David\", \"Eve\"]  \n",
    "Task: Find the index of \"Charlie\".  \n",
    "\n",
    "nums_tuple = (4, 2, 4, 6, 4, 8, 4, 10)  \n",
    "Task: Count how many times 4 appears in nums_tuple.  \n",
    "\n",
    "values = [10, 20, 30, 40, 50]  \n",
    "Task: Swap the first and last elements.  \n",
    "\n",
    "values = []\n",
    "Task: Generate a list of squares for numbers from 1 to 10.  \n",
    "\n",
    "my_tuple = (1, 2, 3, 4, 5)  \n",
    "Task: Reverse my_tuple without converting it to a list.  \n",
    "\n",
    "data = [23, 45, 67, 12, 89, 34]  \n",
    "Task: Find the maximum and minimum values in data.  \n",
    "\n",
    "nums = [10, 20, 30, 40, 50, 60, 70]  \n",
    "Task: Extract every second element from nums.  \n",
    "\n",
    "nested_list = [[1, 2, 3], [4, 5, 6], [7, 8, 9]]  \n",
    "Task: Convert nested_list into a single flat list.  \n",
    "\n",
    "list_a = [1, 2, 3, 4, 5, 6]  \n",
    "list_b = [4, 5, 6, 7, 8, 9]  \n",
    "Task: Find common elements between list_a and list_b.  \n",
    "\n",
    "scores = [78, 55, 92, 30, 88, 62]  \n",
    "Task: Sort scores in descending order.  \n",
    "\n",
    "my_tuple = (1, 2, 3)  \n",
    "Task: Repeat my_tuple three times and store the result.  \n",
    "\n",
    "numbers = [1, 2, 2, 3, 4, 4, 5, 6, 6]  \n",
    "Task: Remove duplicates while keeping the order.  \n",
    "\n",
    "words = [\"Hello\", \"World\", \"Python\", \"Programming\"]  \n",
    "Task: Insert \"Amazing\" at index 2.  \n",
    "\n",
    "pairs = [(\"a\", 1), (\"b\", 2), (\"c\", 3)]  \n",
    "Task: Convert pairs into a dictionary.  "
   ]
  },
  {
   "cell_type": "code",
   "execution_count": 2,
   "metadata": {},
   "outputs": [
    {
     "data": {
      "text/plain": [
       "['Apple', 'Banana', 'Grapes', 'Cherry', 'Mango']"
      ]
     },
     "execution_count": 2,
     "metadata": {},
     "output_type": "execute_result"
    }
   ],
   "source": [
    "# basket = [\"Apple\", \"Banana\", \"Cherry\", \"Mango\"]  \n",
    "# Task: Insert \"Grapes\" between \"Banana\" and \"Cherry\"\n",
    "\n",
    "basket = [\"Apple\", \"Banana\", \"Cherry\", \"Mango\"]\n",
    "basket.insert(2,\"Grapes\")\n",
    "basket\n"
   ]
  },
  {
   "cell_type": "code",
   "execution_count": 4,
   "metadata": {},
   "outputs": [
    {
     "name": "stdout",
     "output_type": "stream",
     "text": [
      "[10, 20, [30, 45, 50], 60, 70]\n"
     ]
    }
   ],
   "source": [
    "# data = [10, 20, [30, 40, 50], 60, 70]  \n",
    "# Task: Change 40 to 45 inside the nested list.  \n",
    "\n",
    "data = [10, 20, [30, 40, 50], 60, 70]\n",
    "data[2][1] = 45\n",
    "print(data)"
   ]
  },
  {
   "cell_type": "code",
   "execution_count": 7,
   "metadata": {},
   "outputs": [
    {
     "data": {
      "text/plain": [
       "[15, 12, 9]"
      ]
     },
     "execution_count": 7,
     "metadata": {},
     "output_type": "execute_result"
    }
   ],
   "source": [
    "# nums = [3, 6, 9, 12, 15, 18, 21]  \n",
    "# Task: Extract [9, 12, 15] and reverse it.  \n",
    "\n",
    "nums = [3, 6, 9, 12, 15, 18, 21] \n",
    "new_list = nums[2:5]\n",
    "new_list.reverse()\n",
    "new_list\n"
   ]
  },
  {
   "cell_type": "code",
   "execution_count": 8,
   "metadata": {},
   "outputs": [
    {
     "name": "stdout",
     "output_type": "stream",
     "text": [
      "[3, 8, 10, 12]\n"
     ]
    }
   ],
   "source": [
    "# numbers = [5, 3, 8, 5, 10, 5, 12, 5]  \n",
    "# Task: Remove all occurrences of 5 from numbers.\n",
    "\n",
    "numbers = [5, 3, 8, 5, 10, 5, 12, 5]\n",
    "\n",
    "for item in numbers:\n",
    "    if item == 5:\n",
    "        numbers.remove(5)\n",
    "print(numbers)\n",
    "\n"
   ]
  },
  {
   "cell_type": "code",
   "execution_count": 12,
   "metadata": {},
   "outputs": [
    {
     "name": "stdout",
     "output_type": "stream",
     "text": [
      "[1, 2, 3, 4, 6, 7, 8, 9]\n"
     ]
    }
   ],
   "source": [
    "# Task: Merge list1 and list2, then sort the combined list.\n",
    "list1 = [8, 3, 1, 7]  \n",
    "list2 = [4, 9, 2, 6]  \n",
    "list1.extend(list2)\n",
    "list1.sort()\n",
    "print(list1)"
   ]
  },
  {
   "cell_type": "code",
   "execution_count": 13,
   "metadata": {},
   "outputs": [
    {
     "data": {
      "text/plain": [
       "['Red', 'Cyan', 'Blue', 'Yellow']"
      ]
     },
     "execution_count": 13,
     "metadata": {},
     "output_type": "execute_result"
    }
   ],
   "source": [
    "# colors = (\"Red\", \"Green\", \"Blue\", \"Yellow\")  \n",
    "# Task: Convert colors to a list, change \"Green\" to \"Cyan\", and convert it back to a tuple. \n",
    "\n",
    "colors = (\"Red\", \"Green\", \"Blue\", \"Yellow\")\n",
    "colors_list = list(colors)\n",
    "colors_list[1] = \"Cyan\"\n",
    "colors_list"
   ]
  },
  {
   "cell_type": "code",
   "execution_count": 14,
   "metadata": {},
   "outputs": [
    {
     "name": "stdout",
     "output_type": "stream",
     "text": [
      "2\n"
     ]
    }
   ],
   "source": [
    "# names = [\"Alice\", \"Bob\", \"Charlie\", \"David\", \"Eve\"]  \n",
    "# Task: Find the index of \"Charlie\".  \n",
    "\n",
    "names = [\"Alice\", \"Bob\", \"Charlie\", \"David\", \"Eve\"]\n",
    "print(names.index(\"Charlie\"))"
   ]
  },
  {
   "cell_type": "code",
   "execution_count": 15,
   "metadata": {},
   "outputs": [
    {
     "name": "stdout",
     "output_type": "stream",
     "text": [
      "4\n"
     ]
    }
   ],
   "source": [
    "# nums_tuple = (4, 2, 4, 6, 4, 8, 4, 10)  \n",
    "# Task: Count how many times 4 appears in nums_tuple.  \n",
    "nums_tuple = (4, 2, 4, 6, 4, 8, 4, 10)\n",
    "count = 0\n",
    "\n",
    "for item in nums_tuple:\n",
    "    if item == 4:\n",
    "        count += 1\n",
    "print(count)"
   ]
  },
  {
   "cell_type": "code",
   "execution_count": 56,
   "metadata": {},
   "outputs": [
    {
     "name": "stdout",
     "output_type": "stream",
     "text": [
      "50\n"
     ]
    },
    {
     "data": {
      "text/plain": [
       "[50, 20, 30, 40, 10]"
      ]
     },
     "execution_count": 56,
     "metadata": {},
     "output_type": "execute_result"
    }
   ],
   "source": [
    "values = [10, 20, 30, 40, 50]  \n",
    "# Task: Swap the first and last elements.  \n",
    "\n",
    "first_val = values[0]\n",
    "last_val = values[-1]\n",
    "print(last_val)\n",
    "\n",
    "values[0] = last_val\n",
    "values[-1] = first_val\n",
    "\n",
    "values"
   ]
  },
  {
   "cell_type": "code",
   "execution_count": 19,
   "metadata": {},
   "outputs": [
    {
     "name": "stdout",
     "output_type": "stream",
     "text": [
      "[1, 4, 9, 16, 25, 36, 49, 64, 81, 100]\n"
     ]
    }
   ],
   "source": [
    "values = []\n",
    "# Task: Generate a list of squares for numbers from 1 to 10. \n",
    "for item in range(1,11):\n",
    "    values.append(item * item)\n",
    "print(values)\n"
   ]
  },
  {
   "cell_type": "code",
   "execution_count": 58,
   "metadata": {},
   "outputs": [
    {
     "data": {
      "text/plain": [
       "(5, 4, 3, 2, 1)"
      ]
     },
     "execution_count": 58,
     "metadata": {},
     "output_type": "execute_result"
    }
   ],
   "source": [
    "my_tuple = (1, 2, 3, 4, 5)  \n",
    "# Task: Reverse my_tuple without converting it to a list.  \n",
    "my_tuple[::-1]\n",
    "# reversed(my_tuple)"
   ]
  },
  {
   "cell_type": "code",
   "execution_count": 27,
   "metadata": {},
   "outputs": [
    {
     "name": "stdout",
     "output_type": "stream",
     "text": [
      "89\n",
      "12\n"
     ]
    }
   ],
   "source": [
    "data = [23, 45, 67, 12, 89, 34]  \n",
    "# Task: Find the maximum and minimum values in data.  \n",
    "\n",
    "maxi = max(data)\n",
    "print(maxi)\n",
    "\n",
    "mini = min(data)\n",
    "print(mini)\n"
   ]
  },
  {
   "cell_type": "code",
   "execution_count": 31,
   "metadata": {},
   "outputs": [
    {
     "name": "stdout",
     "output_type": "stream",
     "text": [
      "[10, 30, 50, 70]\n"
     ]
    }
   ],
   "source": [
    "nums = [10, 20, 30, 40, 50, 60, 70]  \n",
    "# Task: Extract every second element from nums.  \n",
    "\n",
    "print(nums[::2])"
   ]
  },
  {
   "cell_type": "code",
   "execution_count": 54,
   "metadata": {},
   "outputs": [
    {
     "data": {
      "text/plain": [
       "[1, 2, 3, 4, 6, 7, 8, 9, 4, 9, 2, 6, 7, 8, 9]"
      ]
     },
     "execution_count": 54,
     "metadata": {},
     "output_type": "execute_result"
    }
   ],
   "source": [
    "nested_list = [[1, 2, 3], [4, 5, 6], [7, 8, 9]]  \n",
    "\n",
    "# Task: Convert nested_list into a single flat list.\n",
    "\n",
    "list_1 = nested_list[0]\n",
    "list_2 = nested_list[1]\n",
    "list_3 = nested_list[2]\n",
    "\n",
    "nested_list = list1 + list2 + list_3\n",
    "nested_list\n",
    "\n"
   ]
  },
  {
   "cell_type": "code",
   "execution_count": 33,
   "metadata": {},
   "outputs": [
    {
     "name": "stdout",
     "output_type": "stream",
     "text": [
      "4\n",
      "5\n",
      "6\n"
     ]
    }
   ],
   "source": [
    "list_a = [1, 2, 3, 4, 5, 6]  \n",
    "list_b = [4, 5, 6, 7, 8, 9]  \n",
    "# Task: Find common elements between list_a and list_b.  \n",
    "\n",
    "\n",
    "for item1 in list_a:\n",
    "    for item2 in list_b:\n",
    "        if item1 == item2:\n",
    "            print(item2)\n",
    "\n"
   ]
  },
  {
   "cell_type": "code",
   "execution_count": 36,
   "metadata": {},
   "outputs": [
    {
     "name": "stdout",
     "output_type": "stream",
     "text": [
      "[92, 88, 78, 62, 55, 30]\n"
     ]
    }
   ],
   "source": [
    "scores = [78, 55, 92, 30, 88, 62]  \n",
    "# Task: Sort scores in descending order.  \n",
    "\n",
    "scores.sort(reverse=True)\n",
    "print(scores)\n"
   ]
  },
  {
   "cell_type": "code",
   "execution_count": 41,
   "metadata": {},
   "outputs": [
    {
     "name": "stdout",
     "output_type": "stream",
     "text": [
      "(1, 2, 3, 1, 2, 3, 1, 2, 3)\n"
     ]
    }
   ],
   "source": [
    "my_tuple = (1, 2, 3)  \n",
    "# Task: Repeat my_tuple three times and store the result.\n",
    "new_tuple = my_tuple * 3\n",
    "print(new_tuple)\n"
   ]
  },
  {
   "cell_type": "code",
   "execution_count": 55,
   "metadata": {},
   "outputs": [
    {
     "name": "stdout",
     "output_type": "stream",
     "text": [
      "[1, 2, 3, 4, 5, 6]\n"
     ]
    }
   ],
   "source": [
    "numbers = [1, 2, 2, 3, 4, 4, 5, 6, 6]  \n",
    "# Task: Remove duplicates while keeping the order.\n",
    "\n",
    "# find other techs\n",
    "test = 1\n",
    "for num in numbers:\n",
    "    a = numbers.count(num)\n",
    "    if a > 1:\n",
    "        numbers.remove(num)\n",
    "print(numbers)\n",
    "    \n",
    "    "
   ]
  },
  {
   "cell_type": "code",
   "execution_count": 45,
   "metadata": {},
   "outputs": [
    {
     "name": "stdout",
     "output_type": "stream",
     "text": [
      "['Hello', 'World', 'Amazing', 'Python', 'Programming']\n"
     ]
    }
   ],
   "source": [
    "words = [\"Hello\", \"World\", \"Python\", \"Programming\"]  \n",
    "# Task: Insert \"Amazing\" at index 2.  \n",
    "\n",
    "words.insert(2,\"Amazing\")\n",
    "print(words)\n"
   ]
  },
  {
   "cell_type": "code",
   "execution_count": 53,
   "metadata": {},
   "outputs": [
    {
     "name": "stdout",
     "output_type": "stream",
     "text": [
      "dict[[('a', 1), ('b', 2), ('c', 3)]]\n"
     ]
    }
   ],
   "source": [
    "pairs = [(\"a\", 1), (\"b\", 2), (\"c\", 3)]  \n",
    "# Task: Convert pairs into a dictionary.  \n",
    "# Try using unpacking\n",
    "new_dic = dict[pairs]\n",
    "print(new_dic)"
   ]
  },
  {
   "cell_type": "code",
   "execution_count": 59,
   "metadata": {},
   "outputs": [],
   "source": [
    "# -------------------------------------------------"
   ]
  },
  {
   "cell_type": "code",
   "execution_count": 60,
   "metadata": {},
   "outputs": [
    {
     "name": "stdout",
     "output_type": "stream",
     "text": [
      "15\n"
     ]
    }
   ],
   "source": [
    "\n",
    "\n",
    "# Session #2 [30 - 40]\n",
    "# -------------------------------------------------------------------------------------------------------------------\n",
    "\n",
    "\n",
    "   \n",
    "# Task: Use a for loop to calculate the sum of all elements in nums.  \n",
    "nums = [1, 2, 3, 4, 5]  \n",
    "\n",
    "sum = 0\n",
    "for i in nums:\n",
    "    sum = sum + i\n",
    "print(sum)\n"
   ]
  },
  {
   "cell_type": "code",
   "execution_count": 61,
   "metadata": {},
   "outputs": [
    {
     "name": "stdout",
     "output_type": "stream",
     "text": [
      "5\n",
      "4\n",
      "3\n",
      "2\n",
      "1\n"
     ]
    }
   ],
   "source": [
    "count = 5  \n",
    "# Task: Use a while loop to print numbers from count down to 1.\n",
    "\n",
    "while count>0:\n",
    "    print(count)\n",
    "    count -=1\n"
   ]
  },
  {
   "cell_type": "code",
   "execution_count": 63,
   "metadata": {},
   "outputs": [
    {
     "name": "stdout",
     "output_type": "stream",
     "text": [
      "APPLE\n",
      "BANANA\n",
      "CHERRY\n",
      "MANGO\n"
     ]
    }
   ],
   "source": [
    "fruits = [\"Apple\", \"Banana\", \"Cherry\", \"Mango\"]  \n",
    "# Task: Use a for loop to print each fruit in uppercase. \n",
    "\n",
    "for i in fruits:\n",
    "    print(i.upper())\n"
   ]
  },
  {
   "cell_type": "code",
   "execution_count": 86,
   "metadata": {},
   "outputs": [
    {
     "name": "stdout",
     "output_type": "stream",
     "text": [
      "1\n",
      "4\n",
      "9\n",
      "16\n",
      "25\n",
      "36\n",
      "49\n",
      "64\n",
      "81\n",
      "100\n"
     ]
    }
   ],
   "source": [
    "i = 1  \n",
    "# Task: Use a while loop to print squares of numbers from 1 to 10.  \n",
    "\n",
    "while i <= 10:\n",
    "    sq = i**2\n",
    "\n",
    "    print(sq)\n",
    "\n",
    "    i += 1\n"
   ]
  },
  {
   "cell_type": "code",
   "execution_count": 85,
   "metadata": {},
   "outputs": [
    {
     "name": "stdout",
     "output_type": "stream",
     "text": [
      "[8, 64, 216, 512, 1000]\n"
     ]
    }
   ],
   "source": [
    "values = [2, 4, 6, 8, 10]  \n",
    "# Task: Use a for loop to create a new list containing cubes of values\n",
    "new_list = []\n",
    "for i in values:\n",
    "    cube = i**3\n",
    "    new_list.append(cube)\n",
    "\n",
    "print(new_list)\n"
   ]
  },
  {
   "cell_type": "code",
   "execution_count": 72,
   "metadata": {},
   "outputs": [
    {
     "name": "stdout",
     "output_type": "stream",
     "text": [
      "1\n"
     ]
    }
   ],
   "source": [
    "sentence = \"Python is fun\"  \n",
    "# Task: Use a for loop to count how many times 'o' appears in sentence.  \n",
    "\n",
    "\n",
    "count = 0\n",
    "for i in sentence:\n",
    "    if i == 'o':\n",
    "        count+=1\n",
    "print(count)"
   ]
  },
  {
   "cell_type": "code",
   "execution_count": 77,
   "metadata": {},
   "outputs": [
    {
     "name": "stdout",
     "output_type": "stream",
     "text": [
      "10\n",
      "8\n",
      "6\n",
      "4\n",
      "2\n"
     ]
    }
   ],
   "source": [
    "num = 10\n",
    "i = 0 \n",
    "# Task: Use a while loop to print even numbers from 10 to 2 in reverse order.  \n",
    "\n",
    "while num > 0:\n",
    "    if num % 2 == 0:\n",
    "        print(num)\n",
    "    num -= 1\n"
   ]
  },
  {
   "cell_type": "code",
   "execution_count": 79,
   "metadata": {},
   "outputs": [
    {
     "name": "stdout",
     "output_type": "stream",
     "text": [
      "1\n",
      "2\n",
      "3\n",
      "4\n",
      "5\n",
      "6\n"
     ]
    }
   ],
   "source": [
    "matrix = [[1, 2], [3, 4], [5, 6]]  \n",
    "# Task: Use nested for loops to print all elements in matrix.  \n",
    "\n",
    "for i in matrix:\n",
    "    for j in i:\n",
    "        print(j)\n"
   ]
  },
  {
   "cell_type": "code",
   "execution_count": 81,
   "metadata": {},
   "outputs": [
    {
     "name": "stdout",
     "output_type": "stream",
     "text": [
      "720\n"
     ]
    }
   ],
   "source": [
    "num = 7  \n",
    "i = 1\n",
    "# Task: Use a while loop to find the factorial of num.  \n",
    "fact = 1\n",
    "while i < num:\n",
    "    fact = fact * i\n",
    "    i += 1\n",
    "\n",
    "print(fact)\n",
    "\n",
    "\n"
   ]
  },
  {
   "cell_type": "code",
   "execution_count": 84,
   "metadata": {},
   "outputs": [
    {
     "name": "stdout",
     "output_type": "stream",
     "text": [
      "3\n",
      "9\n",
      "12\n",
      "18\n",
      "21\n"
     ]
    }
   ],
   "source": [
    "numbers = [3, 9, 12, 18, 21, 25]  \n",
    "# Task: Use a for loop to print only the numbers divisible by 3.  \n",
    "\n",
    "for i in numbers:\n",
    "    if i % 3 == 0:\n",
    "        print(i)\n",
    "\n",
    "\n"
   ]
  },
  {
   "cell_type": "code",
   "execution_count": null,
   "metadata": {},
   "outputs": [],
   "source": []
  }
 ],
 "metadata": {
  "kernelspec": {
   "display_name": "Python 3",
   "language": "python",
   "name": "python3"
  },
  "language_info": {
   "codemirror_mode": {
    "name": "ipython",
    "version": 3
   },
   "file_extension": ".py",
   "mimetype": "text/x-python",
   "name": "python",
   "nbconvert_exporter": "python",
   "pygments_lexer": "ipython3",
   "version": "3.13.2"
  }
 },
 "nbformat": 4,
 "nbformat_minor": 2
}
