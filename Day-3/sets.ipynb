{
 "cells": [
  {
   "cell_type": "code",
   "execution_count": 2,
   "metadata": {},
   "outputs": [
    {
     "data": {
      "text/plain": [
       "{'i', 'm', 'p', 's'}"
      ]
     },
     "execution_count": 2,
     "metadata": {},
     "output_type": "execute_result"
    }
   ],
   "source": [
    "s  = \"missisippi\"\n",
    "\n",
    "set(s)"
   ]
  },
  {
   "cell_type": "code",
   "execution_count": 3,
   "metadata": {},
   "outputs": [],
   "source": [
    "# Red black tree ds\n"
   ]
  },
  {
   "cell_type": "code",
   "execution_count": 4,
   "metadata": {},
   "outputs": [],
   "source": [
    "# Operations on set\n",
    "\n",
    "s1 = set(\"abcdefg\")\n",
    "s2 = {'e','f','g','h','i','j'}"
   ]
  },
  {
   "cell_type": "code",
   "execution_count": 5,
   "metadata": {},
   "outputs": [
    {
     "data": {
      "text/plain": [
       "{'a', 'b', 'c', 'd', 'e', 'f', 'g'}"
      ]
     },
     "execution_count": 5,
     "metadata": {},
     "output_type": "execute_result"
    }
   ],
   "source": [
    "s1\n",
    "\n",
    "\n"
   ]
  },
  {
   "cell_type": "code",
   "execution_count": 6,
   "metadata": {},
   "outputs": [
    {
     "data": {
      "text/plain": [
       "{'e', 'f', 'g', 'h', 'i', 'j'}"
      ]
     },
     "execution_count": 6,
     "metadata": {},
     "output_type": "execute_result"
    }
   ],
   "source": [
    "s2\n",
    "\n"
   ]
  },
  {
   "cell_type": "code",
   "execution_count": 7,
   "metadata": {},
   "outputs": [
    {
     "data": {
      "text/plain": [
       "{'a', 'b', 'c', 'd', 'e', 'f', 'g', 'h', 'i', 'j'}"
      ]
     },
     "execution_count": 7,
     "metadata": {},
     "output_type": "execute_result"
    }
   ],
   "source": [
    "s1 | s2"
   ]
  },
  {
   "cell_type": "code",
   "execution_count": 8,
   "metadata": {},
   "outputs": [
    {
     "data": {
      "text/plain": [
       "{'a', 'b', 'c', 'd', 'h', 'i', 'j'}"
      ]
     },
     "execution_count": 8,
     "metadata": {},
     "output_type": "execute_result"
    }
   ],
   "source": [
    "s1 ^ s2"
   ]
  },
  {
   "cell_type": "code",
   "execution_count": 9,
   "metadata": {},
   "outputs": [
    {
     "data": {
      "text/plain": [
       "{'a', 'b', 'c', 'd', 'e', 'f', 'g', 'x'}"
      ]
     },
     "execution_count": 9,
     "metadata": {},
     "output_type": "execute_result"
    }
   ],
   "source": [
    "s1.add('x')\n",
    "s1"
   ]
  },
  {
   "cell_type": "code",
   "execution_count": 17,
   "metadata": {},
   "outputs": [
    {
     "data": {
      "text/plain": [
       "{'a', 'b', 'c', 'd', 'e', 'f', 'g', 'x', 'y', 'z'}"
      ]
     },
     "execution_count": 17,
     "metadata": {},
     "output_type": "execute_result"
    }
   ],
   "source": [
    "s1.update({'y','z'})\n",
    "s1"
   ]
  },
  {
   "cell_type": "code",
   "execution_count": 19,
   "metadata": {},
   "outputs": [
    {
     "data": {
      "text/plain": [
       "{0: 'RED', 1: 'green', 2: 'blue'}"
      ]
     },
     "execution_count": 19,
     "metadata": {},
     "output_type": "execute_result"
    }
   ],
   "source": [
    "\n",
    "# Dictionory\n",
    "\n",
    "L = [\"RED\",\"green\",\"blue\"]\n",
    "dict(enumerate(L))\n"
   ]
  },
  {
   "cell_type": "code",
   "execution_count": 20,
   "metadata": {},
   "outputs": [
    {
     "data": {
      "text/plain": [
       "{'Mahesh': 25, 'Lakith': 26}"
      ]
     },
     "execution_count": 20,
     "metadata": {},
     "output_type": "execute_result"
    }
   ],
   "source": [
    "N = ['a','b','c']\n",
    "a = ['Mahesh', 'Lakith', 25, 26]\n",
    "j=0\n",
    "for i in a:\n",
    "    if isinstance(i, str):\n",
    "        j=j+1\n",
    "x=a[:j:]\n",
    "y=a[j::]\n",
    "dict(zip(x,y))"
   ]
  },
  {
   "cell_type": "code",
   "execution_count": 26,
   "metadata": {},
   "outputs": [
    {
     "name": "stdout",
     "output_type": "stream",
     "text": [
      "{'apple': 3, 'banana': 2, 'orange': 1}\n"
     ]
    }
   ],
   "source": [
    "# 1. Count Word Frequency in a Sentence  \n",
    "# Task: Given a sentence, count the occurrences of each word using a dictionary.\n",
    "\n",
    "\n",
    "\n",
    "sentence = \"apple banana apple orange banana apple\" \n",
    "\n",
    "new_list = sentence.split()\n",
    "ch = {}\n",
    "for c in new_list:\n",
    "    if c in ch.keys():\n",
    "        ch[c] = ch[c] + 1\n",
    "    else:\n",
    "        ch[c] = 1\n",
    "print(ch)\n",
    "\n",
    "\n",
    "\n",
    "\n",
    "# Output: {'apple': 3, 'banana': 2, 'orange': 1}  \n"
   ]
  },
  {
   "cell_type": "code",
   "execution_count": 28,
   "metadata": {},
   "outputs": [
    {
     "name": "stdout",
     "output_type": "stream",
     "text": [
      "{1, 2, 5, 6}\n"
     ]
    }
   ],
   "source": [
    "# 2. Find Unique Elements in Two Lists Using Sets  \n",
    "# Task: Given two lists, find the elements that are unique to each list using sets.  \n",
    "# Example:  \n",
    "\n",
    "list1 = {1, 2, 3, 4}  \n",
    "list2 = {3, 4, 5, 6}  \n",
    "\n",
    "unique = list1 ^ list2\n",
    "print(unique)\n",
    "\n"
   ]
  },
  {
   "cell_type": "code",
   "execution_count": 32,
   "metadata": {},
   "outputs": [
    {
     "name": "stdout",
     "output_type": "stream",
     "text": [
      "{'a': 10, 'b': 30, 'c': 40}\n"
     ]
    }
   ],
   "source": [
    "# 3. Merge Two Dictionaries  \n",
    "# Task: Merge two dictionaries and sum the values of common keys.  \n",
    "# Example:  \n",
    "dict1 = {'a': 10, 'b': 20}  \n",
    "dict2 = {'b': 30, 'c': 40}\n",
    "\n",
    "dict1 = {'a': 10, 'b': 20}  \n",
    "dict2 = {'b': 30, 'c': 40} \n",
    "c_dict = {}\n",
    "for i in dict1.keys():\n",
    "    if i in dict2:\n",
    "        c_dict[i] = dict1[i] + dict2[i]\n",
    "    else:\n",
    "        c_dict[i] = dict1[i]\n",
    "\n",
    "for i in dict2.keys():\n",
    "    if i not in dict1:\n",
    "        c_dict[i] = dict2[i]\n",
    "\n",
    "c_dict\n",
    "\n",
    "\n",
    "\n",
    "\n",
    "\n",
    "\n",
    "\n",
    "\n",
    "\n",
    "\n",
    "# Output: {'a': 10, 'b': 50, 'c': 40}  "
   ]
  },
  {
   "cell_type": "code",
   "execution_count": 34,
   "metadata": {},
   "outputs": [
    {
     "name": "stdout",
     "output_type": "stream",
     "text": [
      "{3, 4}\n"
     ]
    }
   ],
   "source": [
    "# 4. Find the Intersection of Two Sets  \n",
    "# Task: Given two sets, find the common elements.  \n",
    "# Example:  \n",
    "set1 = {1, 2, 3, 4}  \n",
    "set2 = {3, 4, 5, 6}  \n",
    "\n",
    "common = set1 & set2\n",
    "print(common)"
   ]
  },
  {
   "cell_type": "code",
   "execution_count": 35,
   "metadata": {},
   "outputs": [
    {
     "name": "stdout",
     "output_type": "stream",
     "text": [
      "1\n",
      "2\n",
      "3\n",
      "4\n",
      "5\n",
      "6\n",
      "7\n",
      "8\n",
      "9\n",
      "10\n"
     ]
    }
   ],
   "source": [
    "# 5. Find the Most Frequent Element in a List  \n",
    "# Task: Given a list, find the element that appears the most times.  \n",
    "# Example:  \n",
    "\n",
    "\n",
    "numbers = [1, 3, 2, 3, 4, 3, 5, 2, 1, 3] \n",
    "count = 0\n",
    "for item in numbers:\n",
    "\n",
    "    \n",
    "\n",
    "    \n",
    "\n",
    "\n",
    "\n",
    "\n",
    "\n",
    "\n"
   ]
  },
  {
   "cell_type": "code",
   "execution_count": 37,
   "metadata": {},
   "outputs": [
    {
     "data": {
      "text/plain": [
       "{1, 2, 3, 4, 5, 6}"
      ]
     },
     "execution_count": 37,
     "metadata": {},
     "output_type": "execute_result"
    }
   ],
   "source": [
    "# 6. Remove Duplicates from a List Using Sets  \n",
    "# Task: Remove duplicates from a list while maintaining order.  \n",
    "# Example:  \n",
    "lst = [1, 2, 2, 3, 4, 4, 5, 6, 6, 6]  \n",
    "\n",
    "set1 = set(lst)\n",
    "set1\n",
    "\n",
    "\n",
    "\n",
    "\n",
    "\n",
    "# Output: [1, 2, 3, 4, 5, 6]  "
   ]
  },
  {
   "cell_type": "code",
   "execution_count": 42,
   "metadata": {},
   "outputs": [
    {
     "name": "stdout",
     "output_type": "stream",
     "text": [
      "{'Charlie', 'Bob'}\n"
     ]
    }
   ],
   "source": [
    "\n",
    "# 7. Find Students Who Enrolled in Both Courses  \n",
    "# Task: Given two sets of students, find those who are enrolled in both courses.  \n",
    "# Example:  \n",
    "\n",
    "\n",
    "course_A = {\"Alice\", \"Bob\", \"Charlie\"}  \n",
    "course_B = {\"Bob\", \"David\", \"Charlie\"}  \n",
    "new_set = set({})\n",
    "for item in course_A:\n",
    "    if item in course_B:\n",
    "        new_set.add(item)\n",
    "print(new_set)\n",
    "\n",
    "\n",
    "\n",
    "\n",
    "\n",
    "# Output: {\"Bob\", \"Charlie\"}  "
   ]
  },
  {
   "cell_type": "code",
   "execution_count": 44,
   "metadata": {},
   "outputs": [
    {
     "name": "stdout",
     "output_type": "stream",
     "text": [
      "{1, 2, 3, 4, 5, 6, 7}\n"
     ]
    }
   ],
   "source": [
    "# 8. Find the Union of Multiple Sets  \n",
    "# Task: Find the union of three sets.  \n",
    "# Example:  \n",
    "set1 = {1, 2, 3}  \n",
    "set2 = {3, 4, 5}  \n",
    "set3 = {5, 6, 7}  \n",
    "\n",
    "union = set1 | set2 | set3\n",
    "print(union)\n",
    "# Output: {1, 2, 3, 4, 5, 6, 7}  "
   ]
  },
  {
   "cell_type": "code",
   "execution_count": 46,
   "metadata": {},
   "outputs": [
    {
     "name": "stdout",
     "output_type": "stream",
     "text": [
      "{'a': 'a', 'b': 'b', 'c': 'c'}\n"
     ]
    }
   ],
   "source": [
    "# 9. Reverse a Dictionary (Keys Become Values, Values Become Keys)  \n",
    "# Task: Swap keys and values in a dictionary.  \n",
    "# Example:  \n",
    "\n",
    "\n",
    "\n",
    "original_dict = {'a': 1, 'b': 2, 'c': 3}\n",
    "\n",
    "reverse_dict = {}\n",
    "\n",
    "for keys in original_dict:\n",
    "    values = keys\n",
    "    \n",
    "    reverse_dict[keys] = values\n",
    "\n",
    "print(reverse_dict)\n",
    "\n",
    "\n",
    "\n",
    "\n",
    "\n",
    "\n",
    "# Output: {1: 'a', 2: 'b', 3: 'c'}  \n"
   ]
  },
  {
   "cell_type": "code",
   "execution_count": null,
   "metadata": {},
   "outputs": [],
   "source": [
    "# 10. Check If Two Words Are Anagrams Using Dictionaries  \n",
    "# Task: Given two words, check if they are anagrams (i.e., contain the same letters with the same frequency).  \n",
    "# Example:  \n",
    "word1 = \"listen\"  \n",
    "word2 = \"silent\"  \n",
    "\n",
    "\n",
    "\n",
    "\n",
    "\n",
    "\n",
    "\n",
    "\n",
    "\n",
    "# Output: True (They are anagrams)  "
   ]
  }
 ],
 "metadata": {
  "kernelspec": {
   "display_name": "Python 3",
   "language": "python",
   "name": "python3"
  },
  "language_info": {
   "codemirror_mode": {
    "name": "ipython",
    "version": 3
   },
   "file_extension": ".py",
   "mimetype": "text/x-python",
   "name": "python",
   "nbconvert_exporter": "python",
   "pygments_lexer": "ipython3",
   "version": "3.13.2"
  }
 },
 "nbformat": 4,
 "nbformat_minor": 2
}
