{
 "cells": [
  {
   "cell_type": "code",
   "execution_count": 2,
   "metadata": {},
   "outputs": [
    {
     "data": {
      "text/plain": [
       "set()"
      ]
     },
     "execution_count": 2,
     "metadata": {},
     "output_type": "execute_result"
    }
   ],
   "source": [
    "s1 = set()\n",
    "s1"
   ]
  },
  {
   "cell_type": "code",
   "execution_count": 4,
   "metadata": {},
   "outputs": [
    {
     "data": {
      "text/plain": [
       "{'x'}"
      ]
     },
     "execution_count": 4,
     "metadata": {},
     "output_type": "execute_result"
    }
   ],
   "source": [
    "s1.add('x')\n",
    "s1"
   ]
  },
  {
   "cell_type": "code",
   "execution_count": 5,
   "metadata": {},
   "outputs": [
    {
     "data": {
      "text/plain": [
       "{'x', 'y', 'z'}"
      ]
     },
     "execution_count": 5,
     "metadata": {},
     "output_type": "execute_result"
    }
   ],
   "source": [
    "s1.update({'y','z'})\n",
    "s1"
   ]
  },
  {
   "cell_type": "code",
   "execution_count": 6,
   "metadata": {},
   "outputs": [],
   "source": [
    "s1.remove('x')"
   ]
  },
  {
   "cell_type": "code",
   "execution_count": 10,
   "metadata": {},
   "outputs": [
    {
     "name": "stdout",
     "output_type": "stream",
     "text": [
      "{'m': 1, 'i': 4, 's': 4, 'p': 2}\n"
     ]
    }
   ],
   "source": [
    "word = \"Mississippi\"\n",
    "\n",
    "# Find the number of occurences of each letter in to a dictionary\n",
    "occurence_count = {}\n",
    "\n",
    "for letter in word.lower():\n",
    "    # print(letter)\n",
    "    if letter in occurence_count.keys():\n",
    "        occurence_count[letter] += 1\n",
    "    else:\n",
    "        occurence_count[letter] = 1\n",
    "print(occurence_count)\n"
   ]
  },
  {
   "cell_type": "code",
   "execution_count": 11,
   "metadata": {},
   "outputs": [
    {
     "name": "stdout",
     "output_type": "stream",
     "text": [
      "(0, 'red')\n",
      "(1, 'green')\n",
      "(2, 'blue')\n"
     ]
    }
   ],
   "source": [
    "L = [\"red\", \"green\", \"blue\"]\n",
    "for item in enumerate(L):\n",
    "    print(item)"
   ]
  },
  {
   "cell_type": "code",
   "execution_count": 13,
   "metadata": {},
   "outputs": [
    {
     "data": {
      "text/plain": [
       "{0: 'red', 1: 'green', 2: 'blue'}"
      ]
     },
     "execution_count": 13,
     "metadata": {},
     "output_type": "execute_result"
    }
   ],
   "source": [
    "dict(enumerate(L))"
   ]
  },
  {
   "cell_type": "code",
   "execution_count": 19,
   "metadata": {},
   "outputs": [
    {
     "name": "stdout",
     "output_type": "stream",
     "text": [
      "[('Apple', 1), ('Banana', 2), ('Orange', 3)]\n"
     ]
    }
   ],
   "source": [
    "list1 = [\"Apple\",\"Banana\",\"Orange\"]\n",
    "list2 = [1,2,3]\n",
    "\n",
    "zipped = zip(list1,list2)\n",
    "print(list(zipped))"
   ]
  },
  {
   "cell_type": "code",
   "execution_count": 26,
   "metadata": {},
   "outputs": [
    {
     "name": "stdout",
     "output_type": "stream",
     "text": [
      "{'Mahesh': 25, 'Lakith': 26}\n"
     ]
    }
   ],
   "source": [
    "a = ['Mahesh', 'Lakith', 25, 26] \n",
    "# how to convert this to below dict format\n",
    "# a = {'Mahesh:25','lakith:26'} \n",
    "new_dic = {}\n",
    "list_keys = []\n",
    "list_vals = []\n",
    "for i in a:\n",
    "    if isinstance(i,str):\n",
    "        list_keys.append(i)\n",
    "    else:\n",
    "        list_vals.append(i)\n",
    "    \n",
    "new_dic = dict(zip(list_keys,list_vals))\n",
    "print(new_dic)\n"
   ]
  },
  {
   "cell_type": "code",
   "execution_count": 37,
   "metadata": {},
   "outputs": [
    {
     "name": "stdout",
     "output_type": "stream",
     "text": [
      "{'Anil': 'name', 35: 'age', 'UST Global': 'company', 'Bangalore': 'location', '1000000': 'salary'}\n"
     ]
    }
   ],
   "source": [
    "# reverse the keys and values\n",
    "D = {'name':'Anil', 'age':35, 'company':'UST Global', 'location':'Bangalore', 'salary':'1000000'}\n",
    "D1 = {}\n",
    "for keys,values in D.items():\n",
    "    D1[values] = keys\n",
    "\n",
    "print(D1)\n",
    "\n",
    "\n",
    "\n"
   ]
  },
  {
   "cell_type": "code",
   "execution_count": 54,
   "metadata": {},
   "outputs": [
    {
     "name": "stdout",
     "output_type": "stream",
     "text": [
      "{'a': 10, 'b': 50, 'c': 40}\n"
     ]
    }
   ],
   "source": [
    "# Task: Merge two dictionaries and sum the values of common keys.  \n",
    "# Example:  \n",
    "d1 = {'a': 10, 'b': 20}  \n",
    "d2 = {'b': 30, 'c': 40}\n",
    "\n",
    "for keys in  d1:\n",
    "    for k in d2:\n",
    "        if keys == k:\n",
    "            d2[k] += d1[keys]\n",
    "d1.update(d2)\n",
    "print(d1)\n",
    "\n",
    "\n",
    "\n",
    "# Output: {'a': 10, 'b': 50, 'c': 40}  "
   ]
  },
  {
   "cell_type": "code",
   "execution_count": 55,
   "metadata": {},
   "outputs": [
    {
     "name": "stdout",
     "output_type": "stream",
     "text": [
      "{'b': 50, 'c': 40, 'a': 10}\n"
     ]
    }
   ],
   "source": [
    "d1 = {'a': 10, 'b': 20}  \n",
    "d2 = {'b': 30, 'c': 40}\n",
    "\n",
    "for key in d1:\n",
    "    if key in d2:\n",
    "        d2[key] += d1[key]\n",
    "    else:\n",
    "        d2[key] = d1[key]\n",
    "print(d2)\n",
    "\n"
   ]
  },
  {
   "cell_type": "code",
   "execution_count": null,
   "metadata": {},
   "outputs": [],
   "source": [
    "# Are the two words anagrams\n",
    "word1 = \"listen\"  \n",
    "word2 = \"silent\"\n",
    "\n"
   ]
  },
  {
   "cell_type": "code",
   "execution_count": 5,
   "metadata": {},
   "outputs": [
    {
     "name": "stdout",
     "output_type": "stream",
     "text": [
      "{1: 2, 3: 4, 2: 2, 4: 1, 5: 1}\n",
      "3 4\n"
     ]
    }
   ],
   "source": [
    "# 5. Find the Most Frequent Element in a List  \n",
    "# Task: Given a list, find the element that appears the most times.  \n",
    "# Example:  \n",
    "numbers = [1, 3, 2, 3, 4, 3, 5, 2, 1, 3]  \n",
    "\n",
    "dic = {}\n",
    "\n",
    "for num in numbers:\n",
    "    if num in dic.keys():\n",
    "        dic[num] += 1\n",
    "    else:\n",
    "        dic[num] = 1\n",
    "print(dic)\n",
    "\n",
    "largest = 0\n",
    "for keys,values in dic.items():\n",
    "     if values>largest:\n",
    "         largest = values\n",
    "         largest_key = keys\n",
    "print(largest_key,largest)\n",
    "\n"
   ]
  },
  {
   "cell_type": "code",
   "execution_count": 2,
   "metadata": {},
   "outputs": [
    {
     "data": {
      "text/plain": [
       "{'apple': 3, 'banana': 2, 'orange': 1}"
      ]
     },
     "execution_count": 2,
     "metadata": {},
     "output_type": "execute_result"
    }
   ],
   "source": [
    "# 1. Count Word Frequency in a Sentence  \n",
    "# Task: Given a sentence, count the occurrences of each word using a dictionary.  \n",
    "# Example:  \n",
    "sentence = \"apple banana apple orange banana apple\"\n",
    "sentence_list = sentence.split()\n",
    "dict_1 = {}\n",
    "\n",
    "for item in sentence_list:\n",
    "    if item in dict_1:\n",
    "        dict_1[item] += 1\n",
    "    else:\n",
    "        dict_1[item] = 1\n",
    "dict_1\n",
    "# Output: {'apple': 3, 'banana': 2, 'orange': 1}  "
   ]
  },
  {
   "cell_type": "code",
   "execution_count": 3,
   "metadata": {},
   "outputs": [
    {
     "data": {
      "text/plain": [
       "{1, 2, 5, 6}"
      ]
     },
     "execution_count": 3,
     "metadata": {},
     "output_type": "execute_result"
    }
   ],
   "source": [
    "# 2. Find Unique Elements in Two Lists Using Sets  \n",
    "# Task: Given two lists, find the elements that are unique to each list using sets.  \n",
    "# Example:  \n",
    "list1 = {1, 2, 3, 4}  \n",
    "list2 = {3, 4, 5, 6}\n",
    "list1 ^ list2\n",
    "# Output: Unique in list1: {1, 2}, Unique in list2: {5, 6}  \n"
   ]
  },
  {
   "cell_type": "code",
   "execution_count": 4,
   "metadata": {},
   "outputs": [
    {
     "ename": "KeyError",
     "evalue": "'a'",
     "output_type": "error",
     "traceback": [
      "\u001b[31m---------------------------------------------------------------------------\u001b[39m",
      "\u001b[31mKeyError\u001b[39m                                  Traceback (most recent call last)",
      "\u001b[36mCell\u001b[39m\u001b[36m \u001b[39m\u001b[32mIn[4]\u001b[39m\u001b[32m, line 13\u001b[39m\n\u001b[32m     11\u001b[39m         dict2[item] += dict1[item]\n\u001b[32m     12\u001b[39m     \u001b[38;5;28;01melse\u001b[39;00m:\n\u001b[32m---> \u001b[39m\u001b[32m13\u001b[39m         dict2[item] = \u001b[43mdict_1\u001b[49m\u001b[43m[\u001b[49m\u001b[43mitem\u001b[49m\u001b[43m]\u001b[49m\n\u001b[32m     14\u001b[39m \u001b[38;5;28mprint\u001b[39m(dict2)\n\u001b[32m     21\u001b[39m \u001b[38;5;66;03m# Output: {'a': 10, 'b': 50, 'c': 40}  \u001b[39;00m\n",
      "\u001b[31mKeyError\u001b[39m: 'a'"
     ]
    }
   ],
   "source": [
    "# 3. Merge Two Dictionaries  \n",
    "# Task: Merge two dictionaries and sum the values of common keys.  \n",
    "# Example:  \n",
    "dict1 = {'a': 10, 'b': 20}  \n",
    "dict2 = {'b': 30, 'c': 40} \n",
    "\n",
    "new_dic = {}\n",
    "\n",
    "for item in dict1:\n",
    "    if item in dict2:\n",
    "        dict2[item] += dict1[item]\n",
    "    else:\n",
    "        dict2[item] = dict_1[item]\n",
    "print(dict2)\n",
    "\n",
    "\n",
    "\n",
    "\n",
    "\n",
    "\n",
    "# Output: {'a': 10, 'b': 50, 'c': 40}  \n"
   ]
  },
  {
   "cell_type": "code",
   "execution_count": null,
   "metadata": {},
   "outputs": [],
   "source": [
    "# 5. Find the Most Frequent Element in a List  \n",
    "# Task: Given a list, find the element that appears the most times.  \n",
    "# Example:  \n",
    "numbers = [1, 3, 2, 3, 4, 3, 5, 2, 1, 3]\n",
    "\n",
    "\n",
    "# Output: Most frequent: 3 (appears 4 times)  "
   ]
  }
 ],
 "metadata": {
  "kernelspec": {
   "display_name": "Python 3",
   "language": "python",
   "name": "python3"
  },
  "language_info": {
   "codemirror_mode": {
    "name": "ipython",
    "version": 3
   },
   "file_extension": ".py",
   "mimetype": "text/x-python",
   "name": "python",
   "nbconvert_exporter": "python",
   "pygments_lexer": "ipython3",
   "version": "3.13.2"
  }
 },
 "nbformat": 4,
 "nbformat_minor": 2
}
