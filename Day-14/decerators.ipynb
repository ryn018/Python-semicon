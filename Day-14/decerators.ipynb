{
 "cells": [
  {
   "cell_type": "code",
   "execution_count": 1,
   "metadata": {},
   "outputs": [
    {
     "name": "stdout",
     "output_type": "stream",
     "text": [
      "2.0\n",
      "2.0\n"
     ]
    }
   ],
   "source": [
    "\n",
    "# So the requirement is any case the neumerator shpould be bigger than denomenator\n",
    "#  It should revise\n",
    "# What is you should not change the code of the existing function\n",
    "\n",
    "def smart_div(func): # It will accept div as a function\n",
    "     # To change the code we can write a function inside that function\n",
    "     def inner(a,b): # Will take same parameter taken by div -- name no same number should be same\n",
    "          if a < b:\n",
    "               a,b = b,a\n",
    "          return func(a,b)\n",
    "     return inner\n",
    "\n",
    "\n",
    "\n",
    "@smart_div\n",
    "def div(a,b):\n",
    "     print(a/b)\n",
    "\n",
    "div(2,4)\n",
    "div(4,2)\n",
    "\n",
    "\n",
    "\n"
   ]
  },
  {
   "cell_type": "code",
   "execution_count": 5,
   "metadata": {},
   "outputs": [
    {
     "data": {
      "text/plain": [
       "'APPLES'"
      ]
     },
     "execution_count": 5,
     "metadata": {},
     "output_type": "execute_result"
    }
   ],
   "source": [
    "\n",
    "import random\n"
   ]
  },
  {
   "cell_type": "code",
   "execution_count": 19,
   "metadata": {},
   "outputs": [
    {
     "data": {
      "text/plain": [
       "'APPSEL'"
      ]
     },
     "execution_count": 19,
     "metadata": {},
     "output_type": "execute_result"
    }
   ],
   "source": [
    "def jumple(func):\n",
    "    def wrapper(strng):\n",
    "        c = list(strng)\n",
    "        random.shuffle(c)\n",
    "        x = \"\".join(c)\n",
    "        return func(x)\n",
    "    return wrapper\n",
    "        \n",
    "@jumple\n",
    "def modify_string(strng):\n",
    "    return strng.upper()\n",
    "\n",
    "modify_string(\"Apples\")"
   ]
  },
  {
   "cell_type": "code",
   "execution_count": 28,
   "metadata": {},
   "outputs": [
    {
     "data": {
      "text/plain": [
       "'Hello UST!'"
      ]
     },
     "execution_count": 28,
     "metadata": {},
     "output_type": "execute_result"
    }
   ],
   "source": [
    "def italic(func):\n",
    "    def wrapper(s):\n",
    "        return \"<i>\" + func(s) + \"</i>\"\n",
    "    return wrapper\n",
    "\n",
    "def bold(func):\n",
    "    def wrapper(s):\n",
    "        return \"<b>\" + func(s) + \"</b>\"\n",
    "    return wrapper\n",
    "\n",
    "# @bold\n",
    "# @italic\n",
    "def message(s):\n",
    "    return s\n",
    "\n",
    "\n",
    "\n",
    "\n",
    "message('Hello UST!')\n",
    "\n",
    "\n",
    "\n"
   ]
  },
  {
   "cell_type": "code",
   "execution_count": 14,
   "metadata": {},
   "outputs": [
    {
     "name": "stdout",
     "output_type": "stream",
     "text": [
      "Name of the function is: greet\n",
      "Positional arguments are: ('Ryn',)\n",
      "Keyword arguments are: {'yes': 'Yan'}\n",
      "Hello, Ryn!\n",
      "Optional message: Yan\n"
     ]
    }
   ],
   "source": [
    "def name_fun(func):\n",
    "    def wrapper(*args, **kargs):\n",
    "        print(f\"Name of the function is: {func.__name__}\")\n",
    "        print(f\"Positional arguments are: {args}\")\n",
    "        print(f\"Keyword arguments are: {kargs}\")\n",
    "        return func(*args, **kargs)\n",
    "    return wrapper\n",
    "\n",
    "@name_fun\n",
    "def greet(name, yes=None):\n",
    "    print(f\"Hello, {name}!\")\n",
    "    if yes:\n",
    "        print(f\"Optional message: {yes}\")\n",
    "\n",
    "greet(\"Ryn\", yes=\"Yan\")\n"
   ]
  },
  {
   "cell_type": "code",
   "execution_count": null,
   "metadata": {},
   "outputs": [],
   "source": []
  }
 ],
 "metadata": {
  "kernelspec": {
   "display_name": "Python 3",
   "language": "python",
   "name": "python3"
  },
  "language_info": {
   "codemirror_mode": {
    "name": "ipython",
    "version": 3
   },
   "file_extension": ".py",
   "mimetype": "text/x-python",
   "name": "python",
   "nbconvert_exporter": "python",
   "pygments_lexer": "ipython3",
   "version": "3.13.2"
  }
 },
 "nbformat": 4,
 "nbformat_minor": 2
}
