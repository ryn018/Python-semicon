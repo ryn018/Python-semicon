{
 "cells": [
  {
   "cell_type": "code",
   "execution_count": 9,
   "metadata": {},
   "outputs": [
    {
     "name": "stdout",
     "output_type": "stream",
     "text": [
      "greet\n",
      "Rose\n",
      "Hello, Rose!\n"
     ]
    }
   ],
   "source": [
    "def log_function(func):\n",
    "    def wrapper(*args):\n",
    "        print(func.__name__)\n",
    "        print(*args)\n",
    "        func(*args)\n",
    "    return wrapper\n",
    "\n",
    "\n",
    "\n",
    "@log_function\n",
    "def greet(name):\n",
    "    print(f\"Hello, {name}!\")\n",
    "\n",
    "greet(\"Rose\")"
   ]
  },
  {
   "cell_type": "code",
   "execution_count": 6,
   "metadata": {},
   "outputs": [
    {
     "name": "stdout",
     "output_type": "stream",
     "text": [
      "14\n"
     ]
    }
   ],
   "source": [
    "\"\"\"\n",
    "Problem Statement #2:\n",
    "--------------------------------------------------------\n",
    "\n",
    "Write a decorator @double_result that doubles the result returned by any function.\n",
    "\n",
    "Example:\n",
    "\n",
    "@double_result\n",
    "def add(x, y):\n",
    "    return x + y\n",
    "\n",
    "print(add(3, 4))  # Output: 14\n",
    "\"\"\"\n",
    "\n",
    "def double_result(func):\n",
    "    def wrapper(*args):\n",
    "        result = func(*args)\n",
    "        return result * 2\n",
    "    return wrapper\n",
    " \n",
    "@double_result\n",
    "def add(x, y):\n",
    "    return x + y\n",
    " \n",
    "print(add(3, 4))\n",
    "\n",
    "\n",
    "\n",
    "\n",
    "@double_result\n",
    "def add(x, y):\n",
    "    return x + y\n",
    "\n"
   ]
  },
  {
   "cell_type": "code",
   "execution_count": 3,
   "metadata": {},
   "outputs": [
    {
     "name": "stdout",
     "output_type": "stream",
     "text": [
      "Done!\n",
      "slow_function() # 1.0008 seconds\n"
     ]
    }
   ],
   "source": [
    "import time\n",
    "def timer(func):\n",
    "    def wrapper():\n",
    "        start_time = time.time()\n",
    "        func()\n",
    "        print(f\"{func.__name__}() # {time.time() - start_time:.4f} seconds\")\n",
    "    return wrapper\n",
    " \n",
    "@timer\n",
    "def slow_function():\n",
    "    time.sleep(1)\n",
    "    print(\"Done!\")\n",
    " \n",
    "slow_function()"
   ]
  },
  {
   "cell_type": "code",
   "execution_count": 16,
   "metadata": {},
   "outputs": [
    {
     "name": "stdout",
     "output_type": "stream",
     "text": [
      "5\n",
      "31.41592653589793\n",
      "5.0\n",
      "31.42\n",
      "True\n",
      "False\n"
     ]
    }
   ],
   "source": [
    "import math\n",
    "\n",
    "class Circle:\n",
    "    def __init__(self, radius):\n",
    "        self.radius = radius\n",
    "\n",
    "    @property\n",
    "    def circumference(self):\n",
    "        return 2 * math.pi * self.radius\n",
    "\n",
    "    @classmethod\n",
    "    def from_diameter(cls, diameter):\n",
    "        radius = diameter / 2\n",
    "        return cls(radius)\n",
    "\n",
    "    @staticmethod\n",
    "    def is_valid_radius(value):\n",
    "        return value > 0\n",
    "\n",
    "\n",
    "circle_1 = Circle(5)\n",
    "print(circle_1.radius)\n",
    "print(circle_1.circumference)  \n",
    "\n",
    "circle_2 = Circle.from_diameter(10)\n",
    "print(circle_2.radius)\n",
    "print(round(circle_2.circumference, 2)) \n",
    "\n",
    "print(Circle.is_valid_radius(7))\n",
    "print(Circle.is_valid_radius(-2))\n"
   ]
  },
  {
   "cell_type": "code",
   "execution_count": 19,
   "metadata": {},
   "outputs": [
    {
     "name": "stdout",
     "output_type": "stream",
     "text": [
      "Your balance is ₹10000\n",
      "Your balance is ₹5000\n",
      "True\n",
      "False\n"
     ]
    }
   ],
   "source": [
    "\"\"\"\n",
    "\n",
    "Create a class called BankAccount to represent a user’s bank account. \n",
    "The class should allow the following:\n",
    "\n",
    "Use @property to return the current balance with a message like \"Your balance is ₹5000\".\n",
    "\n",
    "Use @classmethod to create a BankAccount from a dictionary containing account details like:\n",
    "{\"name\": \"Alice\", \"balance\": 10000}\n",
    "\n",
    "Use @staticmethod to check if a given withdrawal amount is valid, i.e., \n",
    "it must be a positive number and less than or equal to the current balance.\n",
    "\n",
    "\n",
    "\"\"\"\n",
    "\n",
    "class BankAccount:\n",
    "    def __init__(self, name, balance):\n",
    "        self._balance = balance\n",
    " \n",
    "    @property\n",
    "    def balance(self):\n",
    "        return f\"Your balance is ₹{self._balance}\"\n",
    " \n",
    "    @classmethod\n",
    "    def from_dict(cls, account_details):\n",
    "        name = account_details.get('name')\n",
    "        balance = account_details.get('balance', 0)\n",
    "        return cls(name, balance)\n",
    " \n",
    "    @staticmethod\n",
    "    def is_valid_withdrawal(amount, current_balance):\n",
    "        return amount > 0 and amount <= current_balance\n",
    " \n",
    "account1 = BankAccount(\"Bodapati\", 10000)\n",
    "print(account1.balance)\n",
    " \n",
    "account_data = {\"name\": \"Mahesh\", \"balance\": 5000}\n",
    "account2 = BankAccount.from_dict(account_data)\n",
    "print(account2.balance)\n",
    " \n",
    "print(BankAccount.is_valid_withdrawal(3000, account1._balance))\n",
    "print(BankAccount.is_valid_withdrawal(12000, account1._balance))"
   ]
  }
 ],
 "metadata": {
  "kernelspec": {
   "display_name": "Python 3",
   "language": "python",
   "name": "python3"
  },
  "language_info": {
   "codemirror_mode": {
    "name": "ipython",
    "version": 3
   },
   "file_extension": ".py",
   "mimetype": "text/x-python",
   "name": "python",
   "nbconvert_exporter": "python",
   "pygments_lexer": "ipython3",
   "version": "3.13.2"
  }
 },
 "nbformat": 4,
 "nbformat_minor": 2
}
