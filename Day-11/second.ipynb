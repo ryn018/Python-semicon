{
 "cells": [
  {
   "cell_type": "code",
   "execution_count": null,
   "metadata": {},
   "outputs": [],
   "source": [
    "# Operator Overloading"
   ]
  },
  {
   "cell_type": "markdown",
   "metadata": {},
   "source": [
    "Operator Overloading --> is the process of redefining the functionality of existing operators in python for the sake of custom classes. This adds more convinence to work with the objects of the custom classes"
   ]
  },
  {
   "cell_type": "code",
   "execution_count": 2,
   "metadata": {},
   "outputs": [],
   "source": [
    "# How to Overload the operator\n",
    "class ComplexNumber:\n",
    "    def __init__(self,a,b):\n",
    "        self.real = a\n",
    "        self.img = b\n",
    "\n",
    "    def print(self):\n",
    "        return f'{self.real} + j{self.img}'\n",
    "\n"
   ]
  },
  {
   "cell_type": "code",
   "execution_count": 3,
   "metadata": {},
   "outputs": [
    {
     "data": {
      "text/plain": [
       "'10 + j4'"
      ]
     },
     "execution_count": 3,
     "metadata": {},
     "output_type": "execute_result"
    }
   ],
   "source": [
    "a = ComplexNumber(10,4)\n",
    "b = ComplexNumber(5,6)\n",
    "\n",
    "a.print()"
   ]
  },
  {
   "cell_type": "code",
   "execution_count": 4,
   "metadata": {},
   "outputs": [
    {
     "data": {
      "text/plain": [
       "'5 + j6'"
      ]
     },
     "execution_count": 4,
     "metadata": {},
     "output_type": "execute_result"
    }
   ],
   "source": [
    "b.print()"
   ]
  },
  {
   "cell_type": "code",
   "execution_count": 5,
   "metadata": {},
   "outputs": [
    {
     "ename": "TypeError",
     "evalue": "unsupported operand type(s) for +: 'ComplexNumber' and 'ComplexNumber'",
     "output_type": "error",
     "traceback": [
      "\u001b[31m---------------------------------------------------------------------------\u001b[39m",
      "\u001b[31mTypeError\u001b[39m                                 Traceback (most recent call last)",
      "\u001b[36mCell\u001b[39m\u001b[36m \u001b[39m\u001b[32mIn[5]\u001b[39m\u001b[32m, line 1\u001b[39m\n\u001b[32m----> \u001b[39m\u001b[32m1\u001b[39m \u001b[43ma\u001b[49m\u001b[43m \u001b[49m\u001b[43m+\u001b[49m\u001b[43m \u001b[49m\u001b[43mb\u001b[49m\n",
      "\u001b[31mTypeError\u001b[39m: unsupported operand type(s) for +: 'ComplexNumber' and 'ComplexNumber'"
     ]
    }
   ],
   "source": [
    "a + b"
   ]
  },
  {
   "cell_type": "code",
   "execution_count": 6,
   "metadata": {},
   "outputs": [],
   "source": [
    "# Why it does not work?\n",
    "#  +  and - are not meant for objects\n",
    "\n"
   ]
  },
  {
   "cell_type": "code",
   "execution_count": 7,
   "metadata": {},
   "outputs": [],
   "source": [
    "# We can acchive it by operator overloading"
   ]
  },
  {
   "cell_type": "code",
   "execution_count": 8,
   "metadata": {},
   "outputs": [],
   "source": [
    "# How to Overload the operator\n",
    "class ComplexNumber:\n",
    "    def __init__(self,a,b):\n",
    "        self.real = a\n",
    "        self.img = b\n",
    "    \n",
    "    def __add__(self,other): # For overloading  + ==> a __> sel b -- other\n",
    "        return ComplexNumber(self.real + other.real), (self.img + other.img)\n",
    "        \n",
    "\n",
    "    def __sub__(self,other):\n",
    "        def __add__(self,other): # For overloading  + ==> a __> sel b -- other\n",
    "            return ComplexNumber(self.real + other.real), (self.img + other.img)\n",
    "        \n",
    "    \n",
    "\n",
    "    def print(self):\n",
    "        return f'{self.real} + j{self.img}'\n",
    "\n"
   ]
  },
  {
   "cell_type": "code",
   "execution_count": 9,
   "metadata": {},
   "outputs": [
    {
     "ename": "TypeError",
     "evalue": "ComplexNumber.__init__() missing 1 required positional argument: 'b'",
     "output_type": "error",
     "traceback": [
      "\u001b[31m---------------------------------------------------------------------------\u001b[39m",
      "\u001b[31mTypeError\u001b[39m                                 Traceback (most recent call last)",
      "\u001b[36mCell\u001b[39m\u001b[36m \u001b[39m\u001b[32mIn[9]\u001b[39m\u001b[32m, line 4\u001b[39m\n\u001b[32m      1\u001b[39m a = ComplexNumber(\u001b[32m10\u001b[39m,\u001b[32m4\u001b[39m)\n\u001b[32m      2\u001b[39m b = ComplexNumber(\u001b[32m5\u001b[39m,\u001b[32m6\u001b[39m)\n\u001b[32m----> \u001b[39m\u001b[32m4\u001b[39m x = \u001b[43ma\u001b[49m\u001b[43m \u001b[49m\u001b[43m+\u001b[49m\u001b[43m \u001b[49m\u001b[43mb\u001b[49m\n",
      "\u001b[36mCell\u001b[39m\u001b[36m \u001b[39m\u001b[32mIn[8]\u001b[39m\u001b[32m, line 8\u001b[39m, in \u001b[36mComplexNumber.__add__\u001b[39m\u001b[34m(self, other)\u001b[39m\n\u001b[32m      7\u001b[39m \u001b[38;5;28;01mdef\u001b[39;00m\u001b[38;5;250m \u001b[39m\u001b[34m__add__\u001b[39m(\u001b[38;5;28mself\u001b[39m,other): \u001b[38;5;66;03m# For overloading  + ==> a __> sel b -- other\u001b[39;00m\n\u001b[32m----> \u001b[39m\u001b[32m8\u001b[39m     \u001b[38;5;28;01mreturn\u001b[39;00m \u001b[43mComplexNumber\u001b[49m\u001b[43m(\u001b[49m\u001b[38;5;28;43mself\u001b[39;49m\u001b[43m.\u001b[49m\u001b[43mreal\u001b[49m\u001b[43m \u001b[49m\u001b[43m+\u001b[49m\u001b[43m \u001b[49m\u001b[43mother\u001b[49m\u001b[43m.\u001b[49m\u001b[43mreal\u001b[49m\u001b[43m)\u001b[49m, (\u001b[38;5;28mself\u001b[39m.img + other.img)\n",
      "\u001b[31mTypeError\u001b[39m: ComplexNumber.__init__() missing 1 required positional argument: 'b'"
     ]
    }
   ],
   "source": [
    "a = ComplexNumber(10,4)\n",
    "b = ComplexNumber(5,6)\n",
    "\n",
    "x = a + b"
   ]
  },
  {
   "cell_type": "code",
   "execution_count": null,
   "metadata": {},
   "outputs": [],
   "source": [
    "# Static and class method\n",
    "\n",
    "# A class method operates on class rather than on isinstance\n",
    "# it takes cls as the first parameter rather than the self\n",
    "\n",
    "# It can be used to modify class level attributes\n",
    "\n"
   ]
  },
  {
   "cell_type": "code",
   "execution_count": null,
   "metadata": {},
   "outputs": [],
   "source": [
    "class Person:\n",
    "    def __init__(self,name,age):\n",
    "        self.name = name\n",
    "        self.age = age\n",
    "        \n",
    "\n",
    "    def from_birth_year(cls,name,birth_year):\n",
    "        return cls(name,2025 - birth_year) # cls => the class name,\n",
    "        #In the case person -> Person(name,2025-birth_year)\n",
    "    \n",
    "\n",
    "    \n",
    "    \n",
    "        "
   ]
  }
 ],
 "metadata": {
  "kernelspec": {
   "display_name": "Python 3",
   "language": "python",
   "name": "python3"
  },
  "language_info": {
   "codemirror_mode": {
    "name": "ipython",
    "version": 3
   },
   "file_extension": ".py",
   "mimetype": "text/x-python",
   "name": "python",
   "nbconvert_exporter": "python",
   "pygments_lexer": "ipython3",
   "version": "3.13.2"
  }
 },
 "nbformat": 4,
 "nbformat_minor": 2
}
